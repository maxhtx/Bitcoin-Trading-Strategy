{
  "cells": [
    {
      "cell_type": "markdown",
      "metadata": {
        "id": "CHQ8odARZ0IO"
      },
      "source": [
        "#Executive Summary: **Bitcoin Trading**\n",
        "\n",
        "In this project, I have built a trading strategy that uses machine learning to indicate a good time to buy bitcoin.\n",
        "\n",
        "The strategy produces 200% in total returns on capital invested over the test period, with a win rate of 53%\n",
        "\n",
        "One of the major challenges is defining a target variable that will capture enough buying opportunities for the model to be effective.\n",
        "\n",
        "In addition, once the model is build, it is essential that I can set effective take profit and stop loss thresholds, and probability of target thresholds to maximize return.\n",
        "\n",
        "  The steps that I will take are:\n",
        "\n",
        "*   Choose a Take Profit, Stop Loss, Holding Period Setting to use to define a Target Variable\n",
        "*   Build a model\n",
        "*   Define a strategy/ optimal thresholds\n"
      ]
    },
    {
      "cell_type": "markdown",
      "source": [
        "A couple of things to note:\n",
        "\n",
        "\n",
        "\n",
        "*   I have saved my work at various checkpoints\n",
        "*   I have provided the initial dataset, 'Max_Data'\n",
        "*   For computational effeciency, you can load corresponding data from each section from **Github** [Project Github](https://github.com/maxhtx/Bitcoin-Trading-Strategy.git) at these checkpoints\n",
        "*   Sqlite queries, grid searches may take a while to run\n",
        "\n"
      ],
      "metadata": {
        "id": "065iAt4aXSYN"
      }
    },
    {
      "cell_type": "markdown",
      "source": [
        "## Table of Contents"
      ],
      "metadata": {
        "id": "OdJEGw57dh0W"
      }
    },
    {
      "cell_type": "markdown",
      "source": [
        ">[Executive Summary: Bitcoin Trading](#scrollTo=CHQ8odARZ0IO)\n",
        "\n",
        ">>[Table of Contents](#scrollTo=OdJEGw57dh0W)\n",
        "\n",
        ">[Choosing A Setting](#scrollTo=ez7KFNp-Xsrw)\n",
        "\n",
        ">>[The Data](#scrollTo=ShOzUZiqcK0s)\n",
        "\n",
        ">>[Defining Take Profit, Stop Loss, Holding Period Options](#scrollTo=92j-1ISKfHot)\n",
        "\n",
        ">>[Find TP and SL times](#scrollTo=T1lzPtQbSP6I)\n",
        "\n",
        ">>>[TP](#scrollTo=WEtO-hkTSoRQ)\n",
        "\n",
        ">>>[SL](#scrollTo=yYF9b7qfSqRY)\n",
        "\n",
        ">>[Determine SL, TP, HP](#scrollTo=sJseIbDDIHrY)\n",
        "\n",
        ">[Model Building](#scrollTo=0K-ipVXhXiBr)\n",
        "\n",
        ">>[Defining The Target](#scrollTo=HDmk69Iy3pjf)\n",
        "\n",
        ">>[Feature Engineering](#scrollTo=TEEVrbxd37L4)\n",
        "\n",
        ">>[SQL Features](#scrollTo=ZyLr47z7589G)\n",
        "\n",
        ">>[Clean Data](#scrollTo=Cx-mj5-qGnOg)\n",
        "\n",
        ">>>[Drop Columns](#scrollTo=pzOjiCDlGvi4)\n",
        "\n",
        ">>>[Normalize Features](#scrollTo=1BNnbz1mGzK6)\n",
        "\n",
        ">>>[Test Train Split](#scrollTo=dvee2aKTG8ZI)\n",
        "\n",
        ">>[Initial Model](#scrollTo=o0l0LnAWHEnh)\n",
        "\n",
        ">>[Feature Selection](#scrollTo=N4K9yQeQHPo0)\n",
        "\n",
        ">>[Grid Search](#scrollTo=Wxpr-CU-HRww)\n",
        "\n",
        ">>[Final Model](#scrollTo=TIhFSflJHX8Y)\n",
        "\n",
        ">[Strategy](#scrollTo=_hNI0OQAB-_I)\n",
        "\n",
        ">>[Optimal Threshold?](#scrollTo=NacZVzNYObWR)\n",
        "\n",
        ">>[Strategy Building](#scrollTo=f-6POrfoxPDi)\n",
        "\n",
        ">>[Test Strategy](#scrollTo=hJPaIKKFjr-q)\n",
        "\n",
        ">[Summary](#scrollTo=rQTdTgtS0rwX)\n",
        "\n"
      ],
      "metadata": {
        "colab_type": "toc",
        "id": "fPuyHLkQdt6K"
      }
    },
    {
      "cell_type": "markdown",
      "source": [
        "# Choosing A Setting"
      ],
      "metadata": {
        "id": "ez7KFNp-Xsrw"
      }
    },
    {
      "cell_type": "markdown",
      "metadata": {
        "id": "ShOzUZiqcK0s"
      },
      "source": [
        "## The Data\n",
        "\n",
        "Hourly Bitcoin Data from January 1st 2018 to December 31st 2022\n",
        "\n",
        "Samples:\n",
        "\n",
        "*   Train: 2018-10-01 to 2022-04-02 (3.5 years)\n",
        "*   Test 1: 2018-01-01 to 2018-10-01 (0.75 years)\n",
        "*   Test 2: 2022-04-02 to 2022-12-31 (0.75 years)\n",
        "\n",
        "I am testing on early 2018 and late 2022, while training on data in the middle.\n",
        "\n",
        "Perhaps this way I can assess model performance on previous and current market conditions\n",
        "\n",
        "\n"
      ]
    },
    {
      "cell_type": "code",
      "execution_count": 1,
      "metadata": {
        "id": "G24f-ijgcZ6G"
      },
      "outputs": [],
      "source": [
        "import pandas as pd\n",
        "import numpy as np\n",
        "import datetime as dt"
      ]
    },
    {
      "cell_type": "code",
      "source": [
        "from google.colab import drive\n",
        "drive.mount('/content/drive')"
      ],
      "metadata": {
        "colab": {
          "base_uri": "https://localhost:8080/"
        },
        "id": "HpBBrvlsyOvz",
        "outputId": "52620952-9366-4686-9db6-6053c0b32906"
      },
      "execution_count": 6,
      "outputs": [
        {
          "output_type": "stream",
          "name": "stdout",
          "text": [
            "Drive already mounted at /content/drive; to attempt to forcibly remount, call drive.mount(\"/content/drive\", force_remount=True).\n"
          ]
        }
      ]
    },
    {
      "cell_type": "code",
      "execution_count": 7,
      "metadata": {
        "id": "JyIgpY5FY0BM"
      },
      "outputs": [],
      "source": [
        "#Apply appropriate File Path\n",
        "\n",
        "btc = pd.read_csv('/content/drive/MyDrive/Datasets/Max_Data.csv')"
      ]
    },
    {
      "cell_type": "code",
      "execution_count": 8,
      "metadata": {
        "colab": {
          "base_uri": "https://localhost:8080/",
          "height": 206
        },
        "id": "8A2ccMUEcfT3",
        "outputId": "83f60ab6-7f8c-418e-da97-90dfdae77a8a"
      },
      "outputs": [
        {
          "output_type": "execute_result",
          "data": {
            "text/plain": [
              "           open          high           low         close      volume  \\\n",
              "0           NaN           NaN           NaN           NaN         NaN   \n",
              "1  13527.841167  13595.259915  13153.294540  13203.699294  384.940892   \n",
              "2  13203.567250  13419.331793  13199.152380  13331.250914  429.888403   \n",
              "3  13332.298878  13612.086569  13288.738587  13408.246493  421.922265   \n",
              "4  13432.589137  13621.198504  13318.180709  13596.151799  342.690926   \n",
              "\n",
              "                  date  \n",
              "0  2018-01-01 00:00:00  \n",
              "1  2018-01-01 01:00:00  \n",
              "2  2018-01-01 02:00:00  \n",
              "3  2018-01-01 03:00:00  \n",
              "4  2018-01-01 04:00:00  "
            ],
            "text/html": [
              "\n",
              "  <div id=\"df-c6154963-ab37-4ee4-bada-385e8538ea80\" class=\"colab-df-container\">\n",
              "    <div>\n",
              "<style scoped>\n",
              "    .dataframe tbody tr th:only-of-type {\n",
              "        vertical-align: middle;\n",
              "    }\n",
              "\n",
              "    .dataframe tbody tr th {\n",
              "        vertical-align: top;\n",
              "    }\n",
              "\n",
              "    .dataframe thead th {\n",
              "        text-align: right;\n",
              "    }\n",
              "</style>\n",
              "<table border=\"1\" class=\"dataframe\">\n",
              "  <thead>\n",
              "    <tr style=\"text-align: right;\">\n",
              "      <th></th>\n",
              "      <th>open</th>\n",
              "      <th>high</th>\n",
              "      <th>low</th>\n",
              "      <th>close</th>\n",
              "      <th>volume</th>\n",
              "      <th>date</th>\n",
              "    </tr>\n",
              "  </thead>\n",
              "  <tbody>\n",
              "    <tr>\n",
              "      <th>0</th>\n",
              "      <td>NaN</td>\n",
              "      <td>NaN</td>\n",
              "      <td>NaN</td>\n",
              "      <td>NaN</td>\n",
              "      <td>NaN</td>\n",
              "      <td>2018-01-01 00:00:00</td>\n",
              "    </tr>\n",
              "    <tr>\n",
              "      <th>1</th>\n",
              "      <td>13527.841167</td>\n",
              "      <td>13595.259915</td>\n",
              "      <td>13153.294540</td>\n",
              "      <td>13203.699294</td>\n",
              "      <td>384.940892</td>\n",
              "      <td>2018-01-01 01:00:00</td>\n",
              "    </tr>\n",
              "    <tr>\n",
              "      <th>2</th>\n",
              "      <td>13203.567250</td>\n",
              "      <td>13419.331793</td>\n",
              "      <td>13199.152380</td>\n",
              "      <td>13331.250914</td>\n",
              "      <td>429.888403</td>\n",
              "      <td>2018-01-01 02:00:00</td>\n",
              "    </tr>\n",
              "    <tr>\n",
              "      <th>3</th>\n",
              "      <td>13332.298878</td>\n",
              "      <td>13612.086569</td>\n",
              "      <td>13288.738587</td>\n",
              "      <td>13408.246493</td>\n",
              "      <td>421.922265</td>\n",
              "      <td>2018-01-01 03:00:00</td>\n",
              "    </tr>\n",
              "    <tr>\n",
              "      <th>4</th>\n",
              "      <td>13432.589137</td>\n",
              "      <td>13621.198504</td>\n",
              "      <td>13318.180709</td>\n",
              "      <td>13596.151799</td>\n",
              "      <td>342.690926</td>\n",
              "      <td>2018-01-01 04:00:00</td>\n",
              "    </tr>\n",
              "  </tbody>\n",
              "</table>\n",
              "</div>\n",
              "    <div class=\"colab-df-buttons\">\n",
              "\n",
              "  <div class=\"colab-df-container\">\n",
              "    <button class=\"colab-df-convert\" onclick=\"convertToInteractive('df-c6154963-ab37-4ee4-bada-385e8538ea80')\"\n",
              "            title=\"Convert this dataframe to an interactive table.\"\n",
              "            style=\"display:none;\">\n",
              "\n",
              "  <svg xmlns=\"http://www.w3.org/2000/svg\" height=\"24px\" viewBox=\"0 -960 960 960\">\n",
              "    <path d=\"M120-120v-720h720v720H120Zm60-500h600v-160H180v160Zm220 220h160v-160H400v160Zm0 220h160v-160H400v160ZM180-400h160v-160H180v160Zm440 0h160v-160H620v160ZM180-180h160v-160H180v160Zm440 0h160v-160H620v160Z\"/>\n",
              "  </svg>\n",
              "    </button>\n",
              "\n",
              "  <style>\n",
              "    .colab-df-container {\n",
              "      display:flex;\n",
              "      gap: 12px;\n",
              "    }\n",
              "\n",
              "    .colab-df-convert {\n",
              "      background-color: #E8F0FE;\n",
              "      border: none;\n",
              "      border-radius: 50%;\n",
              "      cursor: pointer;\n",
              "      display: none;\n",
              "      fill: #1967D2;\n",
              "      height: 32px;\n",
              "      padding: 0 0 0 0;\n",
              "      width: 32px;\n",
              "    }\n",
              "\n",
              "    .colab-df-convert:hover {\n",
              "      background-color: #E2EBFA;\n",
              "      box-shadow: 0px 1px 2px rgba(60, 64, 67, 0.3), 0px 1px 3px 1px rgba(60, 64, 67, 0.15);\n",
              "      fill: #174EA6;\n",
              "    }\n",
              "\n",
              "    .colab-df-buttons div {\n",
              "      margin-bottom: 4px;\n",
              "    }\n",
              "\n",
              "    [theme=dark] .colab-df-convert {\n",
              "      background-color: #3B4455;\n",
              "      fill: #D2E3FC;\n",
              "    }\n",
              "\n",
              "    [theme=dark] .colab-df-convert:hover {\n",
              "      background-color: #434B5C;\n",
              "      box-shadow: 0px 1px 3px 1px rgba(0, 0, 0, 0.15);\n",
              "      filter: drop-shadow(0px 1px 2px rgba(0, 0, 0, 0.3));\n",
              "      fill: #FFFFFF;\n",
              "    }\n",
              "  </style>\n",
              "\n",
              "    <script>\n",
              "      const buttonEl =\n",
              "        document.querySelector('#df-c6154963-ab37-4ee4-bada-385e8538ea80 button.colab-df-convert');\n",
              "      buttonEl.style.display =\n",
              "        google.colab.kernel.accessAllowed ? 'block' : 'none';\n",
              "\n",
              "      async function convertToInteractive(key) {\n",
              "        const element = document.querySelector('#df-c6154963-ab37-4ee4-bada-385e8538ea80');\n",
              "        const dataTable =\n",
              "          await google.colab.kernel.invokeFunction('convertToInteractive',\n",
              "                                                    [key], {});\n",
              "        if (!dataTable) return;\n",
              "\n",
              "        const docLinkHtml = 'Like what you see? Visit the ' +\n",
              "          '<a target=\"_blank\" href=https://colab.research.google.com/notebooks/data_table.ipynb>data table notebook</a>'\n",
              "          + ' to learn more about interactive tables.';\n",
              "        element.innerHTML = '';\n",
              "        dataTable['output_type'] = 'display_data';\n",
              "        await google.colab.output.renderOutput(dataTable, element);\n",
              "        const docLink = document.createElement('div');\n",
              "        docLink.innerHTML = docLinkHtml;\n",
              "        element.appendChild(docLink);\n",
              "      }\n",
              "    </script>\n",
              "  </div>\n",
              "\n",
              "\n",
              "<div id=\"df-bac20d96-8b45-4072-8f55-a6237a2803de\">\n",
              "  <button class=\"colab-df-quickchart\" onclick=\"quickchart('df-bac20d96-8b45-4072-8f55-a6237a2803de')\"\n",
              "            title=\"Suggest charts\"\n",
              "            style=\"display:none;\">\n",
              "\n",
              "<svg xmlns=\"http://www.w3.org/2000/svg\" height=\"24px\"viewBox=\"0 0 24 24\"\n",
              "     width=\"24px\">\n",
              "    <g>\n",
              "        <path d=\"M19 3H5c-1.1 0-2 .9-2 2v14c0 1.1.9 2 2 2h14c1.1 0 2-.9 2-2V5c0-1.1-.9-2-2-2zM9 17H7v-7h2v7zm4 0h-2V7h2v10zm4 0h-2v-4h2v4z\"/>\n",
              "    </g>\n",
              "</svg>\n",
              "  </button>\n",
              "\n",
              "<style>\n",
              "  .colab-df-quickchart {\n",
              "      --bg-color: #E8F0FE;\n",
              "      --fill-color: #1967D2;\n",
              "      --hover-bg-color: #E2EBFA;\n",
              "      --hover-fill-color: #174EA6;\n",
              "      --disabled-fill-color: #AAA;\n",
              "      --disabled-bg-color: #DDD;\n",
              "  }\n",
              "\n",
              "  [theme=dark] .colab-df-quickchart {\n",
              "      --bg-color: #3B4455;\n",
              "      --fill-color: #D2E3FC;\n",
              "      --hover-bg-color: #434B5C;\n",
              "      --hover-fill-color: #FFFFFF;\n",
              "      --disabled-bg-color: #3B4455;\n",
              "      --disabled-fill-color: #666;\n",
              "  }\n",
              "\n",
              "  .colab-df-quickchart {\n",
              "    background-color: var(--bg-color);\n",
              "    border: none;\n",
              "    border-radius: 50%;\n",
              "    cursor: pointer;\n",
              "    display: none;\n",
              "    fill: var(--fill-color);\n",
              "    height: 32px;\n",
              "    padding: 0;\n",
              "    width: 32px;\n",
              "  }\n",
              "\n",
              "  .colab-df-quickchart:hover {\n",
              "    background-color: var(--hover-bg-color);\n",
              "    box-shadow: 0 1px 2px rgba(60, 64, 67, 0.3), 0 1px 3px 1px rgba(60, 64, 67, 0.15);\n",
              "    fill: var(--button-hover-fill-color);\n",
              "  }\n",
              "\n",
              "  .colab-df-quickchart-complete:disabled,\n",
              "  .colab-df-quickchart-complete:disabled:hover {\n",
              "    background-color: var(--disabled-bg-color);\n",
              "    fill: var(--disabled-fill-color);\n",
              "    box-shadow: none;\n",
              "  }\n",
              "\n",
              "  .colab-df-spinner {\n",
              "    border: 2px solid var(--fill-color);\n",
              "    border-color: transparent;\n",
              "    border-bottom-color: var(--fill-color);\n",
              "    animation:\n",
              "      spin 1s steps(1) infinite;\n",
              "  }\n",
              "\n",
              "  @keyframes spin {\n",
              "    0% {\n",
              "      border-color: transparent;\n",
              "      border-bottom-color: var(--fill-color);\n",
              "      border-left-color: var(--fill-color);\n",
              "    }\n",
              "    20% {\n",
              "      border-color: transparent;\n",
              "      border-left-color: var(--fill-color);\n",
              "      border-top-color: var(--fill-color);\n",
              "    }\n",
              "    30% {\n",
              "      border-color: transparent;\n",
              "      border-left-color: var(--fill-color);\n",
              "      border-top-color: var(--fill-color);\n",
              "      border-right-color: var(--fill-color);\n",
              "    }\n",
              "    40% {\n",
              "      border-color: transparent;\n",
              "      border-right-color: var(--fill-color);\n",
              "      border-top-color: var(--fill-color);\n",
              "    }\n",
              "    60% {\n",
              "      border-color: transparent;\n",
              "      border-right-color: var(--fill-color);\n",
              "    }\n",
              "    80% {\n",
              "      border-color: transparent;\n",
              "      border-right-color: var(--fill-color);\n",
              "      border-bottom-color: var(--fill-color);\n",
              "    }\n",
              "    90% {\n",
              "      border-color: transparent;\n",
              "      border-bottom-color: var(--fill-color);\n",
              "    }\n",
              "  }\n",
              "</style>\n",
              "\n",
              "  <script>\n",
              "    async function quickchart(key) {\n",
              "      const quickchartButtonEl =\n",
              "        document.querySelector('#' + key + ' button');\n",
              "      quickchartButtonEl.disabled = true;  // To prevent multiple clicks.\n",
              "      quickchartButtonEl.classList.add('colab-df-spinner');\n",
              "      try {\n",
              "        const charts = await google.colab.kernel.invokeFunction(\n",
              "            'suggestCharts', [key], {});\n",
              "      } catch (error) {\n",
              "        console.error('Error during call to suggestCharts:', error);\n",
              "      }\n",
              "      quickchartButtonEl.classList.remove('colab-df-spinner');\n",
              "      quickchartButtonEl.classList.add('colab-df-quickchart-complete');\n",
              "    }\n",
              "    (() => {\n",
              "      let quickchartButtonEl =\n",
              "        document.querySelector('#df-bac20d96-8b45-4072-8f55-a6237a2803de button');\n",
              "      quickchartButtonEl.style.display =\n",
              "        google.colab.kernel.accessAllowed ? 'block' : 'none';\n",
              "    })();\n",
              "  </script>\n",
              "</div>\n",
              "\n",
              "    </div>\n",
              "  </div>\n"
            ],
            "application/vnd.google.colaboratory.intrinsic+json": {
              "type": "dataframe",
              "variable_name": "btc",
              "summary": "{\n  \"name\": \"btc\",\n  \"rows\": 43824,\n  \"fields\": [\n    {\n      \"column\": \"open\",\n      \"properties\": {\n        \"dtype\": \"number\",\n        \"std\": 16976.219059416188,\n        \"min\": 3172.610886673922,\n        \"max\": 68631.92901624682,\n        \"num_unique_values\": 43823,\n        \"samples\": [\n          9363.205808602575,\n          10489.676613003026,\n          16587.649389330127\n        ],\n        \"semantic_type\": \"\",\n        \"description\": \"\"\n      }\n    },\n    {\n      \"column\": \"high\",\n      \"properties\": {\n        \"dtype\": \"number\",\n        \"std\": 17074.02377781745,\n        \"min\": 3184.768605016774,\n        \"max\": 69003.08310289701,\n        \"num_unique_values\": 43802,\n        \"samples\": [\n          35243.28638670973,\n          11025.94283609942,\n          7339.453985425193\n        ],\n        \"semantic_type\": \"\",\n        \"description\": \"\"\n      }\n    },\n    {\n      \"column\": \"low\",\n      \"properties\": {\n        \"dtype\": \"number\",\n        \"std\": 16872.572167913855,\n        \"min\": 3156.2822048918824,\n        \"max\": 68444.46608693434,\n        \"num_unique_values\": 43808,\n        \"samples\": [\n          9631.077787435455,\n          7136.817149624202,\n          53664.17690900552\n        ],\n        \"semantic_type\": \"\",\n        \"description\": \"\"\n      }\n    },\n    {\n      \"column\": \"close\",\n      \"properties\": {\n        \"dtype\": \"number\",\n        \"std\": 16976.200595792638,\n        \"min\": 3172.045816914156,\n        \"max\": 68630.94605501188,\n        \"num_unique_values\": 43823,\n        \"samples\": [\n          9363.48577235462,\n          10634.887326036363,\n          16583.304378908215\n        ],\n        \"semantic_type\": \"\",\n        \"description\": \"\"\n      }\n    },\n    {\n      \"column\": \"volume\",\n      \"properties\": {\n        \"dtype\": \"number\",\n        \"std\": 4050.4805543159237,\n        \"min\": 0.68759243,\n        \"max\": 140549.74369867,\n        \"num_unique_values\": 43823,\n        \"samples\": [\n          840.7967929199999,\n          1022.05870429,\n          6331.09823314\n        ],\n        \"semantic_type\": \"\",\n        \"description\": \"\"\n      }\n    },\n    {\n      \"column\": \"date\",\n      \"properties\": {\n        \"dtype\": \"object\",\n        \"num_unique_values\": 43824,\n        \"samples\": [\n          \"2020-06-21 08:00:00\",\n          \"2018-03-07 10:00:00\",\n          \"2022-01-13 07:00:00\"\n        ],\n        \"semantic_type\": \"\",\n        \"description\": \"\"\n      }\n    }\n  ]\n}"
            }
          },
          "metadata": {},
          "execution_count": 8
        }
      ],
      "source": [
        "btc.head()"
      ]
    },
    {
      "cell_type": "code",
      "execution_count": null,
      "metadata": {
        "id": "1QzWFcS9dEfZ"
      },
      "outputs": [],
      "source": [
        "btc.drop([0], axis=0, inplace=True)\n",
        "btc.reset_index(drop=True, inplace=True)"
      ]
    },
    {
      "cell_type": "code",
      "execution_count": null,
      "metadata": {
        "colab": {
          "base_uri": "https://localhost:8080/"
        },
        "id": "WXCDJMCEdnpY",
        "outputId": "1575694f-73d8-4255-a815-219095ca42eb"
      },
      "outputs": [
        {
          "output_type": "execute_result",
          "data": {
            "text/plain": [
              "open      0\n",
              "high      0\n",
              "low       0\n",
              "close     0\n",
              "volume    0\n",
              "date      0\n",
              "dtype: int64"
            ]
          },
          "metadata": {},
          "execution_count": 59
        }
      ],
      "source": [
        "btc.isnull().sum()"
      ]
    },
    {
      "cell_type": "code",
      "execution_count": null,
      "metadata": {
        "colab": {
          "base_uri": "https://localhost:8080/"
        },
        "id": "T86G_JYzdv4_",
        "outputId": "4f538cd5-4165-45da-f1b3-2091365a1c97"
      },
      "outputs": [
        {
          "output_type": "execute_result",
          "data": {
            "text/plain": [
              "True"
            ]
          },
          "metadata": {},
          "execution_count": 60
        }
      ],
      "source": [
        "btc['date'].nunique() == len(btc)"
      ]
    },
    {
      "cell_type": "code",
      "execution_count": null,
      "metadata": {
        "id": "8ref-KtNf4c2"
      },
      "outputs": [],
      "source": [
        "import datetime as dt\n",
        "btc['date'] = pd.to_datetime(btc['date'])"
      ]
    },
    {
      "cell_type": "code",
      "execution_count": null,
      "metadata": {
        "id": "AonUiovPgKMD"
      },
      "outputs": [],
      "source": [
        "btc['time_in_seconds'] = btc['date'].apply(lambda x: x.timestamp())"
      ]
    },
    {
      "cell_type": "markdown",
      "metadata": {
        "id": "92j-1ISKfHot"
      },
      "source": [
        "## Defining Take Profit, Stop Loss, Holding Period Options"
      ]
    },
    {
      "cell_type": "markdown",
      "metadata": {
        "id": "2ZPz4ULFNLGU"
      },
      "source": [
        "First, I want to define the Take Profit/Stop Loss options based on returns in the previous 10 hours and 15 hours\n",
        "\n",
        "Take Profit:\n",
        "1. 98th Percentile of Returns in the last 10 hrs\n",
        "2. 98th Percentile of Returns in the last 15 hrs\n",
        "3. 2*standard deviation of returns in the last 10 hrs\n",
        "4. 2*standard deviation of returns in the last 15 hrs\n",
        "5. Max Return in the last 10 hours\n",
        "6. Max Return in the last 15 hours\n",
        "\n",
        "Stop Loss:\n",
        "1. 5th Percentile of Returns in the last 10 hrs\n",
        "2. 5th Percentile of Returns in the last 15 hrs\n",
        "3. -2*standard deviation of returns in the last 10 hrs\n",
        "4. -2*standard deviation of returns in the last 15 hrs\n",
        "5. Min Return in the last 10 hours\n",
        "6. Min Return in the last 15 hours\n",
        "\n",
        "\n",
        "I am using returns based on the **Current** close price\n",
        "\n",
        "for example, 2*stdev of returns in the last 2 hours at 3pm would look like\n",
        "\n",
        "\n",
        "| Time | Close | Return |\n",
        "|----------|----------|----------|\n",
        "| 1PM | 100 | (200-100)/100 = 100% |\n",
        "| 2PM | 110 | (200-110)110 = 82% |\n",
        "| 3PM | 200 |  |\n",
        "\n",
        "\n",
        "Standard Dev. of Returns = STD(100%, 82%) = 59%\n",
        "\n",
        "Later, I will use SQL to determine Take Profit and Stop Loss Times\n"
      ]
    },
    {
      "cell_type": "markdown",
      "source": [
        "This Function looks n hours back and calculates returns, then the respective function of returns (Percentiles, Stdev, MinMax).\n",
        "\n",
        "I found it easier to do this with a python function, as Sqlite doesnt support funtions like Stdev."
      ],
      "metadata": {
        "id": "N0KOXnXtTaTH"
      }
    },
    {
      "cell_type": "code",
      "execution_count": null,
      "metadata": {
        "id": "ya0wG7OnHd4H"
      },
      "outputs": [],
      "source": [
        "import pandas as pd\n",
        "import numpy as np\n",
        "\n",
        "def calculate_statistics(df, n):\n",
        "    returns_list = []\n",
        "    for i in range(len(df)):\n",
        "        if i < n:\n",
        "            returns_list.append(None)\n",
        "        else:\n",
        "            returns = [(df.iloc[i]['close'] - df.iloc[i-j]['close']) / df.iloc[i-j]['close'] for j in range(1, n+1)]\n",
        "            returns_list.append(returns)\n",
        "\n",
        "\n",
        "    percentile_98_returns = [np.percentile(list(filter(None, returns)), 98) if returns else None for returns in returns_list]\n",
        "    std_dev_returns = [2 * np.std(list(filter(None, returns))) if returns else None for returns in returns_list]\n",
        "    max_returns = [max(filter(None, returns)) if returns else None for returns in returns_list]\n",
        "\n",
        "    percentile_5_returns = [np.percentile(list(filter(None, returns)), 5) if returns else None for returns in returns_list]\n",
        "    std_dev_returns_neg = [-2 * np.std(list(filter(None, returns))) if returns else None for returns in returns_list]\n",
        "    min_returns = [min(filter(None, returns)) if returns else None for returns in returns_list]\n",
        "\n",
        "    return percentile_98_returns, std_dev_returns, max_returns, percentile_5_returns, std_dev_returns_neg, min_returns\n",
        "\n",
        "percentile_98_returns_10, std_dev_returns_10, max_returns_10, percentile_5_returns_10, std_dev_returns_10_neg, min_returns_10 = calculate_statistics(btc, 10)\n",
        "percentile_98_returns_15, std_dev_returns_15, max_returns_15, percentile_5_returns_15, std_dev_returns_15_neg, min_returns_15 = calculate_statistics(btc, 15)\n",
        "\n",
        "btc['Percentile_98th_Returns_10'] = percentile_98_returns_10\n",
        "btc['Std_Dev_Returns_10'] = std_dev_returns_10\n",
        "btc['Max_Returns_10'] = max_returns_10\n",
        "\n",
        "btc['Percentile_5th_Returns_10'] = percentile_5_returns_10\n",
        "btc['Std_Dev_Returns_10_Neg'] = std_dev_returns_10_neg\n",
        "btc['Min_Returns_10'] = min_returns_10\n",
        "\n",
        "btc['Percentile_98th_Returns_15'] = percentile_98_returns_15\n",
        "btc['Std_Dev_Returns_15'] = std_dev_returns_15\n",
        "btc['Max_Returns_15'] = max_returns_15\n",
        "\n",
        "btc['Percentile_5th_Returns_15'] = percentile_5_returns_10\n",
        "btc['Std_Dev_Returns_15_Neg'] = std_dev_returns_15_neg\n",
        "btc['Min_Returns_15'] = min_returns_15"
      ]
    },
    {
      "cell_type": "code",
      "execution_count": null,
      "metadata": {
        "colab": {
          "base_uri": "https://localhost:8080/",
          "height": 320
        },
        "id": "L1G4qy78O0cY",
        "outputId": "3fbf49de-bf9d-480d-cafc-8433ab32f2c8"
      },
      "outputs": [
        {
          "output_type": "execute_result",
          "data": {
            "text/plain": [
              "       Percentile_98th_Returns_10  Std_Dev_Returns_10  Max_Returns_10  \\\n",
              "count                43813.000000        43813.000000    43813.000000   \n",
              "mean                     0.011704            0.015161        0.012386   \n",
              "std                      0.018446            0.014113        0.018811   \n",
              "min                     -0.182368            0.000498       -0.181901   \n",
              "25%                      0.002050            0.006100        0.002447   \n",
              "50%                      0.006880            0.010801        0.007366   \n",
              "75%                      0.016550            0.019302        0.017316   \n",
              "max                      0.327134            0.266001        0.354577   \n",
              "\n",
              "       Percentile_5th_Returns_10  Std_Dev_Returns_10_Neg  Min_Returns_10  \\\n",
              "count               43813.000000            43813.000000    43813.000000   \n",
              "mean                   -0.009882               -0.015161       -0.011347   \n",
              "std                     0.017253                0.014113        0.017664   \n",
              "min                    -0.325517               -0.266001       -0.326389   \n",
              "25%                    -0.014046               -0.019302       -0.015626   \n",
              "50%                    -0.005283               -0.010801       -0.006301   \n",
              "75%                    -0.001047               -0.006100       -0.001908   \n",
              "max                     0.129873               -0.000498        0.105933   \n",
              "\n",
              "       Percentile_98th_Returns_15  Std_Dev_Returns_15  Max_Returns_15  \\\n",
              "count                43808.000000        43808.000000    43808.000000   \n",
              "mean                     0.015468            0.018883        0.016531   \n",
              "std                      0.022234            0.016694        0.022781   \n",
              "min                     -0.182628            0.000838       -0.181901   \n",
              "25%                      0.003104            0.007910        0.003666   \n",
              "50%                      0.009143            0.014044        0.009916   \n",
              "75%                      0.021927            0.024206        0.023135   \n",
              "max                      0.322538            0.247472        0.357668   \n",
              "\n",
              "       Percentile_5th_Returns_15  Std_Dev_Returns_15_Neg  Min_Returns_15  \n",
              "count               43813.000000            43808.000000    43808.000000  \n",
              "mean                   -0.009882               -0.018883       -0.014890  \n",
              "std                     0.017253                0.016694        0.021211  \n",
              "min                    -0.325517               -0.247472       -0.367095  \n",
              "25%                    -0.014046               -0.024206       -0.020357  \n",
              "50%                    -0.005283               -0.014044       -0.008426  \n",
              "75%                    -0.001047               -0.007910       -0.002857  \n",
              "max                     0.129873               -0.000838        0.105933  "
            ],
            "text/html": [
              "\n",
              "  <div id=\"df-d554ddde-f7fa-45a8-a4c5-b6a17b77f670\" class=\"colab-df-container\">\n",
              "    <div>\n",
              "<style scoped>\n",
              "    .dataframe tbody tr th:only-of-type {\n",
              "        vertical-align: middle;\n",
              "    }\n",
              "\n",
              "    .dataframe tbody tr th {\n",
              "        vertical-align: top;\n",
              "    }\n",
              "\n",
              "    .dataframe thead th {\n",
              "        text-align: right;\n",
              "    }\n",
              "</style>\n",
              "<table border=\"1\" class=\"dataframe\">\n",
              "  <thead>\n",
              "    <tr style=\"text-align: right;\">\n",
              "      <th></th>\n",
              "      <th>Percentile_98th_Returns_10</th>\n",
              "      <th>Std_Dev_Returns_10</th>\n",
              "      <th>Max_Returns_10</th>\n",
              "      <th>Percentile_5th_Returns_10</th>\n",
              "      <th>Std_Dev_Returns_10_Neg</th>\n",
              "      <th>Min_Returns_10</th>\n",
              "      <th>Percentile_98th_Returns_15</th>\n",
              "      <th>Std_Dev_Returns_15</th>\n",
              "      <th>Max_Returns_15</th>\n",
              "      <th>Percentile_5th_Returns_15</th>\n",
              "      <th>Std_Dev_Returns_15_Neg</th>\n",
              "      <th>Min_Returns_15</th>\n",
              "    </tr>\n",
              "  </thead>\n",
              "  <tbody>\n",
              "    <tr>\n",
              "      <th>count</th>\n",
              "      <td>43813.000000</td>\n",
              "      <td>43813.000000</td>\n",
              "      <td>43813.000000</td>\n",
              "      <td>43813.000000</td>\n",
              "      <td>43813.000000</td>\n",
              "      <td>43813.000000</td>\n",
              "      <td>43808.000000</td>\n",
              "      <td>43808.000000</td>\n",
              "      <td>43808.000000</td>\n",
              "      <td>43813.000000</td>\n",
              "      <td>43808.000000</td>\n",
              "      <td>43808.000000</td>\n",
              "    </tr>\n",
              "    <tr>\n",
              "      <th>mean</th>\n",
              "      <td>0.011704</td>\n",
              "      <td>0.015161</td>\n",
              "      <td>0.012386</td>\n",
              "      <td>-0.009882</td>\n",
              "      <td>-0.015161</td>\n",
              "      <td>-0.011347</td>\n",
              "      <td>0.015468</td>\n",
              "      <td>0.018883</td>\n",
              "      <td>0.016531</td>\n",
              "      <td>-0.009882</td>\n",
              "      <td>-0.018883</td>\n",
              "      <td>-0.014890</td>\n",
              "    </tr>\n",
              "    <tr>\n",
              "      <th>std</th>\n",
              "      <td>0.018446</td>\n",
              "      <td>0.014113</td>\n",
              "      <td>0.018811</td>\n",
              "      <td>0.017253</td>\n",
              "      <td>0.014113</td>\n",
              "      <td>0.017664</td>\n",
              "      <td>0.022234</td>\n",
              "      <td>0.016694</td>\n",
              "      <td>0.022781</td>\n",
              "      <td>0.017253</td>\n",
              "      <td>0.016694</td>\n",
              "      <td>0.021211</td>\n",
              "    </tr>\n",
              "    <tr>\n",
              "      <th>min</th>\n",
              "      <td>-0.182368</td>\n",
              "      <td>0.000498</td>\n",
              "      <td>-0.181901</td>\n",
              "      <td>-0.325517</td>\n",
              "      <td>-0.266001</td>\n",
              "      <td>-0.326389</td>\n",
              "      <td>-0.182628</td>\n",
              "      <td>0.000838</td>\n",
              "      <td>-0.181901</td>\n",
              "      <td>-0.325517</td>\n",
              "      <td>-0.247472</td>\n",
              "      <td>-0.367095</td>\n",
              "    </tr>\n",
              "    <tr>\n",
              "      <th>25%</th>\n",
              "      <td>0.002050</td>\n",
              "      <td>0.006100</td>\n",
              "      <td>0.002447</td>\n",
              "      <td>-0.014046</td>\n",
              "      <td>-0.019302</td>\n",
              "      <td>-0.015626</td>\n",
              "      <td>0.003104</td>\n",
              "      <td>0.007910</td>\n",
              "      <td>0.003666</td>\n",
              "      <td>-0.014046</td>\n",
              "      <td>-0.024206</td>\n",
              "      <td>-0.020357</td>\n",
              "    </tr>\n",
              "    <tr>\n",
              "      <th>50%</th>\n",
              "      <td>0.006880</td>\n",
              "      <td>0.010801</td>\n",
              "      <td>0.007366</td>\n",
              "      <td>-0.005283</td>\n",
              "      <td>-0.010801</td>\n",
              "      <td>-0.006301</td>\n",
              "      <td>0.009143</td>\n",
              "      <td>0.014044</td>\n",
              "      <td>0.009916</td>\n",
              "      <td>-0.005283</td>\n",
              "      <td>-0.014044</td>\n",
              "      <td>-0.008426</td>\n",
              "    </tr>\n",
              "    <tr>\n",
              "      <th>75%</th>\n",
              "      <td>0.016550</td>\n",
              "      <td>0.019302</td>\n",
              "      <td>0.017316</td>\n",
              "      <td>-0.001047</td>\n",
              "      <td>-0.006100</td>\n",
              "      <td>-0.001908</td>\n",
              "      <td>0.021927</td>\n",
              "      <td>0.024206</td>\n",
              "      <td>0.023135</td>\n",
              "      <td>-0.001047</td>\n",
              "      <td>-0.007910</td>\n",
              "      <td>-0.002857</td>\n",
              "    </tr>\n",
              "    <tr>\n",
              "      <th>max</th>\n",
              "      <td>0.327134</td>\n",
              "      <td>0.266001</td>\n",
              "      <td>0.354577</td>\n",
              "      <td>0.129873</td>\n",
              "      <td>-0.000498</td>\n",
              "      <td>0.105933</td>\n",
              "      <td>0.322538</td>\n",
              "      <td>0.247472</td>\n",
              "      <td>0.357668</td>\n",
              "      <td>0.129873</td>\n",
              "      <td>-0.000838</td>\n",
              "      <td>0.105933</td>\n",
              "    </tr>\n",
              "  </tbody>\n",
              "</table>\n",
              "</div>\n",
              "    <div class=\"colab-df-buttons\">\n",
              "\n",
              "  <div class=\"colab-df-container\">\n",
              "    <button class=\"colab-df-convert\" onclick=\"convertToInteractive('df-d554ddde-f7fa-45a8-a4c5-b6a17b77f670')\"\n",
              "            title=\"Convert this dataframe to an interactive table.\"\n",
              "            style=\"display:none;\">\n",
              "\n",
              "  <svg xmlns=\"http://www.w3.org/2000/svg\" height=\"24px\" viewBox=\"0 -960 960 960\">\n",
              "    <path d=\"M120-120v-720h720v720H120Zm60-500h600v-160H180v160Zm220 220h160v-160H400v160Zm0 220h160v-160H400v160ZM180-400h160v-160H180v160Zm440 0h160v-160H620v160ZM180-180h160v-160H180v160Zm440 0h160v-160H620v160Z\"/>\n",
              "  </svg>\n",
              "    </button>\n",
              "\n",
              "  <style>\n",
              "    .colab-df-container {\n",
              "      display:flex;\n",
              "      gap: 12px;\n",
              "    }\n",
              "\n",
              "    .colab-df-convert {\n",
              "      background-color: #E8F0FE;\n",
              "      border: none;\n",
              "      border-radius: 50%;\n",
              "      cursor: pointer;\n",
              "      display: none;\n",
              "      fill: #1967D2;\n",
              "      height: 32px;\n",
              "      padding: 0 0 0 0;\n",
              "      width: 32px;\n",
              "    }\n",
              "\n",
              "    .colab-df-convert:hover {\n",
              "      background-color: #E2EBFA;\n",
              "      box-shadow: 0px 1px 2px rgba(60, 64, 67, 0.3), 0px 1px 3px 1px rgba(60, 64, 67, 0.15);\n",
              "      fill: #174EA6;\n",
              "    }\n",
              "\n",
              "    .colab-df-buttons div {\n",
              "      margin-bottom: 4px;\n",
              "    }\n",
              "\n",
              "    [theme=dark] .colab-df-convert {\n",
              "      background-color: #3B4455;\n",
              "      fill: #D2E3FC;\n",
              "    }\n",
              "\n",
              "    [theme=dark] .colab-df-convert:hover {\n",
              "      background-color: #434B5C;\n",
              "      box-shadow: 0px 1px 3px 1px rgba(0, 0, 0, 0.15);\n",
              "      filter: drop-shadow(0px 1px 2px rgba(0, 0, 0, 0.3));\n",
              "      fill: #FFFFFF;\n",
              "    }\n",
              "  </style>\n",
              "\n",
              "    <script>\n",
              "      const buttonEl =\n",
              "        document.querySelector('#df-d554ddde-f7fa-45a8-a4c5-b6a17b77f670 button.colab-df-convert');\n",
              "      buttonEl.style.display =\n",
              "        google.colab.kernel.accessAllowed ? 'block' : 'none';\n",
              "\n",
              "      async function convertToInteractive(key) {\n",
              "        const element = document.querySelector('#df-d554ddde-f7fa-45a8-a4c5-b6a17b77f670');\n",
              "        const dataTable =\n",
              "          await google.colab.kernel.invokeFunction('convertToInteractive',\n",
              "                                                    [key], {});\n",
              "        if (!dataTable) return;\n",
              "\n",
              "        const docLinkHtml = 'Like what you see? Visit the ' +\n",
              "          '<a target=\"_blank\" href=https://colab.research.google.com/notebooks/data_table.ipynb>data table notebook</a>'\n",
              "          + ' to learn more about interactive tables.';\n",
              "        element.innerHTML = '';\n",
              "        dataTable['output_type'] = 'display_data';\n",
              "        await google.colab.output.renderOutput(dataTable, element);\n",
              "        const docLink = document.createElement('div');\n",
              "        docLink.innerHTML = docLinkHtml;\n",
              "        element.appendChild(docLink);\n",
              "      }\n",
              "    </script>\n",
              "  </div>\n",
              "\n",
              "\n",
              "<div id=\"df-3dd70c60-6803-4811-8ea8-23366f7c3862\">\n",
              "  <button class=\"colab-df-quickchart\" onclick=\"quickchart('df-3dd70c60-6803-4811-8ea8-23366f7c3862')\"\n",
              "            title=\"Suggest charts\"\n",
              "            style=\"display:none;\">\n",
              "\n",
              "<svg xmlns=\"http://www.w3.org/2000/svg\" height=\"24px\"viewBox=\"0 0 24 24\"\n",
              "     width=\"24px\">\n",
              "    <g>\n",
              "        <path d=\"M19 3H5c-1.1 0-2 .9-2 2v14c0 1.1.9 2 2 2h14c1.1 0 2-.9 2-2V5c0-1.1-.9-2-2-2zM9 17H7v-7h2v7zm4 0h-2V7h2v10zm4 0h-2v-4h2v4z\"/>\n",
              "    </g>\n",
              "</svg>\n",
              "  </button>\n",
              "\n",
              "<style>\n",
              "  .colab-df-quickchart {\n",
              "      --bg-color: #E8F0FE;\n",
              "      --fill-color: #1967D2;\n",
              "      --hover-bg-color: #E2EBFA;\n",
              "      --hover-fill-color: #174EA6;\n",
              "      --disabled-fill-color: #AAA;\n",
              "      --disabled-bg-color: #DDD;\n",
              "  }\n",
              "\n",
              "  [theme=dark] .colab-df-quickchart {\n",
              "      --bg-color: #3B4455;\n",
              "      --fill-color: #D2E3FC;\n",
              "      --hover-bg-color: #434B5C;\n",
              "      --hover-fill-color: #FFFFFF;\n",
              "      --disabled-bg-color: #3B4455;\n",
              "      --disabled-fill-color: #666;\n",
              "  }\n",
              "\n",
              "  .colab-df-quickchart {\n",
              "    background-color: var(--bg-color);\n",
              "    border: none;\n",
              "    border-radius: 50%;\n",
              "    cursor: pointer;\n",
              "    display: none;\n",
              "    fill: var(--fill-color);\n",
              "    height: 32px;\n",
              "    padding: 0;\n",
              "    width: 32px;\n",
              "  }\n",
              "\n",
              "  .colab-df-quickchart:hover {\n",
              "    background-color: var(--hover-bg-color);\n",
              "    box-shadow: 0 1px 2px rgba(60, 64, 67, 0.3), 0 1px 3px 1px rgba(60, 64, 67, 0.15);\n",
              "    fill: var(--button-hover-fill-color);\n",
              "  }\n",
              "\n",
              "  .colab-df-quickchart-complete:disabled,\n",
              "  .colab-df-quickchart-complete:disabled:hover {\n",
              "    background-color: var(--disabled-bg-color);\n",
              "    fill: var(--disabled-fill-color);\n",
              "    box-shadow: none;\n",
              "  }\n",
              "\n",
              "  .colab-df-spinner {\n",
              "    border: 2px solid var(--fill-color);\n",
              "    border-color: transparent;\n",
              "    border-bottom-color: var(--fill-color);\n",
              "    animation:\n",
              "      spin 1s steps(1) infinite;\n",
              "  }\n",
              "\n",
              "  @keyframes spin {\n",
              "    0% {\n",
              "      border-color: transparent;\n",
              "      border-bottom-color: var(--fill-color);\n",
              "      border-left-color: var(--fill-color);\n",
              "    }\n",
              "    20% {\n",
              "      border-color: transparent;\n",
              "      border-left-color: var(--fill-color);\n",
              "      border-top-color: var(--fill-color);\n",
              "    }\n",
              "    30% {\n",
              "      border-color: transparent;\n",
              "      border-left-color: var(--fill-color);\n",
              "      border-top-color: var(--fill-color);\n",
              "      border-right-color: var(--fill-color);\n",
              "    }\n",
              "    40% {\n",
              "      border-color: transparent;\n",
              "      border-right-color: var(--fill-color);\n",
              "      border-top-color: var(--fill-color);\n",
              "    }\n",
              "    60% {\n",
              "      border-color: transparent;\n",
              "      border-right-color: var(--fill-color);\n",
              "    }\n",
              "    80% {\n",
              "      border-color: transparent;\n",
              "      border-right-color: var(--fill-color);\n",
              "      border-bottom-color: var(--fill-color);\n",
              "    }\n",
              "    90% {\n",
              "      border-color: transparent;\n",
              "      border-bottom-color: var(--fill-color);\n",
              "    }\n",
              "  }\n",
              "</style>\n",
              "\n",
              "  <script>\n",
              "    async function quickchart(key) {\n",
              "      const quickchartButtonEl =\n",
              "        document.querySelector('#' + key + ' button');\n",
              "      quickchartButtonEl.disabled = true;  // To prevent multiple clicks.\n",
              "      quickchartButtonEl.classList.add('colab-df-spinner');\n",
              "      try {\n",
              "        const charts = await google.colab.kernel.invokeFunction(\n",
              "            'suggestCharts', [key], {});\n",
              "      } catch (error) {\n",
              "        console.error('Error during call to suggestCharts:', error);\n",
              "      }\n",
              "      quickchartButtonEl.classList.remove('colab-df-spinner');\n",
              "      quickchartButtonEl.classList.add('colab-df-quickchart-complete');\n",
              "    }\n",
              "    (() => {\n",
              "      let quickchartButtonEl =\n",
              "        document.querySelector('#df-3dd70c60-6803-4811-8ea8-23366f7c3862 button');\n",
              "      quickchartButtonEl.style.display =\n",
              "        google.colab.kernel.accessAllowed ? 'block' : 'none';\n",
              "    })();\n",
              "  </script>\n",
              "</div>\n",
              "\n",
              "    </div>\n",
              "  </div>\n"
            ],
            "application/vnd.google.colaboratory.intrinsic+json": {
              "type": "dataframe",
              "summary": "{\n  \"name\": \"    'Max_Returns_15', 'Percentile_5th_Returns_15', 'Std_Dev_Returns_15_Neg', 'Min_Returns_15']]\",\n  \"rows\": 8,\n  \"fields\": [\n    {\n      \"column\": \"Percentile_98th_Returns_10\",\n      \"properties\": {\n        \"dtype\": \"number\",\n        \"std\": 15490.224581166509,\n        \"min\": -0.18236826343025953,\n        \"max\": 43813.0,\n        \"num_unique_values\": 8,\n        \"samples\": [\n          0.011704012786564072,\n          0.006879856957403993,\n          43813.0\n        ],\n        \"semantic_type\": \"\",\n        \"description\": \"\"\n      }\n    },\n    {\n      \"column\": \"Std_Dev_Returns_10\",\n      \"properties\": {\n        \"dtype\": \"number\",\n        \"std\": 15490.217934998209,\n        \"min\": 0.0004978320883993621,\n        \"max\": 43813.0,\n        \"num_unique_values\": 8,\n        \"samples\": [\n          0.015161036123488686,\n          0.010800937754497288,\n          43813.0\n        ],\n        \"semantic_type\": \"\",\n        \"description\": \"\"\n      }\n    },\n    {\n      \"column\": \"Max_Returns_10\",\n      \"properties\": {\n        \"dtype\": \"number\",\n        \"std\": 15490.223035415898,\n        \"min\": -0.18190136433486873,\n        \"max\": 43813.0,\n        \"num_unique_values\": 8,\n        \"samples\": [\n          0.012385684588030488,\n          0.007366248252414255,\n          43813.0\n        ],\n        \"semantic_type\": \"\",\n        \"description\": \"\"\n      }\n    },\n    {\n      \"column\": \"Percentile_5th_Returns_10\",\n      \"properties\": {\n        \"dtype\": \"number\",\n        \"std\": 15490.245240937811,\n        \"min\": -0.32551653450060586,\n        \"max\": 43813.0,\n        \"num_unique_values\": 8,\n        \"samples\": [\n          -0.009881810799857177,\n          -0.005282777236072618,\n          43813.0\n        ],\n        \"semantic_type\": \"\",\n        \"description\": \"\"\n      }\n    },\n    {\n      \"column\": \"Std_Dev_Returns_10_Neg\",\n      \"properties\": {\n        \"dtype\": \"number\",\n        \"std\": 15490.250044022472,\n        \"min\": -0.2660011677921385,\n        \"max\": 43813.0,\n        \"num_unique_values\": 8,\n        \"samples\": [\n          -0.015161036123488686,\n          -0.010800937754497288,\n          43813.0\n        ],\n        \"semantic_type\": \"\",\n        \"description\": \"\"\n      }\n    },\n    {\n      \"column\": \"Min_Returns_10\",\n      \"properties\": {\n        \"dtype\": \"number\",\n        \"std\": 15490.246722118625,\n        \"min\": -0.3263886551205449,\n        \"max\": 43813.0,\n        \"num_unique_values\": 8,\n        \"samples\": [\n          -0.011346958744869507,\n          -0.006301416363581885,\n          43813.0\n        ],\n        \"semantic_type\": \"\",\n        \"description\": \"\"\n      }\n    },\n    {\n      \"column\": \"Percentile_98th_Returns_15\",\n      \"properties\": {\n        \"dtype\": \"number\",\n        \"std\": 15488.456238913088,\n        \"min\": -0.18262765181658774,\n        \"max\": 43808.0,\n        \"num_unique_values\": 8,\n        \"samples\": [\n          0.015467725771991405,\n          0.009142663653922821,\n          43808.0\n        ],\n        \"semantic_type\": \"\",\n        \"description\": \"\"\n      }\n    },\n    {\n      \"column\": \"Std_Dev_Returns_15\",\n      \"properties\": {\n        \"dtype\": \"number\",\n        \"std\": 15488.450265461865,\n        \"min\": 0.0008382772523590172,\n        \"max\": 43808.0,\n        \"num_unique_values\": 8,\n        \"samples\": [\n          0.01888309087951904,\n          0.014044018687209538,\n          43808.0\n        ],\n        \"semantic_type\": \"\",\n        \"description\": \"\"\n      }\n    },\n    {\n      \"column\": \"Max_Returns_15\",\n      \"properties\": {\n        \"dtype\": \"number\",\n        \"std\": 15488.454218194134,\n        \"min\": -0.18190136433486873,\n        \"max\": 43808.0,\n        \"num_unique_values\": 8,\n        \"samples\": [\n          0.016531102281899343,\n          0.009915827709239258,\n          43808.0\n        ],\n        \"semantic_type\": \"\",\n        \"description\": \"\"\n      }\n    },\n    {\n      \"column\": \"Percentile_5th_Returns_15\",\n      \"properties\": {\n        \"dtype\": \"number\",\n        \"std\": 15490.245240937811,\n        \"min\": -0.32551653450060586,\n        \"max\": 43813.0,\n        \"num_unique_values\": 8,\n        \"samples\": [\n          -0.009881810799857177,\n          -0.005282777236072618,\n          43813.0\n        ],\n        \"semantic_type\": \"\",\n        \"description\": \"\"\n      }\n    },\n    {\n      \"column\": \"Std_Dev_Returns_15_Neg\",\n      \"properties\": {\n        \"dtype\": \"number\",\n        \"std\": 15488.481918894646,\n        \"min\": -0.24747165746533617,\n        \"max\": 43808.0,\n        \"num_unique_values\": 8,\n        \"samples\": [\n          -0.01888309087951904,\n          -0.014044018687209538,\n          43808.0\n        ],\n        \"semantic_type\": \"\",\n        \"description\": \"\"\n      }\n    },\n    {\n      \"column\": \"Min_Returns_15\",\n      \"properties\": {\n        \"dtype\": \"number\",\n        \"std\": 15488.481405190341,\n        \"min\": -0.367094687272107,\n        \"max\": 43808.0,\n        \"num_unique_values\": 8,\n        \"samples\": [\n          -0.014890205089219488,\n          -0.008426388520550363,\n          43808.0\n        ],\n        \"semantic_type\": \"\",\n        \"description\": \"\"\n      }\n    }\n  ]\n}"
            }
          },
          "metadata": {},
          "execution_count": 73
        }
      ],
      "source": [
        "\n",
        "btc[['Percentile_98th_Returns_10', 'Std_Dev_Returns_10', 'Max_Returns_10', 'Percentile_5th_Returns_10',\n",
        "    'Std_Dev_Returns_10_Neg', 'Min_Returns_10', 'Percentile_98th_Returns_15', 'Std_Dev_Returns_15',\n",
        "    'Max_Returns_15', 'Percentile_5th_Returns_15', 'Std_Dev_Returns_15_Neg', 'Min_Returns_15']].describe()"
      ]
    },
    {
      "cell_type": "markdown",
      "source": [
        "Mean Returns for most of the settings are between 1% and 2% return for TP, and -1% and 2% for SL.\n",
        "\n",
        "When looking at future data, we will be checking to see when returns hit these TP or SL Levels.\n",
        "\n"
      ],
      "metadata": {
        "id": "v3LLKCiUIh6k"
      }
    },
    {
      "cell_type": "code",
      "source": [
        "#btc.to_csv('/content/drive/MyDrive/Datasets/btc_returns.csv', index=False)"
      ],
      "metadata": {
        "id": "tSamf0SUhxjU"
      },
      "execution_count": null,
      "outputs": []
    },
    {
      "cell_type": "markdown",
      "source": [
        "Checkpoint: btc_returns data"
      ],
      "metadata": {
        "id": "nQTdSyD1YpJj"
      }
    },
    {
      "cell_type": "code",
      "source": [
        "#btc = pd.read_csv('/content/drive/MyDrive/Datasets/btc_returns.csv')\n",
        "#btc['date'] = pd.to_datetime(btc['date'])"
      ],
      "metadata": {
        "id": "nCft0JZUh8Ba"
      },
      "execution_count": null,
      "outputs": []
    },
    {
      "cell_type": "markdown",
      "metadata": {
        "id": "T1lzPtQbSP6I"
      },
      "source": [
        "## Find TP and SL times"
      ]
    },
    {
      "cell_type": "markdown",
      "source": [
        "My goal here is to find the times that SL or TP will happen in the next 7 hours, which i am using as a holding period\n",
        "\n",
        "I can do this by checking if the future returns will be greater than the return defined for TP. Additionaly if the returns wil be lower than my SL value\n",
        "\n",
        "NOTE:\n",
        "\n",
        "Sqlite can be slow, and i have saved each table throughout the process"
      ],
      "metadata": {
        "id": "FIzUiqGHG6gS"
      }
    },
    {
      "cell_type": "markdown",
      "metadata": {
        "id": "WEtO-hkTSoRQ"
      },
      "source": [
        "### TP"
      ]
    },
    {
      "cell_type": "code",
      "execution_count": null,
      "metadata": {
        "colab": {
          "base_uri": "https://localhost:8080/"
        },
        "id": "JsGpizJnfbk8",
        "outputId": "607c2f2f-eda9-4e3e-a565-e56f8a22a20c"
      },
      "outputs": [
        {
          "output_type": "execute_result",
          "data": {
            "text/plain": [
              "43823"
            ]
          },
          "metadata": {},
          "execution_count": 29
        }
      ],
      "source": [
        "import sqlite3\n",
        "conn = sqlite3.connect(\"my_db.db\")\n",
        "btc.to_sql(\"btc_sql\", conn, if_exists=\"replace\",index=False)"
      ]
    },
    {
      "cell_type": "markdown",
      "metadata": {
        "id": "Yrl37Hi_ncyT"
      },
      "source": [
        "Any time in the next 7 hours, will we reach a (98 Percentile return in the last 10 hours)"
      ]
    },
    {
      "cell_type": "code",
      "execution_count": null,
      "metadata": {
        "id": "qP-h0UOngWpw"
      },
      "outputs": [],
      "source": [
        "query = \"\"\"\n",
        "SELECT a.date, min(b.time_in_seconds) as TP_time_98th_Percentile_Returns_10\n",
        "FROM btc_sql as a, btc_sql as b\n",
        "WHERE\n",
        "(b.time_in_seconds-a.time_in_seconds) <= 25200\n",
        "AND b.time_in_seconds > a.time_in_seconds\n",
        "AND b.close >= ((1 + a.Percentile_98th_Returns_10) *a.close)\n",
        "GROUP BY a.date\n",
        "\"\"\"\n",
        "TP_98th_Percentile_Returns_10 = pd.read_sql_query(query, conn)"
      ]
    },
    {
      "cell_type": "code",
      "source": [
        "#TP_98th_Percentile_Returns_10.to_csv('/content/drive/MyDrive/Datasets/TP_98th_Percentile_Returns_10.csv', index=False)"
      ],
      "metadata": {
        "id": "XpjyzmxBgkkV"
      },
      "execution_count": null,
      "outputs": []
    },
    {
      "cell_type": "markdown",
      "metadata": {
        "id": "n5GDcC81RCbS"
      },
      "source": [
        "Any time in the next 7 hours, will we reach a (2*stdev of return in the last 10 hours)"
      ]
    },
    {
      "cell_type": "code",
      "execution_count": null,
      "metadata": {
        "id": "or4pgY1QQP23"
      },
      "outputs": [],
      "source": [
        "query = \"\"\"\n",
        "SELECT a.date, min(b.time_in_seconds) as TP_time_Std_Dev_Returns_10\n",
        "FROM btc_sql as a, btc_sql as b\n",
        "WHERE\n",
        "(b.time_in_seconds-a.time_in_seconds) <= 25200\n",
        "AND b.time_in_seconds > a.time_in_seconds\n",
        "AND b.close >= ((1 + a.Std_Dev_Returns_10) *a.close)\n",
        "GROUP BY a.date\n",
        "\"\"\"\n",
        "TP_Std_Dev_Returns_10 = pd.read_sql_query(query, conn)"
      ]
    },
    {
      "cell_type": "code",
      "source": [
        "#TP_Std_Dev_Returns_10.to_csv('/content/drive/MyDrive/Datasets/TP_Std_Dev_Returns_10.csv', index=False)"
      ],
      "metadata": {
        "id": "Z_K0Q2usg3R8"
      },
      "execution_count": null,
      "outputs": []
    },
    {
      "cell_type": "markdown",
      "metadata": {
        "id": "2-gDHFASRBPr"
      },
      "source": [
        "Any time in the next 7 hours, will we reach a (Max of return in the last 10 hours)"
      ]
    },
    {
      "cell_type": "code",
      "execution_count": null,
      "metadata": {
        "id": "EoN2a7R9QcQr"
      },
      "outputs": [],
      "source": [
        "query = \"\"\"\n",
        "SELECT a.date, min(b.time_in_seconds) as TP_time_Max_Returns_10\n",
        "FROM btc_sql as a, btc_sql as b\n",
        "WHERE\n",
        "(b.time_in_seconds-a.time_in_seconds) <= 25200\n",
        "AND b.time_in_seconds > a.time_in_seconds\n",
        "AND b.close >= ((1 + a.Max_Returns_10) *a.close)\n",
        "GROUP BY a.date\n",
        "\"\"\"\n",
        "TP_Max_Returns_10 = pd.read_sql_query(query, conn)"
      ]
    },
    {
      "cell_type": "code",
      "source": [
        "#TP_Max_Returns_10.to_csv('/content/drive/MyDrive/Datasets/TP_Max_Returns_10.csv', index=False)"
      ],
      "metadata": {
        "id": "Deeo1zmvg8kD"
      },
      "execution_count": null,
      "outputs": []
    },
    {
      "cell_type": "markdown",
      "metadata": {
        "id": "5P7hqc5KRJ__"
      },
      "source": [
        "Any time in the next 7 hours, will we reach a (98 Percentile return in the last 15 hours)"
      ]
    },
    {
      "cell_type": "code",
      "execution_count": null,
      "metadata": {
        "id": "J_SjV8wIRJcn"
      },
      "outputs": [],
      "source": [
        "query = \"\"\"\n",
        "SELECT a.date, min(b.time_in_seconds) as TP_time_98th_Percentile_Returns_15\n",
        "FROM btc_sql as a, btc_sql as b\n",
        "WHERE\n",
        "(b.time_in_seconds-a.time_in_seconds) <= 25200\n",
        "AND b.time_in_seconds > a.time_in_seconds\n",
        "AND b.close >= ((1 + a.Percentile_98th_Returns_15) *a.close)\n",
        "GROUP BY a.date\n",
        "\"\"\"\n",
        "TP_98th_Percentile_Returns_15 = pd.read_sql_query(query, conn)"
      ]
    },
    {
      "cell_type": "code",
      "source": [
        "#TP_98th_Percentile_Returns_15.to_csv('/content/drive/MyDrive/Datasets/TP_98th_Percentile_Returns_15.csv', index=False)"
      ],
      "metadata": {
        "id": "0wg9fET1hA4E"
      },
      "execution_count": null,
      "outputs": []
    },
    {
      "cell_type": "markdown",
      "metadata": {
        "id": "eIW7Z_CBRY-i"
      },
      "source": [
        "Any time in the next 7 hours, will we reach a (2*sdtev return in the last 15 hours)"
      ]
    },
    {
      "cell_type": "code",
      "execution_count": null,
      "metadata": {
        "id": "NEV24-95RWqb"
      },
      "outputs": [],
      "source": [
        "query = \"\"\"\n",
        "SELECT a.date, min(b.time_in_seconds) as TP_time_Std_Dev_Returns_15\n",
        "FROM btc_sql as a, btc_sql as b\n",
        "WHERE\n",
        "(b.time_in_seconds-a.time_in_seconds) <= 25200\n",
        "AND b.time_in_seconds > a.time_in_seconds\n",
        "AND b.close >= ((1 + a.Std_Dev_Returns_15) *a.close)\n",
        "GROUP BY a.date\n",
        "\"\"\"\n",
        "TP_Std_Dev_Returns_15 = pd.read_sql_query(query, conn)"
      ]
    },
    {
      "cell_type": "code",
      "source": [
        "#TP_Std_Dev_Returns_15.to_csv('/content/drive/MyDrive/Datasets/TP_Std_Dev_Returns_15.csv', index=False)"
      ],
      "metadata": {
        "id": "nE2lcxp7hGNH"
      },
      "execution_count": null,
      "outputs": []
    },
    {
      "cell_type": "markdown",
      "metadata": {
        "id": "Fd5_zcz6SLG0"
      },
      "source": [
        "Any time in the next 7 hours, will we reach a (Max return in the last 15 hours)"
      ]
    },
    {
      "cell_type": "code",
      "execution_count": null,
      "metadata": {
        "id": "7M9CIFy3SFIb"
      },
      "outputs": [],
      "source": [
        "query = \"\"\"\n",
        "SELECT a.date, min(b.time_in_seconds) as TP_time_Max_Returns_15\n",
        "FROM btc_sql as a, btc_sql as b\n",
        "WHERE\n",
        "(b.time_in_seconds-a.time_in_seconds) <= 25200\n",
        "AND b.time_in_seconds > a.time_in_seconds\n",
        "AND b.close >= ((1 + a.Max_Returns_15) *a.close)\n",
        "GROUP BY a.date\n",
        "\"\"\"\n",
        "TP_Max_Returns_15 = pd.read_sql_query(query, conn)"
      ]
    },
    {
      "cell_type": "code",
      "source": [
        "#TP_Max_Returns_15.to_csv('/content/drive/MyDrive/Datasets/TP_Max_Returns_15.csv', index=False)"
      ],
      "metadata": {
        "id": "62eFIMjahJxU"
      },
      "execution_count": null,
      "outputs": []
    },
    {
      "cell_type": "markdown",
      "metadata": {
        "id": "yYF9b7qfSqRY"
      },
      "source": [
        "### SL"
      ]
    },
    {
      "cell_type": "markdown",
      "metadata": {
        "id": "WvridAFcS96u"
      },
      "source": [
        "Any time in the next 7 hours, will we reach below (5 Percentile return in the last 10 hours)"
      ]
    },
    {
      "cell_type": "code",
      "execution_count": null,
      "metadata": {
        "id": "oZuCf9EQSrk8"
      },
      "outputs": [],
      "source": [
        "query = \"\"\"\n",
        "SELECT a.date, min(b.time_in_seconds) as SL_time_5th_Percentile_Returns_10\n",
        "FROM btc_sql as a, btc_sql as b\n",
        "WHERE\n",
        "(b.time_in_seconds-a.time_in_seconds) <= 25200\n",
        "AND b.time_in_seconds > a.time_in_seconds\n",
        "AND b.close <= ((1 + a.Percentile_5th_Returns_10) *a.close)\n",
        "GROUP BY a.date\n",
        "\"\"\"\n",
        "SL_5th_Percentile_Returns_10 = pd.read_sql_query(query, conn)"
      ]
    },
    {
      "cell_type": "code",
      "source": [
        "#SL_5th_Percentile_Returns_10.to_csv('/content/drive/MyDrive/Datasets/SL_5th_Percentile_Returns_10.csv', index=False)"
      ],
      "metadata": {
        "id": "0SdJtJ_QhN8v"
      },
      "execution_count": null,
      "outputs": []
    },
    {
      "cell_type": "markdown",
      "metadata": {
        "id": "EGRPFpvqTBSG"
      },
      "source": [
        "Any time in the next 7 hours, will we reach below (-2*Stdev return in\n",
        "the last 10 hours)"
      ]
    },
    {
      "cell_type": "code",
      "execution_count": null,
      "metadata": {
        "id": "e64Z_IeXTAox"
      },
      "outputs": [],
      "source": [
        "query = \"\"\"\n",
        "SELECT a.date, min(b.time_in_seconds) as TP_time_Std_Dev_Returns_10_Neg\n",
        "FROM btc_sql as a, btc_sql as b\n",
        "WHERE\n",
        "(b.time_in_seconds-a.time_in_seconds) <= 25200\n",
        "AND b.time_in_seconds > a.time_in_seconds\n",
        "AND b.close <= ((1 + a.Std_Dev_Returns_10_Neg) *a.close)\n",
        "GROUP BY a.date\n",
        "\"\"\"\n",
        "TP_Std_Dev_Returns_10_Neg = pd.read_sql_query(query, conn)"
      ]
    },
    {
      "cell_type": "code",
      "source": [
        "#TP_Std_Dev_Returns_10_Neg.to_csv('/content/drive/MyDrive/Datasets/TP_Std_Dev_Returns_10_Neg.csv', index=False)"
      ],
      "metadata": {
        "id": "68F6o1W_hRN-"
      },
      "execution_count": null,
      "outputs": []
    },
    {
      "cell_type": "markdown",
      "metadata": {
        "id": "3Lzqov-ATXeT"
      },
      "source": [
        "Any time in the next 7 hours, will we reach below (Min return in\n",
        "the last 10 hours)"
      ]
    },
    {
      "cell_type": "code",
      "execution_count": null,
      "metadata": {
        "id": "JN5viKqETUgz"
      },
      "outputs": [],
      "source": [
        "query = \"\"\"\n",
        "SELECT a.date, min(b.time_in_seconds) as TP_time_Min_Returns_10\n",
        "FROM btc_sql as a, btc_sql as b\n",
        "WHERE\n",
        "(b.time_in_seconds-a.time_in_seconds) <= 25200\n",
        "AND b.time_in_seconds > a.time_in_seconds\n",
        "AND b.close <= ((1 + a.Min_Returns_10) *a.close)\n",
        "GROUP BY a.date\n",
        "\"\"\"\n",
        "TP_Min_Returns_10 = pd.read_sql_query(query, conn)"
      ]
    },
    {
      "cell_type": "code",
      "source": [
        "#TP_Min_Returns_10.to_csv('/content/drive/MyDrive/Datasets/TP_Min_Returns_10.csv', index=False)"
      ],
      "metadata": {
        "id": "81kzTnHqhVKs"
      },
      "execution_count": null,
      "outputs": []
    },
    {
      "cell_type": "markdown",
      "metadata": {
        "id": "kgXqcpGuThwy"
      },
      "source": [
        "Any time in the next 7 hours, will we reach below (5 Percentile return in\n",
        "the last 15 hours)"
      ]
    },
    {
      "cell_type": "code",
      "execution_count": null,
      "metadata": {
        "id": "llTvCcaFTgaY"
      },
      "outputs": [],
      "source": [
        "query = \"\"\"\n",
        "SELECT a.date, min(b.time_in_seconds) as SL_time_5th_Percentile_Returns_15\n",
        "FROM btc_sql as a, btc_sql as b\n",
        "WHERE\n",
        "(b.time_in_seconds-a.time_in_seconds) <= 25200\n",
        "AND b.time_in_seconds > a.time_in_seconds\n",
        "AND b.close <= ((1 + a.Percentile_5th_Returns_15) *a.close)\n",
        "GROUP BY a.date\n",
        "\"\"\"\n",
        "SL_5th_Percentile_Returns_15 = pd.read_sql_query(query, conn)"
      ]
    },
    {
      "cell_type": "code",
      "source": [
        "#SL_5th_Percentile_Returns_15.to_csv('/content/drive/MyDrive/Datasets/SL_5th_Percentile_Returns_15.csv', index=False)"
      ],
      "metadata": {
        "id": "BnVBneGJhYTk"
      },
      "execution_count": null,
      "outputs": []
    },
    {
      "cell_type": "markdown",
      "metadata": {
        "id": "SnNYy370TnBK"
      },
      "source": [
        "Any time in the next 7 hours, will we reach below (-2*Stdev return in\n",
        "the last 15 hours)"
      ]
    },
    {
      "cell_type": "code",
      "execution_count": null,
      "metadata": {
        "id": "vk49ey2YToSD"
      },
      "outputs": [],
      "source": [
        "query = \"\"\"\n",
        "SELECT a.date, min(b.time_in_seconds) as TP_time_Std_Dev_Returns_15_Neg\n",
        "FROM btc_sql as a, btc_sql as b\n",
        "WHERE\n",
        "(b.time_in_seconds-a.time_in_seconds) <= 25200\n",
        "AND b.time_in_seconds > a.time_in_seconds\n",
        "AND b.close <= ((1 + a.Std_Dev_Returns_15_Neg) *a.close)\n",
        "GROUP BY a.date\n",
        "\"\"\"\n",
        "TP_Std_Dev_Returns_15_Neg = pd.read_sql_query(query, conn)"
      ]
    },
    {
      "cell_type": "code",
      "source": [
        "#TP_Std_Dev_Returns_15_Neg.to_csv('/content/drive/MyDrive/Datasets/TP_Std_Dev_Returns_15_Neg.csv', index=False)"
      ],
      "metadata": {
        "id": "OgOFqQZvhcab"
      },
      "execution_count": null,
      "outputs": []
    },
    {
      "cell_type": "markdown",
      "metadata": {
        "id": "1bDySWBxTxtg"
      },
      "source": [
        "Any time in the next 7 hours, will we reach below (Min return in\n",
        "the last 15 hours)"
      ]
    },
    {
      "cell_type": "code",
      "execution_count": null,
      "metadata": {
        "id": "jtIXiKU2TvBa"
      },
      "outputs": [],
      "source": [
        "query = \"\"\"\n",
        "SELECT a.date, min(b.time_in_seconds) as TP_time_Min_Returns_15\n",
        "FROM btc_sql as a, btc_sql as b\n",
        "WHERE\n",
        "(b.time_in_seconds-a.time_in_seconds) <= 25200\n",
        "AND b.time_in_seconds > a.time_in_seconds\n",
        "AND b.close <= ((1 + a.Min_Returns_15) *a.close)\n",
        "GROUP BY a.date\n",
        "\"\"\"\n",
        "TP_Min_Returns_15 = pd.read_sql_query(query, conn)"
      ]
    },
    {
      "cell_type": "code",
      "source": [
        "#TP_Min_Returns_15.to_csv('/content/drive/MyDrive/Datasets/TP_Min_Returns_15.csv', index=False)"
      ],
      "metadata": {
        "id": "Cd35c8l1hfHe"
      },
      "execution_count": null,
      "outputs": []
    },
    {
      "cell_type": "markdown",
      "source": [
        "Checkpoint : TP/SL Returns"
      ],
      "metadata": {
        "id": "IWEPIQVfZs9y"
      }
    },
    {
      "cell_type": "markdown",
      "source": [
        "Load TP/SL Tables"
      ],
      "metadata": {
        "id": "niQvyp1h4u4O"
      }
    },
    {
      "cell_type": "code",
      "source": [
        "#TP_98th_Percentile_Returns_10 = pd.read_csv('/content/drive/MyDrive/Datasets/TP_98th_Percentile_Returns_10.csv')\n",
        "#TP_Std_Dev_Returns_10 = pd.read_csv('/content/drive/MyDrive/Datasets/TP_Std_Dev_Returns_10.csv')\n",
        "#TP_Max_Returns_10 = pd.read_csv('/content/drive/MyDrive/Datasets/TP_Max_Returns_10.csv')\n",
        "#TP_98th_Percentile_Returns_15 = pd.read_csv('/content/drive/MyDrive/Datasets/TP_98th_Percentile_Returns_15.csv')\n",
        "#TP_Std_Dev_Returns_15 = pd.read_csv('/content/drive/MyDrive/Datasets/TP_Std_Dev_Returns_15.csv')\n",
        "#TP_Max_Returns_15 = pd.read_csv('/content/drive/MyDrive/Datasets/TP_Max_Returns_15.csv')\n",
        "#SL_5th_Percentile_Returns_10 = pd.read_csv('/content/drive/MyDrive/Datasets/SL_5th_Percentile_Returns_10.csv')\n",
        "#TP_Std_Dev_Returns_10_Neg = pd.read_csv('/content/drive/MyDrive/Datasets/TP_Std_Dev_Returns_10_Neg.csv')\n",
        "#TP_Min_Returns_10 = pd.read_csv('/content/drive/MyDrive/Datasets/TP_Min_Returns_10.csv')\n",
        "#SL_5th_Percentile_Returns_15 = pd.read_csv('/content/drive/MyDrive/Datasets/SL_5th_Percentile_Returns_15.csv')\n",
        "#TP_Std_Dev_Returns_15_Neg = pd.read_csv('/content/drive/MyDrive/Datasets/TP_Std_Dev_Returns_15_Neg.csv')\n",
        "#TP_Min_Returns_15 = pd.read_csv('/content/drive/MyDrive/Datasets/TP_Min_Returns_15.csv')"
      ],
      "metadata": {
        "id": "6v1D4LCsZyF8"
      },
      "execution_count": null,
      "outputs": []
    },
    {
      "cell_type": "markdown",
      "source": [
        "Convert Dates to Datetimes"
      ],
      "metadata": {
        "id": "q9BabCep4vxA"
      }
    },
    {
      "cell_type": "code",
      "source": [
        "###If loading from csv ---------> convert date column to datetime\n",
        "\n",
        "#import pandas as pd\n",
        "#TP_98th_Percentile_Returns_10['date'] = pd.to_datetime(TP_98th_Percentile_Returns_10['date'])\n",
        "#TP_Std_Dev_Returns_10['date'] = pd.to_datetime(TP_Std_Dev_Returns_10['date'])\n",
        "#TP_Max_Returns_10['date'] = pd.to_datetime(TP_Max_Returns_10['date'])\n",
        "#TP_98th_Percentile_Returns_15['date'] = pd.to_datetime(TP_98th_Percentile_Returns_15['date'])\n",
        "#TP_Std_Dev_Returns_15['date'] = pd.to_datetime(TP_Std_Dev_Returns_15['date'])\n",
        "#TP_Max_Returns_15['date'] = pd.to_datetime(TP_Max_Returns_15['date'])\n",
        "#SL_5th_Percentile_Returns_10['date'] = pd.to_datetime(SL_5th_Percentile_Returns_10['date'])\n",
        "#TP_Std_Dev_Returns_10_Neg['date'] = pd.to_datetime(TP_Std_Dev_Returns_10_Neg['date'])\n",
        "#TP_Min_Returns_10['date'] = pd.to_datetime(TP_Min_Returns_10['date'])\n",
        "#SL_5th_Percentile_Returns_15['date'] = pd.to_datetime(SL_5th_Percentile_Returns_15['date'])\n",
        "#TP_Std_Dev_Returns_15_Neg['date'] = pd.to_datetime(TP_Std_Dev_Returns_15_Neg['date'])\n",
        "#TP_Min_Returns_15['date'] = pd.to_datetime(TP_Min_Returns_15['date'])\n"
      ],
      "metadata": {
        "id": "xCy0NwEOJlLe"
      },
      "execution_count": null,
      "outputs": []
    },
    {
      "cell_type": "markdown",
      "source": [
        "Merge Dataframes"
      ],
      "metadata": {
        "id": "gGnSh01G9dxa"
      }
    },
    {
      "cell_type": "code",
      "source": [
        "btc = pd.merge(btc, TP_98th_Percentile_Returns_10, on='date', how='left')\n",
        "btc = pd.merge(btc, TP_Std_Dev_Returns_10, on='date', how='left')\n",
        "btc = pd.merge(btc, TP_Max_Returns_10, on='date', how='left')\n",
        "btc = pd.merge(btc, TP_98th_Percentile_Returns_15, on='date', how='left')\n",
        "btc = pd.merge(btc, TP_Std_Dev_Returns_15, on='date', how='left')\n",
        "btc = pd.merge(btc, TP_Max_Returns_15, on='date', how='left')\n",
        "btc = pd.merge(btc, SL_5th_Percentile_Returns_10, on='date', how='left')\n",
        "btc = pd.merge(btc, TP_Std_Dev_Returns_10_Neg, on='date', how='left')\n",
        "btc = pd.merge(btc, TP_Min_Returns_10, on='date', how='left')\n",
        "btc = pd.merge(btc, SL_5th_Percentile_Returns_15, on='date', how='left')\n",
        "btc = pd.merge(btc, TP_Std_Dev_Returns_15_Neg, on='date', how='left')\n",
        "btc = pd.merge(btc, TP_Min_Returns_15, on='date', how='left')\n"
      ],
      "metadata": {
        "id": "f8gDDyyO9L6z"
      },
      "execution_count": null,
      "outputs": []
    },
    {
      "cell_type": "code",
      "source": [
        "btc.columns"
      ],
      "metadata": {
        "colab": {
          "base_uri": "https://localhost:8080/"
        },
        "id": "AHHHCzUn9gp-",
        "outputId": "243ba6f7-8c3c-4a66-824d-964aef7f3b8f"
      },
      "execution_count": null,
      "outputs": [
        {
          "output_type": "execute_result",
          "data": {
            "text/plain": [
              "Index(['open', 'high', 'low', 'close', 'volume', 'date', 'time_in_seconds',\n",
              "       'Percentile_98th_Returns_10', 'Std_Dev_Returns_10', 'Max_Returns_10',\n",
              "       'Percentile_5th_Returns_10', 'Std_Dev_Returns_10_Neg', 'Min_Returns_10',\n",
              "       'Percentile_98th_Returns_15', 'Std_Dev_Returns_15', 'Max_Returns_15',\n",
              "       'Percentile_5th_Returns_15', 'Std_Dev_Returns_15_Neg', 'Min_Returns_15',\n",
              "       'TP_time_98th_Percentile_Returns_10', 'TP_time_Std_Dev_Returns_10',\n",
              "       'TP_time_Max_Returns_10', 'TP_time_98th_Percentile_Returns_15',\n",
              "       'TP_time_Std_Dev_Returns_15', 'TP_time_Max_Returns_15',\n",
              "       'SL_time_5th_Percentile_Returns_10', 'TP_time_Std_Dev_Returns_10_Neg',\n",
              "       'TP_time_Min_Returns_10', 'SL_time_5th_Percentile_Returns_15',\n",
              "       'TP_time_Std_Dev_Returns_15_Neg', 'TP_time_Min_Returns_15'],\n",
              "      dtype='object')"
            ]
          },
          "metadata": {},
          "execution_count": 72
        }
      ]
    },
    {
      "cell_type": "code",
      "source": [
        "btc_merged = btc.copy()"
      ],
      "metadata": {
        "id": "qQvcZQoe9riv"
      },
      "execution_count": null,
      "outputs": []
    },
    {
      "cell_type": "code",
      "source": [
        "#btc_merged.to_csv('/content/drive/MyDrive/Datasets/btc_merged.csv')"
      ],
      "metadata": {
        "id": "AP4OSOMa-H4T"
      },
      "execution_count": null,
      "outputs": []
    },
    {
      "cell_type": "markdown",
      "source": [
        "Checkpoint: btc_merged data"
      ],
      "metadata": {
        "id": "jq5733cxH6gj"
      }
    },
    {
      "cell_type": "code",
      "source": [
        "from google.colab import drive\n",
        "drive.mount('/content/drive')"
      ],
      "metadata": {
        "colab": {
          "base_uri": "https://localhost:8080/"
        },
        "id": "sEvLsTpXe89g",
        "outputId": "5b9efe62-d6fc-4d29-cd7c-6b3ec2f84596"
      },
      "execution_count": null,
      "outputs": [
        {
          "output_type": "stream",
          "name": "stdout",
          "text": [
            "Mounted at /content/drive\n"
          ]
        }
      ]
    },
    {
      "cell_type": "code",
      "source": [
        "import pandas as pd"
      ],
      "metadata": {
        "id": "vlg6EMgr1sd5"
      },
      "execution_count": null,
      "outputs": []
    },
    {
      "cell_type": "code",
      "source": [
        "#Apply File Location\n",
        "\n",
        "#btc_merged = pd.read_csv('/content/drive/MyDrive/Datasets/btc_merged.csv')"
      ],
      "metadata": {
        "id": "0kfKEuN_HwlF"
      },
      "execution_count": null,
      "outputs": []
    },
    {
      "cell_type": "code",
      "source": [
        "btc_merged['date'] = pd.to_datetime(btc_merged['date'])"
      ],
      "metadata": {
        "id": "gYHiNrSkf_H-"
      },
      "execution_count": null,
      "outputs": []
    },
    {
      "cell_type": "markdown",
      "source": [
        "Setting up New columns to determine whether TP or SL hit first, or neither"
      ],
      "metadata": {
        "id": "kssetektH_m0"
      }
    },
    {
      "cell_type": "markdown",
      "source": [
        "## Determine SL, TP, HP\n",
        "\n",
        "For each Setting,\n",
        "\n",
        "*   If TP happens first and is non-null,or if TP happens and SL is null it is TP\n",
        "*   If SL happens first and is non-null,or it SL happens and TP is null it is SL\n",
        "*   If neither happens, it is HP\n"
      ],
      "metadata": {
        "id": "sJseIbDDIHrY"
      }
    },
    {
      "cell_type": "markdown",
      "source": [
        "Set All to 'HP'"
      ],
      "metadata": {
        "id": "d2Rm1dTsKfQD"
      }
    },
    {
      "cell_type": "code",
      "source": [
        "btc_merged['Label_Percentile_10'] = 'HP'\n",
        "btc_merged['Label_Percentile_15'] = 'HP'\n",
        "btc_merged['Label_Stdev_10'] = 'HP'\n",
        "btc_merged['Label_Stdev_15'] = 'HP'\n",
        "btc_merged['Label_Min_Max_10'] = 'HP'\n",
        "btc_merged['Label_Min_Max_15'] = 'HP'"
      ],
      "metadata": {
        "id": "HPZXnQlMAjnt"
      },
      "execution_count": null,
      "outputs": []
    },
    {
      "cell_type": "markdown",
      "source": [
        "Determine whether we hit TP, SL, or HP if we were to buy"
      ],
      "metadata": {
        "id": "VtmL8lFcKhig"
      }
    },
    {
      "cell_type": "code",
      "source": [
        "#Percentile\n",
        "\n",
        "btc_merged.loc[((btc_merged['TP_time_98th_Percentile_Returns_10'].notnull()) & (btc_merged['TP_time_98th_Percentile_Returns_10'] < btc_merged['SL_time_5th_Percentile_Returns_10'])) | ((btc_merged['TP_time_98th_Percentile_Returns_10'].notnull())&(btc_merged['SL_time_5th_Percentile_Returns_10'].isnull())), 'Label_Percentile_10'] = 'TP'\n",
        "btc_merged.loc[((btc_merged['SL_time_5th_Percentile_Returns_10'].notnull()) & (btc_merged['SL_time_5th_Percentile_Returns_10'] < btc_merged['TP_time_98th_Percentile_Returns_10'])) | ((btc_merged['SL_time_5th_Percentile_Returns_10'].notnull())&(btc_merged['TP_time_98th_Percentile_Returns_10'].isnull())), 'Label_Percentile_10'] = 'SL'\n",
        "\n",
        "btc_merged.loc[((btc_merged['TP_time_98th_Percentile_Returns_15'].notnull()) & (btc_merged['TP_time_98th_Percentile_Returns_15'] < btc_merged['SL_time_5th_Percentile_Returns_15'])) | ((btc_merged['TP_time_98th_Percentile_Returns_15'].notnull())&(btc_merged['SL_time_5th_Percentile_Returns_15'].isnull())), 'Label_Percentile_15'] = 'TP'\n",
        "btc_merged.loc[((btc_merged['SL_time_5th_Percentile_Returns_15'].notnull()) & (btc_merged['SL_time_5th_Percentile_Returns_15'] < btc_merged['TP_time_98th_Percentile_Returns_15'])) | ((btc_merged['SL_time_5th_Percentile_Returns_15'].notnull())&(btc_merged['TP_time_98th_Percentile_Returns_15'].isnull())), 'Label_Percentile_15'] = 'SL'\n",
        "\n",
        "#STDEV\n",
        "\n",
        "btc_merged.loc[((btc_merged['TP_time_Std_Dev_Returns_10'].notnull()) & (btc_merged['TP_time_Std_Dev_Returns_10'] < btc_merged['TP_time_Std_Dev_Returns_10_Neg'])) | ((btc_merged['TP_time_Std_Dev_Returns_10'].notnull())&(btc_merged['TP_time_Std_Dev_Returns_10_Neg'].isnull())), 'Label_Stdev_10'] = 'TP'\n",
        "btc_merged.loc[((btc_merged['TP_time_Std_Dev_Returns_10_Neg'].notnull()) & (btc_merged['TP_time_Std_Dev_Returns_10_Neg'] < btc_merged['TP_time_Std_Dev_Returns_10'])) | ((btc_merged['TP_time_Std_Dev_Returns_10_Neg'].notnull())&(btc_merged['TP_time_Std_Dev_Returns_10'].isnull())), 'Label_Stdev_10'] = 'SL'\n",
        "\n",
        "btc_merged.loc[((btc_merged['TP_time_Std_Dev_Returns_15'].notnull()) & (btc_merged['TP_time_Std_Dev_Returns_15'] < btc_merged['TP_time_Std_Dev_Returns_15_Neg'])) | ((btc_merged['TP_time_Std_Dev_Returns_15'].notnull())&(btc_merged['TP_time_Std_Dev_Returns_15_Neg'].isnull())), 'Label_Stdev_15'] = 'TP'\n",
        "btc_merged.loc[((btc_merged['TP_time_Std_Dev_Returns_15_Neg'].notnull()) & (btc_merged['TP_time_Std_Dev_Returns_15_Neg'] < btc_merged['TP_time_Std_Dev_Returns_15'])) | ((btc_merged['TP_time_Std_Dev_Returns_15_Neg'].notnull())&(btc_merged['TP_time_Std_Dev_Returns_15'].isnull())), 'Label_Stdev_15'] = 'SL'\n",
        "\n",
        "#MINMAX\n",
        "\n",
        "btc_merged.loc[((btc_merged['TP_time_Max_Returns_10'].notnull()) & (btc_merged['TP_time_Max_Returns_10'] < btc_merged['TP_time_Min_Returns_10'])) | ((btc_merged['TP_time_Max_Returns_10'].notnull())&(btc_merged['TP_time_Min_Returns_10'].isnull())), 'Label_Min_Max_10'] = 'TP'\n",
        "btc_merged.loc[((btc_merged['TP_time_Min_Returns_10'].notnull()) & (btc_merged['TP_time_Min_Returns_10'] < btc_merged['TP_time_Max_Returns_10'])) | ((btc_merged['TP_time_Min_Returns_10'].notnull())&(btc_merged['TP_time_Max_Returns_10'].isnull())), 'Label_Min_Max_10'] = 'SL'\n",
        "\n",
        "btc_merged.loc[((btc_merged['TP_time_Max_Returns_15'].notnull()) & (btc_merged['TP_time_Max_Returns_15'] < btc_merged['TP_time_Min_Returns_15'])) | ((btc_merged['TP_time_Max_Returns_15'].notnull())&(btc_merged['TP_time_Min_Returns_15'].isnull())), 'Label_Min_Max_15'] = 'TP'\n",
        "btc_merged.loc[((btc_merged['TP_time_Min_Returns_15'].notnull()) & (btc_merged['TP_time_Min_Returns_15'] < btc_merged['TP_time_Max_Returns_15'])) | ((btc_merged['TP_time_Min_Returns_15'].notnull())&(btc_merged['TP_time_Max_Returns_15'].isnull())), 'Label_Min_Max_15'] = 'SL'\n"
      ],
      "metadata": {
        "id": "MACD1poK-skh"
      },
      "execution_count": null,
      "outputs": []
    },
    {
      "cell_type": "code",
      "source": [
        "for col in ['Label_Percentile_10', 'Label_Percentile_15', 'Label_Stdev_10', 'Label_Stdev_15', 'Label_Min_Max_10', 'Label_Min_Max_15']:\n",
        "  unique_values = btc_merged[col].value_counts()\n",
        "  print(f\"How many times we hit each for '{col}':\")\n",
        "  print(unique_values)\n",
        "  print()\n"
      ],
      "metadata": {
        "colab": {
          "base_uri": "https://localhost:8080/"
        },
        "id": "lCIGmQZAEOem",
        "outputId": "9c8b6cf5-0757-4feb-acb7-0eea416ef66d"
      },
      "execution_count": null,
      "outputs": [
        {
          "output_type": "stream",
          "name": "stdout",
          "text": [
            "How many times we hit each for 'Label_Percentile_10':\n",
            "Label_Percentile_10\n",
            "SL    19528\n",
            "TP    17588\n",
            "HP     6707\n",
            "Name: count, dtype: int64\n",
            "\n",
            "How many times we hit each for 'Label_Percentile_15':\n",
            "Label_Percentile_15\n",
            "SL    19958\n",
            "TP    15295\n",
            "HP     8570\n",
            "Name: count, dtype: int64\n",
            "\n",
            "How many times we hit each for 'Label_Stdev_10':\n",
            "Label_Stdev_10\n",
            "HP    19918\n",
            "SL    11964\n",
            "TP    11941\n",
            "Name: count, dtype: int64\n",
            "\n",
            "How many times we hit each for 'Label_Stdev_15':\n",
            "Label_Stdev_15\n",
            "HP    24870\n",
            "SL     9503\n",
            "TP     9450\n",
            "Name: count, dtype: int64\n",
            "\n",
            "How many times we hit each for 'Label_Min_Max_10':\n",
            "Label_Min_Max_10\n",
            "SL    18253\n",
            "TP    17278\n",
            "HP     8292\n",
            "Name: count, dtype: int64\n",
            "\n",
            "How many times we hit each for 'Label_Min_Max_15':\n",
            "Label_Min_Max_15\n",
            "SL    16339\n",
            "TP    15068\n",
            "HP    12416\n",
            "Name: count, dtype: int64\n",
            "\n"
          ]
        }
      ]
    },
    {
      "cell_type": "markdown",
      "source": [
        "How often does each setting hit?"
      ],
      "metadata": {
        "id": "pbchUFsaaPs-"
      }
    },
    {
      "cell_type": "code",
      "source": [
        "import pandas as pd\n",
        "\n",
        "data = {\n",
        "    'Target Setting': ['TP = 98th Percentile,  SL = 5th Percentile, Window = 10_hr', 'TP = 98th Percentile,  SL = 5th Percentile, Window = 15_hr', 'TP = 2*Stdev, SL = -2*Stdev, Window = 10_hr', 'TP = 2*Stdev, SL = -2*Stdev, Window = 15_hr', 'TP = Max Return, SL = Min Return, Window = 10hr', 'TP = Max Return, SL = Min Return, Window = 15hr'],\n",
        "    'TP': [],\n",
        "    'SL': [],\n",
        "    'HP': []\n",
        "}\n",
        "\n",
        "for col in ['Label_Percentile_10', 'Label_Percentile_15', 'Label_Stdev_10', 'Label_Stdev_15', 'Label_Min_Max_10', 'Label_Min_Max_15']:\n",
        "    unique_values = btc_merged[col].value_counts()\n",
        "    tp_percent = (unique_values['TP'] / unique_values.sum()) * 100\n",
        "    sl_percent = (unique_values['SL'] / unique_values.sum()) * 100\n",
        "    hp_percent = (unique_values['HP'] / unique_values.sum()) * 100\n",
        "    data['TP'].append(tp_percent)\n",
        "    data['SL'].append(sl_percent)\n",
        "    data['HP'].append(hp_percent)\n",
        "\n",
        "df = pd.DataFrame(data)\n",
        "\n",
        "print(df.to_string())"
      ],
      "metadata": {
        "colab": {
          "base_uri": "https://localhost:8080/"
        },
        "id": "p2RmOz9vEpBK",
        "outputId": "0c5789af-c350-452d-d8a5-c17ea164747e"
      },
      "execution_count": null,
      "outputs": [
        {
          "output_type": "stream",
          "name": "stdout",
          "text": [
            "                                               Target Setting         TP         SL         HP\n",
            "0  TP = 98th Percentile,  SL = 5th Percentile, Window = 10_hr  40.134176  44.561075  15.304749\n",
            "1  TP = 98th Percentile,  SL = 5th Percentile, Window = 15_hr  34.901764  45.542295  19.555941\n",
            "2                 TP = 2*Stdev, SL = -2*Stdev, Window = 10_hr  27.248249  27.300732  45.451019\n",
            "3                 TP = 2*Stdev, SL = -2*Stdev, Window = 15_hr  21.564019  21.684960  56.751021\n",
            "4             TP = Max Return, SL = Min Return, Window = 10hr  39.426785  41.651644  18.921571\n",
            "5             TP = Max Return, SL = Min Return, Window = 15hr  34.383771  37.284075  28.332154\n"
          ]
        }
      ]
    },
    {
      "cell_type": "markdown",
      "source": [
        "I would like to minimize the probability of hitting neither TP or SL. We want there to be enough instances of TP and (SL or HP) for the dataset to be balanced. In  other words, I want the model to have enough 'target' examples and 'non-target' examples"
      ],
      "metadata": {
        "id": "y7eSjyB2zbpD"
      }
    },
    {
      "cell_type": "markdown",
      "source": [
        "The first setting, TP = 98th Percentile,  SL = 5th Percentile, Window = 10_hr, has the lowest percentage of neither TP or SL happening, and additionaly has similar percentages of TP and SL. I initially thought this would be a good choice.\n",
        "\n",
        "However, I realized that this target variable may not be good to use at all.\n",
        "\n",
        "1.   When using this target, we could be predicting whether or not we hit a **negative** return\n",
        "2.   For example, the 98th Percentile of Return in the last 10 hours could be something like -1%, if BTC has been trending downward in the last 10 hours.\n",
        "3. Then, we would be trying to capture any return over -1%, which could still be negative\n"
      ],
      "metadata": {
        "id": "XHPjpVzf1AVQ"
      }
    },
    {
      "cell_type": "markdown",
      "source": [
        "Rather, a Target based on 2Stdev of returns in the last 10 hours will only try and capture **positive** values\n",
        "\n",
        "Therefore, I will go TP = 2Stdev, SL = -2Stdev, Window = 10_hr as it captures about 27% of each TP and SL"
      ],
      "metadata": {
        "id": "gqGS5N8Iv55F"
      }
    },
    {
      "cell_type": "markdown",
      "source": [
        "# Model Building"
      ],
      "metadata": {
        "id": "0K-ipVXhXiBr"
      }
    },
    {
      "cell_type": "markdown",
      "source": [
        "Drop unnessecary columns"
      ],
      "metadata": {
        "id": "eJSUM5FH11cR"
      }
    },
    {
      "cell_type": "code",
      "source": [
        "btc_merged.drop(columns=['TP_time_98th_Percentile_Returns_10',\n",
        "       'TP_time_Std_Dev_Returns_10', 'TP_time_Max_Returns_10',\n",
        "       'TP_time_98th_Percentile_Returns_15', 'TP_time_Std_Dev_Returns_15',\n",
        "       'TP_time_Max_Returns_15', 'SL_time_5th_Percentile_Returns_10',\n",
        "       'TP_time_Std_Dev_Returns_10_Neg', 'TP_time_Min_Returns_10',\n",
        "       'SL_time_5th_Percentile_Returns_15', 'TP_time_Std_Dev_Returns_15_Neg', 'Label_Percentile_15',\n",
        "       'Label_Percentile_10', 'Label_Stdev_15', 'Label_Min_Max_10',\n",
        "       'Label_Min_Max_15', 'TP_time_Min_Returns_15'], inplace=True)\n"
      ],
      "metadata": {
        "id": "otwXHkiP166f"
      },
      "execution_count": null,
      "outputs": []
    },
    {
      "cell_type": "code",
      "source": [
        "btc_merged.columns"
      ],
      "metadata": {
        "colab": {
          "base_uri": "https://localhost:8080/"
        },
        "id": "pV7FifHs2ggN",
        "outputId": "e2052517-7a23-4ae9-ae1c-fce7850b34b6"
      },
      "execution_count": null,
      "outputs": [
        {
          "output_type": "execute_result",
          "data": {
            "text/plain": [
              "Index(['Unnamed: 0', 'open', 'high', 'low', 'close', 'volume', 'date',\n",
              "       'time_in_seconds', 'Percentile_98th_Returns_10', 'Std_Dev_Returns_10',\n",
              "       'Max_Returns_10', 'Percentile_5th_Returns_10', 'Std_Dev_Returns_10_Neg',\n",
              "       'Min_Returns_10', 'Percentile_98th_Returns_15', 'Std_Dev_Returns_15',\n",
              "       'Max_Returns_15', 'Percentile_5th_Returns_15', 'Std_Dev_Returns_15_Neg',\n",
              "       'Min_Returns_15', 'Label_Stdev_10'],\n",
              "      dtype='object')"
            ]
          },
          "metadata": {},
          "execution_count": 82
        }
      ]
    },
    {
      "cell_type": "markdown",
      "source": [
        "## Defining The Target"
      ],
      "metadata": {
        "id": "HDmk69Iy3pjf"
      }
    },
    {
      "cell_type": "markdown",
      "source": [
        "**Will we hit Return in the next 7 hours that is greater than 2Stdev of Return in the last 10 hours, before we hit the -2Stdev of Returns or the holding period limit?**\n",
        "\n",
        "By using this, maybe we can capture returns above the recent range of returns.\n",
        "Then, we can predict whether returns in the future will exceed this normal range\n"
      ],
      "metadata": {
        "id": "G-nsIqOXVat2"
      }
    },
    {
      "cell_type": "code",
      "source": [
        "btc_merged['Target'] = [1 if x == 'TP' else 0 for x in btc_merged['Label_Stdev_10']]\n"
      ],
      "metadata": {
        "id": "Mh1XwRWf23k5"
      },
      "execution_count": null,
      "outputs": []
    },
    {
      "cell_type": "code",
      "source": [
        "btc_merged['Target'].value_counts()\n"
      ],
      "metadata": {
        "colab": {
          "base_uri": "https://localhost:8080/"
        },
        "id": "GuuH6YPc3LSM",
        "outputId": "50f5a471-4618-4452-ff00-d63101c53a2f"
      },
      "execution_count": null,
      "outputs": [
        {
          "output_type": "execute_result",
          "data": {
            "text/plain": [
              "Target\n",
              "0    31882\n",
              "1    11941\n",
              "Name: count, dtype: int64"
            ]
          },
          "metadata": {},
          "execution_count": 84
        }
      ]
    },
    {
      "cell_type": "markdown",
      "source": [
        "## Feature Engineering\n",
        "\n",
        "Earlier we calculated Min Returns, Max Returns, Percentiles, and Stdev of Returns in the last 10 and 15 hours. We can start by basing some features on these values"
      ],
      "metadata": {
        "id": "TEEVrbxd37L4"
      }
    },
    {
      "cell_type": "markdown",
      "source": [
        "**Max- Min Difference**\n",
        "\n",
        "Perhaps we can capture some indication of Volatility in the last 10 and 15 hours"
      ],
      "metadata": {
        "id": "rAx9n0u24ywn"
      }
    },
    {
      "cell_type": "code",
      "source": [
        "btc_merged['Max_Min_10_Diff'] = btc_merged['Max_Returns_10'] - btc_merged['Min_Returns_10']\n",
        "btc_merged['Max_Min_15_Diff'] = btc_merged['Max_Returns_15'] - btc_merged['Min_Returns_15']"
      ],
      "metadata": {
        "id": "il6YFXgx4RI_"
      },
      "execution_count": null,
      "outputs": []
    },
    {
      "cell_type": "code",
      "source": [
        "btc_merged['Percentile_10_Diff'] = btc_merged['Percentile_98th_Returns_10'] - btc_merged['Percentile_5th_Returns_10']\n",
        "btc_merged['Percentile_15_Diff'] = btc_merged['Percentile_98th_Returns_15'] - btc_merged['Percentile_5th_Returns_15']"
      ],
      "metadata": {
        "id": "5SQM2Q0r473_"
      },
      "execution_count": null,
      "outputs": []
    },
    {
      "cell_type": "markdown",
      "source": [
        "## SQL Features"
      ],
      "metadata": {
        "id": "ZyLr47z7589G"
      }
    },
    {
      "cell_type": "code",
      "source": [
        "import sqlite3\n",
        "conn = sqlite3.connect(\"my_db.db\")\n",
        "btc_merged.to_sql(\"btc_merged_sql\", conn, if_exists=\"replace\",index=False)"
      ],
      "metadata": {
        "colab": {
          "base_uri": "https://localhost:8080/"
        },
        "id": "2O9QNEog6CCO",
        "outputId": "5f253710-8b3f-4a39-ac44-209886ffdf8c"
      },
      "execution_count": null,
      "outputs": [
        {
          "output_type": "execute_result",
          "data": {
            "text/plain": [
              "43823"
            ]
          },
          "metadata": {},
          "execution_count": 29
        }
      ]
    },
    {
      "cell_type": "markdown",
      "source": [
        "Average Volume in the last 10 Hours.\n",
        "\n",
        "By looking at volume, maybe the model can learn a trend in how future returns will move"
      ],
      "metadata": {
        "id": "9K3WGbcT7wYM"
      }
    },
    {
      "cell_type": "code",
      "source": [
        "query = \"\"\"\n",
        "SELECT a.date, avg(b.volume) as Volume_10\n",
        "FROM btc_merged_sql as a, btc_merged_sql as b\n",
        "WHERE\n",
        "a.time_in_seconds-b.time_in_seconds <= 36000\n",
        "and a.time_in_seconds > b.time_in_seconds\n",
        "\n",
        "GROUP BY a.date\n",
        "\"\"\"\n",
        "Volume_10 = pd.read_sql_query(query, conn)"
      ],
      "metadata": {
        "id": "xnsTlqGG6F0z"
      },
      "execution_count": null,
      "outputs": []
    },
    {
      "cell_type": "code",
      "source": [
        "#Volume_10.to_csv('/content/drive/MyDrive/Datasets/Volume_10.csv', index=False)"
      ],
      "metadata": {
        "id": "UbKTb73UFhNS"
      },
      "execution_count": null,
      "outputs": []
    },
    {
      "cell_type": "markdown",
      "source": [
        "Average Volume in the last 15 hours"
      ],
      "metadata": {
        "id": "W7AF89zJ7znE"
      }
    },
    {
      "cell_type": "code",
      "source": [
        "query = \"\"\"\n",
        "SELECT a.date, avg(b.volume) as Volume_15\n",
        "FROM btc_merged_sql as a, btc_merged_sql as b\n",
        "WHERE\n",
        "a.time_in_seconds-b.time_in_seconds <= 54000\n",
        "and a.time_in_seconds > b.time_in_seconds\n",
        "\n",
        "GROUP BY a.date\n",
        "\"\"\"\n",
        "Volume_15 = pd.read_sql_query(query, conn)"
      ],
      "metadata": {
        "id": "rMj0D5Nn7ljB"
      },
      "execution_count": null,
      "outputs": []
    },
    {
      "cell_type": "code",
      "source": [
        "#Volume_15.to_csv('/content/drive/MyDrive/Datasets/Volume_15.csv', index=False)"
      ],
      "metadata": {
        "id": "IF44cErKFlm5"
      },
      "execution_count": null,
      "outputs": []
    },
    {
      "cell_type": "markdown",
      "source": [
        "Volume Weighted Average Price (VWAP)\n",
        "\n",
        "This could be used to capture the trend in both volume and price"
      ],
      "metadata": {
        "id": "oyis9lO6WJht"
      }
    },
    {
      "cell_type": "code",
      "source": [
        "query = \"\"\"\n",
        "SELECT a.date, SUM(b.close * b.volume) / SUM(b.volume) AS vwap\n",
        "FROM btc_merged_sql as a, btc_merged_sql as b\n",
        "WHERE\n",
        "a.time_in_seconds-b.time_in_seconds <= 54000\n",
        "and a.time_in_seconds > b.time_in_seconds\n",
        "\n",
        "GROUP BY a.date\n",
        "\"\"\"\n",
        "VWAP_15 = pd.read_sql_query(query, conn)"
      ],
      "metadata": {
        "id": "iWtp_F7M8lI3"
      },
      "execution_count": null,
      "outputs": []
    },
    {
      "cell_type": "code",
      "source": [
        "VWAP_15.rename(columns={\"vwap\": \"vwap_15\"}, inplace=True)"
      ],
      "metadata": {
        "id": "vORBWjXyC9az"
      },
      "execution_count": null,
      "outputs": []
    },
    {
      "cell_type": "code",
      "source": [
        "#VWAP_15.to_csv('/content/drive/MyDrive/Datasets/VWAP_15.csv', index=False)"
      ],
      "metadata": {
        "id": "F3EnfUJ1Fo4x"
      },
      "execution_count": null,
      "outputs": []
    },
    {
      "cell_type": "code",
      "source": [
        "query = \"\"\"\n",
        "SELECT a.date, SUM(b.close * b.volume) / SUM(b.volume) AS vwap_10\n",
        "FROM btc_merged_sql as a, btc_merged_sql as b\n",
        "WHERE\n",
        "a.time_in_seconds-b.time_in_seconds <= 36000\n",
        "and a.time_in_seconds > b.time_in_seconds\n",
        "\n",
        "GROUP BY a.date\n",
        "\"\"\"\n",
        "VWAP_10 = pd.read_sql_query(query, conn)"
      ],
      "metadata": {
        "id": "_Yw9ML7UDEu2"
      },
      "execution_count": null,
      "outputs": []
    },
    {
      "cell_type": "code",
      "source": [
        "#VWAP_10.to_csv('/content/drive/MyDrive/Datasets/VWAP_10.csv', index=False)"
      ],
      "metadata": {
        "id": "W71Fteh4Fw4l"
      },
      "execution_count": null,
      "outputs": []
    },
    {
      "cell_type": "markdown",
      "source": [
        "Checkpoint: Volume/VWAP tables"
      ],
      "metadata": {
        "id": "YpfHwzujMhSp"
      }
    },
    {
      "cell_type": "code",
      "source": [
        "#Load with file location\n",
        "\n",
        "#Volume_10 = pd.read_csv('/content/drive/MyDrive/Datasets/Volume_10.csv')\n",
        "#Volume_15 = pd.read_csv('/content/drive/MyDrive/Datasets/Volume_15.csv')\n",
        "#VWAP_10 = pd.read_csv('/content/drive/MyDrive/Datasets/VWAP_10.csv')\n",
        "#VWAP_15 = pd.read_csv('/content/drive/MyDrive/Datasets/VWAP_15.csv')"
      ],
      "metadata": {
        "id": "3J0yaGRvL1VQ"
      },
      "execution_count": null,
      "outputs": []
    },
    {
      "cell_type": "code",
      "source": [
        "#If loading from csv ---------> Convert to datetime\n",
        "\n",
        "#Volume_10['date'] = pd.to_datetime(Volume_10['date'])\n",
        "#Volume_15['date'] = pd.to_datetime(Volume_15['date'])\n",
        "#VWAP_10['date'] = pd.to_datetime(VWAP_10['date'])\n",
        "#VWAP_15['date'] = pd.to_datetime(VWAP_15['date'])\n"
      ],
      "metadata": {
        "id": "eJJyfHU2MMJh"
      },
      "execution_count": null,
      "outputs": []
    },
    {
      "cell_type": "markdown",
      "source": [
        "Apply New Features"
      ],
      "metadata": {
        "id": "y5-Cj9ObW55s"
      }
    },
    {
      "cell_type": "code",
      "source": [
        "btc_merged = pd.merge(btc_merged, Volume_10, on='date', how='left')\n",
        "btc_merged = pd.merge(btc_merged, Volume_15, on='date', how='left')\n",
        "btc_merged = pd.merge(btc_merged, VWAP_10, on='date', how='left')\n",
        "btc_merged = pd.merge(btc_merged, VWAP_15, on='date', how='left')"
      ],
      "metadata": {
        "id": "o0pDLBaNFKyR"
      },
      "execution_count": null,
      "outputs": []
    },
    {
      "cell_type": "code",
      "source": [
        "btc_model = btc_merged.copy()"
      ],
      "metadata": {
        "id": "N1hoK9aOGT6_"
      },
      "execution_count": null,
      "outputs": []
    },
    {
      "cell_type": "code",
      "source": [
        "#btc_model.to_csv('/content/drive/MyDrive/Datasets/btc_model.csv', index=False)"
      ],
      "metadata": {
        "id": "Y0OIk2ZRGXR9"
      },
      "execution_count": null,
      "outputs": []
    },
    {
      "cell_type": "markdown",
      "source": [
        "## Clean Data"
      ],
      "metadata": {
        "id": "Cx-mj5-qGnOg"
      }
    },
    {
      "cell_type": "code",
      "source": [
        "import pandas as pd"
      ],
      "metadata": {
        "id": "Dc-raJdMm9Zd"
      },
      "execution_count": null,
      "outputs": []
    },
    {
      "cell_type": "markdown",
      "source": [
        "### Drop Columns"
      ],
      "metadata": {
        "id": "pzOjiCDlGvi4"
      }
    },
    {
      "cell_type": "markdown",
      "source": [
        "Checkpoint: btc_model data"
      ],
      "metadata": {
        "id": "QtRcolB9W9vJ"
      }
    },
    {
      "cell_type": "code",
      "source": [
        "#If loading data-------> Drop Unamed Axis\n",
        "\n",
        "\n",
        "#btc_model = pd.read_csv('/content/drive/MyDrive/Datasets/btc_model.csv')\n",
        "\n",
        "#btc_model.drop(columns=['Unnamed: 0'], axis=1, inplace=True)"
      ],
      "metadata": {
        "id": "S5mepw2gm6u8"
      },
      "execution_count": null,
      "outputs": []
    },
    {
      "cell_type": "code",
      "source": [
        "btc_model.columns"
      ],
      "metadata": {
        "colab": {
          "base_uri": "https://localhost:8080/"
        },
        "id": "SRip8KhinIL4",
        "outputId": "2cb35091-0535-4609-f0fe-96dd73f30bc3"
      },
      "execution_count": null,
      "outputs": [
        {
          "output_type": "execute_result",
          "data": {
            "text/plain": [
              "Index(['Unnamed: 0', 'open', 'high', 'low', 'close', 'volume', 'date',\n",
              "       'time_in_seconds', 'Percentile_98th_Returns_10', 'Std_Dev_Returns_10',\n",
              "       'Max_Returns_10', 'Percentile_5th_Returns_10', 'Std_Dev_Returns_10_Neg',\n",
              "       'Min_Returns_10', 'Percentile_98th_Returns_15', 'Std_Dev_Returns_15',\n",
              "       'Max_Returns_15', 'Percentile_5th_Returns_15', 'Std_Dev_Returns_15_Neg',\n",
              "       'Min_Returns_15', 'Label_Stdev_10', 'Target', 'Max_Min_10_Diff',\n",
              "       'Max_Min_15_Diff', 'Percentile_10_Diff', 'Percentile_15_Diff',\n",
              "       'Volume_10', 'Volume_15', 'vwap_10', 'vwap_15'],\n",
              "      dtype='object')"
            ]
          },
          "metadata": {},
          "execution_count": 91
        }
      ]
    },
    {
      "cell_type": "code",
      "source": [
        "btc_model.drop(columns=['Label_Stdev_10'], axis=1, inplace=True)"
      ],
      "metadata": {
        "id": "u7w8MlWtnT5e"
      },
      "execution_count": null,
      "outputs": []
    },
    {
      "cell_type": "markdown",
      "source": [
        "### Normalize Features"
      ],
      "metadata": {
        "id": "1BNnbz1mGzK6"
      }
    },
    {
      "cell_type": "markdown",
      "source": [
        "Since Most of my features are already based on 'Return', I am going to focus on normalizing the volume based features by the volume that day"
      ],
      "metadata": {
        "id": "TZVlivzvoBnI"
      }
    },
    {
      "cell_type": "code",
      "source": [
        "btc_model[\"Volume_10_Norm\"] = btc_model[\"Volume_10\"].div(btc_model['volume'], axis=0)\n",
        "btc_model[\"Volume_15_Norm\"] = btc_model[\"Volume_15\"].div(btc_model['volume'], axis=0)\n",
        "btc_model['vwap_10_Norm'] = btc_model['vwap_10'].div(btc_model['volume'], axis=0)\n",
        "btc_model['vwap_15_Norm'] = btc_model['vwap_15'].div(btc_model['volume'], axis=0)"
      ],
      "metadata": {
        "id": "3ThBdTeXoBGM"
      },
      "execution_count": null,
      "outputs": []
    },
    {
      "cell_type": "markdown",
      "source": [
        "### Test Train Split"
      ],
      "metadata": {
        "id": "dvee2aKTG8ZI"
      }
    },
    {
      "cell_type": "markdown",
      "source": [
        "70% Train, 15% Test 1, 15% Test 2"
      ],
      "metadata": {
        "id": "DWL_h1T26G01"
      }
    },
    {
      "cell_type": "code",
      "source": [
        "split_1_length = int(0.15 * len(btc_model))\n",
        "split_2_length = int(0.70 * len(btc_model))\n",
        "test_1 = btc_model.iloc[:split_1_length, :]\n",
        "train = btc_model.iloc[split_1_length:split_1_length + split_2_length, :]\n",
        "test_2 = btc_model.iloc[split_1_length + split_2_length:, :]"
      ],
      "metadata": {
        "id": "3T3KlvCho4HL"
      },
      "execution_count": null,
      "outputs": []
    },
    {
      "cell_type": "markdown",
      "source": [
        "Date Ranges"
      ],
      "metadata": {
        "id": "Ygcr_C_Q6Cny"
      }
    },
    {
      "cell_type": "code",
      "source": [
        "train_start_date = train['date'].iloc[0]\n",
        "train_end_date = train['date'].iloc[-1]\n",
        "test_1_start_date = test_1['date'].iloc[0]\n",
        "test_1_end_date = test_1['date'].iloc[-1]\n",
        "test_2_start_date = test_2['date'].iloc[0]\n",
        "test_2_end_date = test_2['date'].iloc[-1]\n",
        "\n",
        "print(f\"Train: {train_start_date} to {train_end_date}\")\n",
        "print(f\"Test 1: {test_1_start_date} to {test_1_end_date}\")\n",
        "print(f\"Test 2: {test_2_start_date} to {test_2_end_date}\")\n"
      ],
      "metadata": {
        "colab": {
          "base_uri": "https://localhost:8080/"
        },
        "id": "gg8nfojs5osQ",
        "outputId": "43cd007f-456f-421b-bdb6-f4fafb24add4"
      },
      "execution_count": null,
      "outputs": [
        {
          "output_type": "stream",
          "name": "stdout",
          "text": [
            "Train: 2018-10-01 22:00:00 to 2022-04-02 01:00:00\n",
            "Test 1: 2018-01-01 01:00:00 to 2018-10-01 21:00:00\n",
            "Test 2: 2022-04-02 02:00:00 to 2022-12-31 23:00:00\n"
          ]
        }
      ]
    },
    {
      "cell_type": "code",
      "source": [
        "Y_train = train['Target']\n",
        "X_train = train.drop(['Target'], axis = 1)\n",
        "\n",
        "Y_test_1 = test_1['Target']\n",
        "X_test_1 = test_1.drop(['Target'], axis = 1)\n",
        "\n",
        "Y_test_2 = test_2['Target']\n",
        "X_test_2 = test_2.drop(['Target'], axis = 1)"
      ],
      "metadata": {
        "id": "ZTJalQhmp_8c"
      },
      "execution_count": null,
      "outputs": []
    },
    {
      "cell_type": "code",
      "source": [
        "print(f\"X_train shape: {X_train.shape}\")\n",
        "print(f\"Y_train shape: {Y_train.shape}\")\n",
        "print(f\"X_test_1 shape: {X_test_1.shape}\")\n",
        "print(f\"Y_test_1 shape: {Y_test_1.shape}\")\n",
        "print(f\"X_test_2 shape: {X_test_2.shape}\")\n",
        "print(f\"Y_test_2 shape: {Y_test_2.shape}\")\n"
      ],
      "metadata": {
        "colab": {
          "base_uri": "https://localhost:8080/"
        },
        "id": "eryzydRxqdd4",
        "outputId": "a36f138e-1218-4561-b433-b73b31b7ac4a"
      },
      "execution_count": null,
      "outputs": [
        {
          "output_type": "stream",
          "name": "stdout",
          "text": [
            "X_train shape: (30676, 32)\n",
            "Y_train shape: (30676,)\n",
            "X_test_1 shape: (6573, 32)\n",
            "Y_test_1 shape: (6573,)\n",
            "X_test_2 shape: (6574, 32)\n",
            "Y_test_2 shape: (6574,)\n"
          ]
        }
      ]
    },
    {
      "cell_type": "code",
      "source": [
        "X_train.drop(columns=['date'], axis=1, inplace=True)\n",
        "X_test_1.drop(columns=['date'], axis=1, inplace=True)\n",
        "X_test_2.drop(columns=['date'], axis=1, inplace=True)\n"
      ],
      "metadata": {
        "id": "K-HpMYDs6kxI"
      },
      "execution_count": null,
      "outputs": []
    },
    {
      "cell_type": "markdown",
      "source": [
        "## Initial Model"
      ],
      "metadata": {
        "id": "o0l0LnAWHEnh"
      }
    },
    {
      "cell_type": "code",
      "source": [
        "import pandas as pd\n",
        "from sklearn.model_selection import train_test_split\n",
        "from xgboost import XGBClassifier\n",
        "from sklearn.metrics import accuracy_score\n",
        "\n",
        "\n",
        "params = {\n",
        "    'n_estimators': 100,\n",
        "    'learning_rate': 0.1,\n",
        "    'max_depth': 3,\n",
        "    'min_child_weight': 1,\n",
        "    'subsample': 0.8,\n",
        "    'colsample_bytree': 0.8\n",
        "}\n",
        "\n",
        "model = XGBClassifier(**params)\n",
        "\n",
        "model.fit(X_train, Y_train)"
      ],
      "metadata": {
        "colab": {
          "base_uri": "https://localhost:8080/",
          "height": 248
        },
        "id": "h1tEPe28uSaI",
        "outputId": "2dcae24b-9566-4eb0-d5eb-1f82167e156c"
      },
      "execution_count": null,
      "outputs": [
        {
          "output_type": "execute_result",
          "data": {
            "text/plain": [
              "XGBClassifier(base_score=None, booster=None, callbacks=None,\n",
              "              colsample_bylevel=None, colsample_bynode=None,\n",
              "              colsample_bytree=0.8, device=None, early_stopping_rounds=None,\n",
              "              enable_categorical=False, eval_metric=None, feature_types=None,\n",
              "              gamma=None, grow_policy=None, importance_type=None,\n",
              "              interaction_constraints=None, learning_rate=0.1, max_bin=None,\n",
              "              max_cat_threshold=None, max_cat_to_onehot=None,\n",
              "              max_delta_step=None, max_depth=3, max_leaves=None,\n",
              "              min_child_weight=1, missing=nan, monotone_constraints=None,\n",
              "              multi_strategy=None, n_estimators=100, n_jobs=None,\n",
              "              num_parallel_tree=None, random_state=None, ...)"
            ],
            "text/html": [
              "<style>#sk-container-id-2 {color: black;background-color: white;}#sk-container-id-2 pre{padding: 0;}#sk-container-id-2 div.sk-toggleable {background-color: white;}#sk-container-id-2 label.sk-toggleable__label {cursor: pointer;display: block;width: 100%;margin-bottom: 0;padding: 0.3em;box-sizing: border-box;text-align: center;}#sk-container-id-2 label.sk-toggleable__label-arrow:before {content: \"▸\";float: left;margin-right: 0.25em;color: #696969;}#sk-container-id-2 label.sk-toggleable__label-arrow:hover:before {color: black;}#sk-container-id-2 div.sk-estimator:hover label.sk-toggleable__label-arrow:before {color: black;}#sk-container-id-2 div.sk-toggleable__content {max-height: 0;max-width: 0;overflow: hidden;text-align: left;background-color: #f0f8ff;}#sk-container-id-2 div.sk-toggleable__content pre {margin: 0.2em;color: black;border-radius: 0.25em;background-color: #f0f8ff;}#sk-container-id-2 input.sk-toggleable__control:checked~div.sk-toggleable__content {max-height: 200px;max-width: 100%;overflow: auto;}#sk-container-id-2 input.sk-toggleable__control:checked~label.sk-toggleable__label-arrow:before {content: \"▾\";}#sk-container-id-2 div.sk-estimator input.sk-toggleable__control:checked~label.sk-toggleable__label {background-color: #d4ebff;}#sk-container-id-2 div.sk-label input.sk-toggleable__control:checked~label.sk-toggleable__label {background-color: #d4ebff;}#sk-container-id-2 input.sk-hidden--visually {border: 0;clip: rect(1px 1px 1px 1px);clip: rect(1px, 1px, 1px, 1px);height: 1px;margin: -1px;overflow: hidden;padding: 0;position: absolute;width: 1px;}#sk-container-id-2 div.sk-estimator {font-family: monospace;background-color: #f0f8ff;border: 1px dotted black;border-radius: 0.25em;box-sizing: border-box;margin-bottom: 0.5em;}#sk-container-id-2 div.sk-estimator:hover {background-color: #d4ebff;}#sk-container-id-2 div.sk-parallel-item::after {content: \"\";width: 100%;border-bottom: 1px solid gray;flex-grow: 1;}#sk-container-id-2 div.sk-label:hover label.sk-toggleable__label {background-color: #d4ebff;}#sk-container-id-2 div.sk-serial::before {content: \"\";position: absolute;border-left: 1px solid gray;box-sizing: border-box;top: 0;bottom: 0;left: 50%;z-index: 0;}#sk-container-id-2 div.sk-serial {display: flex;flex-direction: column;align-items: center;background-color: white;padding-right: 0.2em;padding-left: 0.2em;position: relative;}#sk-container-id-2 div.sk-item {position: relative;z-index: 1;}#sk-container-id-2 div.sk-parallel {display: flex;align-items: stretch;justify-content: center;background-color: white;position: relative;}#sk-container-id-2 div.sk-item::before, #sk-container-id-2 div.sk-parallel-item::before {content: \"\";position: absolute;border-left: 1px solid gray;box-sizing: border-box;top: 0;bottom: 0;left: 50%;z-index: -1;}#sk-container-id-2 div.sk-parallel-item {display: flex;flex-direction: column;z-index: 1;position: relative;background-color: white;}#sk-container-id-2 div.sk-parallel-item:first-child::after {align-self: flex-end;width: 50%;}#sk-container-id-2 div.sk-parallel-item:last-child::after {align-self: flex-start;width: 50%;}#sk-container-id-2 div.sk-parallel-item:only-child::after {width: 0;}#sk-container-id-2 div.sk-dashed-wrapped {border: 1px dashed gray;margin: 0 0.4em 0.5em 0.4em;box-sizing: border-box;padding-bottom: 0.4em;background-color: white;}#sk-container-id-2 div.sk-label label {font-family: monospace;font-weight: bold;display: inline-block;line-height: 1.2em;}#sk-container-id-2 div.sk-label-container {text-align: center;}#sk-container-id-2 div.sk-container {/* jupyter's `normalize.less` sets `[hidden] { display: none; }` but bootstrap.min.css set `[hidden] { display: none !important; }` so we also need the `!important` here to be able to override the default hidden behavior on the sphinx rendered scikit-learn.org. See: https://github.com/scikit-learn/scikit-learn/issues/21755 */display: inline-block !important;position: relative;}#sk-container-id-2 div.sk-text-repr-fallback {display: none;}</style><div id=\"sk-container-id-2\" class=\"sk-top-container\"><div class=\"sk-text-repr-fallback\"><pre>XGBClassifier(base_score=None, booster=None, callbacks=None,\n",
              "              colsample_bylevel=None, colsample_bynode=None,\n",
              "              colsample_bytree=0.8, device=None, early_stopping_rounds=None,\n",
              "              enable_categorical=False, eval_metric=None, feature_types=None,\n",
              "              gamma=None, grow_policy=None, importance_type=None,\n",
              "              interaction_constraints=None, learning_rate=0.1, max_bin=None,\n",
              "              max_cat_threshold=None, max_cat_to_onehot=None,\n",
              "              max_delta_step=None, max_depth=3, max_leaves=None,\n",
              "              min_child_weight=1, missing=nan, monotone_constraints=None,\n",
              "              multi_strategy=None, n_estimators=100, n_jobs=None,\n",
              "              num_parallel_tree=None, random_state=None, ...)</pre><b>In a Jupyter environment, please rerun this cell to show the HTML representation or trust the notebook. <br />On GitHub, the HTML representation is unable to render, please try loading this page with nbviewer.org.</b></div><div class=\"sk-container\" hidden><div class=\"sk-item\"><div class=\"sk-estimator sk-toggleable\"><input class=\"sk-toggleable__control sk-hidden--visually\" id=\"sk-estimator-id-2\" type=\"checkbox\" checked><label for=\"sk-estimator-id-2\" class=\"sk-toggleable__label sk-toggleable__label-arrow\">XGBClassifier</label><div class=\"sk-toggleable__content\"><pre>XGBClassifier(base_score=None, booster=None, callbacks=None,\n",
              "              colsample_bylevel=None, colsample_bynode=None,\n",
              "              colsample_bytree=0.8, device=None, early_stopping_rounds=None,\n",
              "              enable_categorical=False, eval_metric=None, feature_types=None,\n",
              "              gamma=None, grow_policy=None, importance_type=None,\n",
              "              interaction_constraints=None, learning_rate=0.1, max_bin=None,\n",
              "              max_cat_threshold=None, max_cat_to_onehot=None,\n",
              "              max_delta_step=None, max_depth=3, max_leaves=None,\n",
              "              min_child_weight=1, missing=nan, monotone_constraints=None,\n",
              "              multi_strategy=None, n_estimators=100, n_jobs=None,\n",
              "              num_parallel_tree=None, random_state=None, ...)</pre></div></div></div></div></div>"
            ]
          },
          "metadata": {},
          "execution_count": 99
        }
      ]
    },
    {
      "cell_type": "markdown",
      "source": [
        "## Feature Selection"
      ],
      "metadata": {
        "id": "N4K9yQeQHPo0"
      }
    },
    {
      "cell_type": "code",
      "source": [
        "feature_importance = model.feature_importances_\n",
        "\n",
        "feature_importance_df = pd.DataFrame({'Feature': X_train.columns, 'Importance': feature_importance})\n",
        "feature_importance_df = feature_importance_df.sort_values(by='Importance', ascending=False)\n",
        "print(feature_importance_df)"
      ],
      "metadata": {
        "colab": {
          "base_uri": "https://localhost:8080/"
        },
        "id": "0iP4O_fbxXcn",
        "outputId": "b4cf879e-ebc2-4e9a-ffdb-1251aee024d8"
      },
      "execution_count": null,
      "outputs": [
        {
          "output_type": "stream",
          "name": "stdout",
          "text": [
            "                       Feature  Importance\n",
            "8           Std_Dev_Returns_10    0.120337\n",
            "21          Percentile_10_Diff    0.103879\n",
            "11      Std_Dev_Returns_10_Neg    0.097572\n",
            "9               Max_Returns_10    0.043089\n",
            "5                       volume    0.041489\n",
            "0                   Unnamed: 0    0.039177\n",
            "1                         open    0.034428\n",
            "25                     vwap_10    0.034321\n",
            "4                        close    0.032163\n",
            "7   Percentile_98th_Returns_10    0.031605\n",
            "19             Max_Min_10_Diff    0.031006\n",
            "6              time_in_seconds    0.028285\n",
            "2                         high    0.026466\n",
            "24                   Volume_15    0.025880\n",
            "22          Percentile_15_Diff    0.024959\n",
            "26                     vwap_15    0.024031\n",
            "3                          low    0.021837\n",
            "17      Std_Dev_Returns_15_Neg    0.021350\n",
            "27              Volume_10_Norm    0.021162\n",
            "14          Std_Dev_Returns_15    0.020678\n",
            "20             Max_Min_15_Diff    0.020053\n",
            "28              Volume_15_Norm    0.019516\n",
            "15              Max_Returns_15    0.018862\n",
            "10   Percentile_5th_Returns_10    0.018819\n",
            "23                   Volume_10    0.018234\n",
            "12              Min_Returns_10    0.017606\n",
            "13  Percentile_98th_Returns_15    0.017226\n",
            "18              Min_Returns_15    0.016762\n",
            "30                vwap_15_Norm    0.015964\n",
            "29                vwap_10_Norm    0.013242\n",
            "16   Percentile_5th_Returns_15    0.000000\n"
          ]
        }
      ]
    },
    {
      "cell_type": "markdown",
      "source": [
        "Since I am using relatively few features, I will include all in model.\n",
        "\n",
        "Std_Dev_Returns_10 has very high importance.\n",
        "\n",
        "*   This could be due to the fact that our target is based primarily on these features\n",
        "*   This also raises questions over whether the feature contains data about the future, however, the feature looks only in the past.\n",
        "\n",
        "*   Other Features Like Percentile_10_Diff have relatively high importance\n"
      ],
      "metadata": {
        "id": "0DCmFCyqa4nO"
      }
    },
    {
      "cell_type": "markdown",
      "source": [
        "## Grid Search"
      ],
      "metadata": {
        "id": "Wxpr-CU-HRww"
      }
    },
    {
      "cell_type": "markdown",
      "source": [
        "Hyperparameters\n",
        "\n",
        "\n",
        "\n",
        "*   **n_estimators** - more trees = more fitting on train data\n",
        "*   **max_depth** - deeper trees = more fitting on train data\n",
        "*   **min_child_weight** - weights required in a child\n",
        "*   **learning_rate** - pace of gradient descent\n",
        "*   **subsample** - random choice of data to use per iteration\n",
        "*   **colsample** - random choice of features to use per iteration\n",
        "\n",
        "\n",
        "\n"
      ],
      "metadata": {
        "id": "KZZAucP5NvuC"
      }
    },
    {
      "cell_type": "code",
      "source": [
        "from sklearn.metrics import roc_auc_score\n",
        "\n",
        "n_estimators_values = [50, 100, 150, 200]\n",
        "max_depth_values = [2, 3, 4, 5]\n",
        "min_child_weight_values = [1, 3, 5]\n",
        "learning_rate_values = [0.01, 0.05, 0.1]\n",
        "subsample_values = [0.8, 1.0]\n",
        "colsample_bytree_values = [0.8, 1.0]\n",
        "\n",
        "results = []\n",
        "\n",
        "for n_estimators in n_estimators_values:\n",
        "    for max_depth in max_depth_values:\n",
        "        for min_child_weight in min_child_weight_values:\n",
        "            for learning_rate in learning_rate_values:\n",
        "                for subsample in subsample_values:\n",
        "                    for colsample_bytree in colsample_bytree_values:\n",
        "\n",
        "                        xgb = XGBClassifier(n_estimators=n_estimators,\n",
        "                                            max_depth=max_depth,\n",
        "                                            min_child_weight=min_child_weight,\n",
        "                                            learning_rate=learning_rate,\n",
        "                                            subsample=subsample,\n",
        "                                            colsample_bytree=colsample_bytree,\n",
        "                                            objective='binary:logistic',\n",
        "                                            eval_metric='logloss')\n",
        "\n",
        "                        # Train the model\n",
        "                        xgb.fit(X_train, Y_train)\n",
        "\n",
        "                        # Calculate AUC for train, test1, and test2 sets\n",
        "                        train_AUC = roc_auc_score(Y_train, xgb.predict_proba(X_train)[:, 1])\n",
        "                        test_1_AUC = roc_auc_score(Y_test_1, xgb.predict_proba(X_test_1)[:, 1])\n",
        "                        test_2_AUC = roc_auc_score(Y_test_2, xgb.predict_proba(X_test_2)[:, 1])\n",
        "\n",
        "                        # Store results\n",
        "                        results.append({\n",
        "                            'n_estimators': n_estimators,\n",
        "                            'max_depth': max_depth,\n",
        "                            'min_child_weight': min_child_weight,\n",
        "                            'learning_rate': learning_rate,\n",
        "                            'subsample': subsample,\n",
        "                            'colsample_bytree': colsample_bytree,\n",
        "                            'train_auc': train_AUC,\n",
        "                            'test1_auc': test_1_AUC,\n",
        "                            'test2_auc': test_2_AUC\n",
        "                        })\n",
        "\n",
        "results_df = pd.DataFrame(results)\n",
        "\n"
      ],
      "metadata": {
        "id": "AFO4WfV8AZDS"
      },
      "execution_count": null,
      "outputs": []
    },
    {
      "cell_type": "code",
      "source": [
        "results_df.head()"
      ],
      "metadata": {
        "colab": {
          "base_uri": "https://localhost:8080/",
          "height": 206
        },
        "id": "coW9r4bx6-eM",
        "outputId": "3c7320e1-1165-4bc8-b7de-91f21cdff2cb"
      },
      "execution_count": null,
      "outputs": [
        {
          "output_type": "execute_result",
          "data": {
            "text/plain": [
              "   n_estimators  max_depth  min_child_weight  learning_rate  subsample  \\\n",
              "0            50          2                 1           0.01        0.8   \n",
              "1            50          2                 1           0.01        0.8   \n",
              "2            50          2                 1           0.01        1.0   \n",
              "3            50          2                 1           0.01        1.0   \n",
              "4            50          2                 1           0.05        0.8   \n",
              "\n",
              "   colsample_bytree  train_auc  test1_auc  test2_auc  \n",
              "0               0.8   0.652249   0.649462   0.637115  \n",
              "1               1.0   0.652643   0.651185   0.640553  \n",
              "2               0.8   0.649570   0.648752   0.638782  \n",
              "3               1.0   0.649141   0.648636   0.638531  \n",
              "4               0.8   0.670554   0.647809   0.638246  "
            ],
            "text/html": [
              "\n",
              "  <div id=\"df-f319a2eb-cb10-440f-9cc6-184b3d4cfc79\" class=\"colab-df-container\">\n",
              "    <div>\n",
              "<style scoped>\n",
              "    .dataframe tbody tr th:only-of-type {\n",
              "        vertical-align: middle;\n",
              "    }\n",
              "\n",
              "    .dataframe tbody tr th {\n",
              "        vertical-align: top;\n",
              "    }\n",
              "\n",
              "    .dataframe thead th {\n",
              "        text-align: right;\n",
              "    }\n",
              "</style>\n",
              "<table border=\"1\" class=\"dataframe\">\n",
              "  <thead>\n",
              "    <tr style=\"text-align: right;\">\n",
              "      <th></th>\n",
              "      <th>n_estimators</th>\n",
              "      <th>max_depth</th>\n",
              "      <th>min_child_weight</th>\n",
              "      <th>learning_rate</th>\n",
              "      <th>subsample</th>\n",
              "      <th>colsample_bytree</th>\n",
              "      <th>train_auc</th>\n",
              "      <th>test1_auc</th>\n",
              "      <th>test2_auc</th>\n",
              "    </tr>\n",
              "  </thead>\n",
              "  <tbody>\n",
              "    <tr>\n",
              "      <th>0</th>\n",
              "      <td>50</td>\n",
              "      <td>2</td>\n",
              "      <td>1</td>\n",
              "      <td>0.01</td>\n",
              "      <td>0.8</td>\n",
              "      <td>0.8</td>\n",
              "      <td>0.652249</td>\n",
              "      <td>0.649462</td>\n",
              "      <td>0.637115</td>\n",
              "    </tr>\n",
              "    <tr>\n",
              "      <th>1</th>\n",
              "      <td>50</td>\n",
              "      <td>2</td>\n",
              "      <td>1</td>\n",
              "      <td>0.01</td>\n",
              "      <td>0.8</td>\n",
              "      <td>1.0</td>\n",
              "      <td>0.652643</td>\n",
              "      <td>0.651185</td>\n",
              "      <td>0.640553</td>\n",
              "    </tr>\n",
              "    <tr>\n",
              "      <th>2</th>\n",
              "      <td>50</td>\n",
              "      <td>2</td>\n",
              "      <td>1</td>\n",
              "      <td>0.01</td>\n",
              "      <td>1.0</td>\n",
              "      <td>0.8</td>\n",
              "      <td>0.649570</td>\n",
              "      <td>0.648752</td>\n",
              "      <td>0.638782</td>\n",
              "    </tr>\n",
              "    <tr>\n",
              "      <th>3</th>\n",
              "      <td>50</td>\n",
              "      <td>2</td>\n",
              "      <td>1</td>\n",
              "      <td>0.01</td>\n",
              "      <td>1.0</td>\n",
              "      <td>1.0</td>\n",
              "      <td>0.649141</td>\n",
              "      <td>0.648636</td>\n",
              "      <td>0.638531</td>\n",
              "    </tr>\n",
              "    <tr>\n",
              "      <th>4</th>\n",
              "      <td>50</td>\n",
              "      <td>2</td>\n",
              "      <td>1</td>\n",
              "      <td>0.05</td>\n",
              "      <td>0.8</td>\n",
              "      <td>0.8</td>\n",
              "      <td>0.670554</td>\n",
              "      <td>0.647809</td>\n",
              "      <td>0.638246</td>\n",
              "    </tr>\n",
              "  </tbody>\n",
              "</table>\n",
              "</div>\n",
              "    <div class=\"colab-df-buttons\">\n",
              "\n",
              "  <div class=\"colab-df-container\">\n",
              "    <button class=\"colab-df-convert\" onclick=\"convertToInteractive('df-f319a2eb-cb10-440f-9cc6-184b3d4cfc79')\"\n",
              "            title=\"Convert this dataframe to an interactive table.\"\n",
              "            style=\"display:none;\">\n",
              "\n",
              "  <svg xmlns=\"http://www.w3.org/2000/svg\" height=\"24px\" viewBox=\"0 -960 960 960\">\n",
              "    <path d=\"M120-120v-720h720v720H120Zm60-500h600v-160H180v160Zm220 220h160v-160H400v160Zm0 220h160v-160H400v160ZM180-400h160v-160H180v160Zm440 0h160v-160H620v160ZM180-180h160v-160H180v160Zm440 0h160v-160H620v160Z\"/>\n",
              "  </svg>\n",
              "    </button>\n",
              "\n",
              "  <style>\n",
              "    .colab-df-container {\n",
              "      display:flex;\n",
              "      gap: 12px;\n",
              "    }\n",
              "\n",
              "    .colab-df-convert {\n",
              "      background-color: #E8F0FE;\n",
              "      border: none;\n",
              "      border-radius: 50%;\n",
              "      cursor: pointer;\n",
              "      display: none;\n",
              "      fill: #1967D2;\n",
              "      height: 32px;\n",
              "      padding: 0 0 0 0;\n",
              "      width: 32px;\n",
              "    }\n",
              "\n",
              "    .colab-df-convert:hover {\n",
              "      background-color: #E2EBFA;\n",
              "      box-shadow: 0px 1px 2px rgba(60, 64, 67, 0.3), 0px 1px 3px 1px rgba(60, 64, 67, 0.15);\n",
              "      fill: #174EA6;\n",
              "    }\n",
              "\n",
              "    .colab-df-buttons div {\n",
              "      margin-bottom: 4px;\n",
              "    }\n",
              "\n",
              "    [theme=dark] .colab-df-convert {\n",
              "      background-color: #3B4455;\n",
              "      fill: #D2E3FC;\n",
              "    }\n",
              "\n",
              "    [theme=dark] .colab-df-convert:hover {\n",
              "      background-color: #434B5C;\n",
              "      box-shadow: 0px 1px 3px 1px rgba(0, 0, 0, 0.15);\n",
              "      filter: drop-shadow(0px 1px 2px rgba(0, 0, 0, 0.3));\n",
              "      fill: #FFFFFF;\n",
              "    }\n",
              "  </style>\n",
              "\n",
              "    <script>\n",
              "      const buttonEl =\n",
              "        document.querySelector('#df-f319a2eb-cb10-440f-9cc6-184b3d4cfc79 button.colab-df-convert');\n",
              "      buttonEl.style.display =\n",
              "        google.colab.kernel.accessAllowed ? 'block' : 'none';\n",
              "\n",
              "      async function convertToInteractive(key) {\n",
              "        const element = document.querySelector('#df-f319a2eb-cb10-440f-9cc6-184b3d4cfc79');\n",
              "        const dataTable =\n",
              "          await google.colab.kernel.invokeFunction('convertToInteractive',\n",
              "                                                    [key], {});\n",
              "        if (!dataTable) return;\n",
              "\n",
              "        const docLinkHtml = 'Like what you see? Visit the ' +\n",
              "          '<a target=\"_blank\" href=https://colab.research.google.com/notebooks/data_table.ipynb>data table notebook</a>'\n",
              "          + ' to learn more about interactive tables.';\n",
              "        element.innerHTML = '';\n",
              "        dataTable['output_type'] = 'display_data';\n",
              "        await google.colab.output.renderOutput(dataTable, element);\n",
              "        const docLink = document.createElement('div');\n",
              "        docLink.innerHTML = docLinkHtml;\n",
              "        element.appendChild(docLink);\n",
              "      }\n",
              "    </script>\n",
              "  </div>\n",
              "\n",
              "\n",
              "<div id=\"df-6b6c8cab-1644-4c65-9e58-0c6caec886ac\">\n",
              "  <button class=\"colab-df-quickchart\" onclick=\"quickchart('df-6b6c8cab-1644-4c65-9e58-0c6caec886ac')\"\n",
              "            title=\"Suggest charts\"\n",
              "            style=\"display:none;\">\n",
              "\n",
              "<svg xmlns=\"http://www.w3.org/2000/svg\" height=\"24px\"viewBox=\"0 0 24 24\"\n",
              "     width=\"24px\">\n",
              "    <g>\n",
              "        <path d=\"M19 3H5c-1.1 0-2 .9-2 2v14c0 1.1.9 2 2 2h14c1.1 0 2-.9 2-2V5c0-1.1-.9-2-2-2zM9 17H7v-7h2v7zm4 0h-2V7h2v10zm4 0h-2v-4h2v4z\"/>\n",
              "    </g>\n",
              "</svg>\n",
              "  </button>\n",
              "\n",
              "<style>\n",
              "  .colab-df-quickchart {\n",
              "      --bg-color: #E8F0FE;\n",
              "      --fill-color: #1967D2;\n",
              "      --hover-bg-color: #E2EBFA;\n",
              "      --hover-fill-color: #174EA6;\n",
              "      --disabled-fill-color: #AAA;\n",
              "      --disabled-bg-color: #DDD;\n",
              "  }\n",
              "\n",
              "  [theme=dark] .colab-df-quickchart {\n",
              "      --bg-color: #3B4455;\n",
              "      --fill-color: #D2E3FC;\n",
              "      --hover-bg-color: #434B5C;\n",
              "      --hover-fill-color: #FFFFFF;\n",
              "      --disabled-bg-color: #3B4455;\n",
              "      --disabled-fill-color: #666;\n",
              "  }\n",
              "\n",
              "  .colab-df-quickchart {\n",
              "    background-color: var(--bg-color);\n",
              "    border: none;\n",
              "    border-radius: 50%;\n",
              "    cursor: pointer;\n",
              "    display: none;\n",
              "    fill: var(--fill-color);\n",
              "    height: 32px;\n",
              "    padding: 0;\n",
              "    width: 32px;\n",
              "  }\n",
              "\n",
              "  .colab-df-quickchart:hover {\n",
              "    background-color: var(--hover-bg-color);\n",
              "    box-shadow: 0 1px 2px rgba(60, 64, 67, 0.3), 0 1px 3px 1px rgba(60, 64, 67, 0.15);\n",
              "    fill: var(--button-hover-fill-color);\n",
              "  }\n",
              "\n",
              "  .colab-df-quickchart-complete:disabled,\n",
              "  .colab-df-quickchart-complete:disabled:hover {\n",
              "    background-color: var(--disabled-bg-color);\n",
              "    fill: var(--disabled-fill-color);\n",
              "    box-shadow: none;\n",
              "  }\n",
              "\n",
              "  .colab-df-spinner {\n",
              "    border: 2px solid var(--fill-color);\n",
              "    border-color: transparent;\n",
              "    border-bottom-color: var(--fill-color);\n",
              "    animation:\n",
              "      spin 1s steps(1) infinite;\n",
              "  }\n",
              "\n",
              "  @keyframes spin {\n",
              "    0% {\n",
              "      border-color: transparent;\n",
              "      border-bottom-color: var(--fill-color);\n",
              "      border-left-color: var(--fill-color);\n",
              "    }\n",
              "    20% {\n",
              "      border-color: transparent;\n",
              "      border-left-color: var(--fill-color);\n",
              "      border-top-color: var(--fill-color);\n",
              "    }\n",
              "    30% {\n",
              "      border-color: transparent;\n",
              "      border-left-color: var(--fill-color);\n",
              "      border-top-color: var(--fill-color);\n",
              "      border-right-color: var(--fill-color);\n",
              "    }\n",
              "    40% {\n",
              "      border-color: transparent;\n",
              "      border-right-color: var(--fill-color);\n",
              "      border-top-color: var(--fill-color);\n",
              "    }\n",
              "    60% {\n",
              "      border-color: transparent;\n",
              "      border-right-color: var(--fill-color);\n",
              "    }\n",
              "    80% {\n",
              "      border-color: transparent;\n",
              "      border-right-color: var(--fill-color);\n",
              "      border-bottom-color: var(--fill-color);\n",
              "    }\n",
              "    90% {\n",
              "      border-color: transparent;\n",
              "      border-bottom-color: var(--fill-color);\n",
              "    }\n",
              "  }\n",
              "</style>\n",
              "\n",
              "  <script>\n",
              "    async function quickchart(key) {\n",
              "      const quickchartButtonEl =\n",
              "        document.querySelector('#' + key + ' button');\n",
              "      quickchartButtonEl.disabled = true;  // To prevent multiple clicks.\n",
              "      quickchartButtonEl.classList.add('colab-df-spinner');\n",
              "      try {\n",
              "        const charts = await google.colab.kernel.invokeFunction(\n",
              "            'suggestCharts', [key], {});\n",
              "      } catch (error) {\n",
              "        console.error('Error during call to suggestCharts:', error);\n",
              "      }\n",
              "      quickchartButtonEl.classList.remove('colab-df-spinner');\n",
              "      quickchartButtonEl.classList.add('colab-df-quickchart-complete');\n",
              "    }\n",
              "    (() => {\n",
              "      let quickchartButtonEl =\n",
              "        document.querySelector('#df-6b6c8cab-1644-4c65-9e58-0c6caec886ac button');\n",
              "      quickchartButtonEl.style.display =\n",
              "        google.colab.kernel.accessAllowed ? 'block' : 'none';\n",
              "    })();\n",
              "  </script>\n",
              "</div>\n",
              "\n",
              "    </div>\n",
              "  </div>\n"
            ],
            "application/vnd.google.colaboratory.intrinsic+json": {
              "type": "dataframe",
              "variable_name": "results_df",
              "summary": "{\n  \"name\": \"results_df\",\n  \"rows\": 576,\n  \"fields\": [\n    {\n      \"column\": \"n_estimators\",\n      \"properties\": {\n        \"dtype\": \"number\",\n        \"std\": 55,\n        \"min\": 50,\n        \"max\": 200,\n        \"num_unique_values\": 4,\n        \"samples\": [\n          100,\n          200,\n          50\n        ],\n        \"semantic_type\": \"\",\n        \"description\": \"\"\n      }\n    },\n    {\n      \"column\": \"max_depth\",\n      \"properties\": {\n        \"dtype\": \"number\",\n        \"std\": 1,\n        \"min\": 2,\n        \"max\": 5,\n        \"num_unique_values\": 4,\n        \"samples\": [\n          3,\n          5,\n          2\n        ],\n        \"semantic_type\": \"\",\n        \"description\": \"\"\n      }\n    },\n    {\n      \"column\": \"min_child_weight\",\n      \"properties\": {\n        \"dtype\": \"number\",\n        \"std\": 1,\n        \"min\": 1,\n        \"max\": 5,\n        \"num_unique_values\": 3,\n        \"samples\": [\n          1,\n          3,\n          5\n        ],\n        \"semantic_type\": \"\",\n        \"description\": \"\"\n      }\n    },\n    {\n      \"column\": \"learning_rate\",\n      \"properties\": {\n        \"dtype\": \"number\",\n        \"std\": 0.03684987168876251,\n        \"min\": 0.01,\n        \"max\": 0.1,\n        \"num_unique_values\": 3,\n        \"samples\": [\n          0.01,\n          0.05,\n          0.1\n        ],\n        \"semantic_type\": \"\",\n        \"description\": \"\"\n      }\n    },\n    {\n      \"column\": \"subsample\",\n      \"properties\": {\n        \"dtype\": \"number\",\n        \"std\": 0.10008691874739588,\n        \"min\": 0.8,\n        \"max\": 1.0,\n        \"num_unique_values\": 2,\n        \"samples\": [\n          1.0,\n          0.8\n        ],\n        \"semantic_type\": \"\",\n        \"description\": \"\"\n      }\n    },\n    {\n      \"column\": \"colsample_bytree\",\n      \"properties\": {\n        \"dtype\": \"number\",\n        \"std\": 0.10008691874739588,\n        \"min\": 0.8,\n        \"max\": 1.0,\n        \"num_unique_values\": 2,\n        \"samples\": [\n          1.0,\n          0.8\n        ],\n        \"semantic_type\": \"\",\n        \"description\": \"\"\n      }\n    },\n    {\n      \"column\": \"train_auc\",\n      \"properties\": {\n        \"dtype\": \"number\",\n        \"std\": 0.05019510911500819,\n        \"min\": 0.6491411325024711,\n        \"max\": 0.880380001686898,\n        \"num_unique_values\": 521,\n        \"samples\": [\n          0.8685493577204173,\n          0.7662719585002022\n        ],\n        \"semantic_type\": \"\",\n        \"description\": \"\"\n      }\n    },\n    {\n      \"column\": \"test1_auc\",\n      \"properties\": {\n        \"dtype\": \"number\",\n        \"std\": 0.006678684068556143,\n        \"min\": 0.6182419598707783,\n        \"max\": 0.6561398519955502,\n        \"num_unique_values\": 519,\n        \"samples\": [\n          0.6523686804583104,\n          0.6401368435540002\n        ],\n        \"semantic_type\": \"\",\n        \"description\": \"\"\n      }\n    },\n    {\n      \"column\": \"test2_auc\",\n      \"properties\": {\n        \"dtype\": \"number\",\n        \"std\": 0.01018252827452589,\n        \"min\": 0.5925525083653221,\n        \"max\": 0.6416309530772379,\n        \"num_unique_values\": 519,\n        \"samples\": [\n          0.6321688886973493,\n          0.6264937679504268\n        ],\n        \"semantic_type\": \"\",\n        \"description\": \"\"\n      }\n    }\n  ]\n}"
            }
          },
          "metadata": {},
          "execution_count": 102
        }
      ]
    },
    {
      "cell_type": "markdown",
      "source": [
        "What is the row with the lowest differences in Train and Test AUCs?"
      ],
      "metadata": {
        "id": "5XJDv_Y1b3x-"
      }
    },
    {
      "cell_type": "code",
      "source": [
        "best_row = results_df.iloc[results_df['test2_auc'].sub(results_df['train_auc']).abs().add(results_df['test1_auc'].sub(results_df['train_auc']).abs()).idxmin()]\n",
        "print(best_row)\n"
      ],
      "metadata": {
        "colab": {
          "base_uri": "https://localhost:8080/"
        },
        "id": "Noht0JmGBEza",
        "outputId": "12de8e2a-7965-4bb0-debf-06636cc2c179"
      },
      "execution_count": null,
      "outputs": [
        {
          "output_type": "stream",
          "name": "stdout",
          "text": [
            "n_estimators        50.000000\n",
            "max_depth            2.000000\n",
            "min_child_weight     1.000000\n",
            "learning_rate        0.010000\n",
            "subsample            1.000000\n",
            "colsample_bytree     1.000000\n",
            "train_auc            0.649141\n",
            "test1_auc            0.648636\n",
            "test2_auc            0.638531\n",
            "Name: 3, dtype: float64\n"
          ]
        }
      ]
    },
    {
      "cell_type": "markdown",
      "source": [
        "Which row had the best Test AUCs?"
      ],
      "metadata": {
        "id": "4P29_D7pcACf"
      }
    },
    {
      "cell_type": "code",
      "source": [
        "best_test_auc = results_df.sort_values(by=['test1_auc', 'test2_auc'], ascending=False).head(1)\n",
        "print(best_test_auc)\n"
      ],
      "metadata": {
        "colab": {
          "base_uri": "https://localhost:8080/"
        },
        "id": "6IEf9n2q7mae",
        "outputId": "277fa8df-598d-450f-e5c2-59bb3204d440"
      },
      "execution_count": null,
      "outputs": [
        {
          "output_type": "stream",
          "name": "stdout",
          "text": [
            "     n_estimators  max_depth  min_child_weight  learning_rate  subsample  \\\n",
            "466           200          2                 5            0.1        1.0   \n",
            "\n",
            "     colsample_bytree  train_auc  test1_auc  test2_auc  \n",
            "466               0.8   0.719598    0.65614   0.629312  \n"
          ]
        }
      ]
    },
    {
      "cell_type": "markdown",
      "source": [
        "To prevent overfitting, I want to choose a model that does well on Test, and Both Train Sets.\n",
        "\n",
        "Additionally, I want a model in which the AUC of train is similar to that of both Tests.\n",
        "\n",
        "Therefore, I have chosen the model with\n",
        "\n",
        "* train_auc            0.649141\n",
        "\n",
        "* test1_auc            0.648636\n",
        "\n",
        "* test2_auc            0.638531\n",
        "\n",
        "AUCs are fairly similar, and train AUC isn't abnormally higher than the test AUCs"
      ],
      "metadata": {
        "id": "aHE1ctSE69Ai"
      }
    },
    {
      "cell_type": "markdown",
      "source": [
        "## Final Model"
      ],
      "metadata": {
        "id": "TIhFSflJHX8Y"
      }
    },
    {
      "cell_type": "code",
      "source": [
        "best_params = {\n",
        "    'n_estimators': 50,\n",
        "    'max_depth': 2,\n",
        "    'min_child_weight': 1,\n",
        "    'learning_rate': 0.01,\n",
        "    'subsample': 1,\n",
        "    'colsample_bytree': 1\n",
        "}\n",
        "\n",
        "final_model = XGBClassifier(**best_params)\n",
        "\n",
        "final_model.fit(X_train, Y_train)\n",
        "\n",
        "train_auc = roc_auc_score(Y_train, final_model.predict_proba(X_train)[:, 1])\n",
        "test_1_auc = roc_auc_score(Y_test_1, final_model.predict_proba(X_test_1)[:, 1])\n",
        "test_2_auc = roc_auc_score(Y_test_2, final_model.predict_proba(X_test_2)[:, 1])\n",
        "\n",
        "print(f\"Train AUC: {train_auc:.4f}\")\n",
        "print(f\"Test 1 AUC: {test_1_auc:.4f}\")\n",
        "print(f\"Test 2 AUC: {test_2_auc:.4f}\")\n",
        "\n"
      ],
      "metadata": {
        "colab": {
          "base_uri": "https://localhost:8080/"
        },
        "id": "lRk-_19U7kTJ",
        "outputId": "ac43b1d0-3a48-458b-eb39-5ec5df52ea52"
      },
      "execution_count": null,
      "outputs": [
        {
          "output_type": "stream",
          "name": "stdout",
          "text": [
            "Train AUC: 0.6491\n",
            "Test 1 AUC: 0.6486\n",
            "Test 2 AUC: 0.6385\n"
          ]
        }
      ]
    },
    {
      "cell_type": "markdown",
      "source": [
        "# Strategy\n",
        "\n",
        "My strategy will be built based on train data, as test data is seen as unknown.\n",
        "\n",
        "Variables for our strategy:\n",
        "\n",
        "*   Defining a threshold of our Target prediction. 0-1, due to our prediction range\n",
        "*   TP/SL. While our model uses one to predict, I will try different combinations in the strategy\n",
        "\n"
      ],
      "metadata": {
        "id": "_hNI0OQAB-_I"
      }
    },
    {
      "cell_type": "markdown",
      "source": [
        "Predictions"
      ],
      "metadata": {
        "id": "gmCQmHG_4UOZ"
      }
    },
    {
      "cell_type": "code",
      "source": [
        "predictions = final_model.predict_proba(X_train)[:, 1]\n",
        "target = Y_train\n",
        "X_Results = X_train.copy()\n",
        "X_Results['prediction'] = predictions\n",
        "X_Results['target'] = target"
      ],
      "metadata": {
        "id": "J5pCw_AgCHJd"
      },
      "execution_count": null,
      "outputs": []
    },
    {
      "cell_type": "code",
      "source": [
        "import pandas as pd\n",
        "X_Results['date'] = pd.to_datetime(X_Results['time_in_seconds'], unit='s')"
      ],
      "metadata": {
        "id": "K9TCCHqsCpSz"
      },
      "execution_count": null,
      "outputs": []
    },
    {
      "cell_type": "code",
      "source": [
        "X_Results['prediction'].describe()"
      ],
      "metadata": {
        "colab": {
          "base_uri": "https://localhost:8080/"
        },
        "id": "ABOs82lBi1Aj",
        "outputId": "0e8d0895-8696-4012-ad2a-9936aed2d43e"
      },
      "execution_count": null,
      "outputs": [
        {
          "output_type": "execute_result",
          "data": {
            "text/plain": [
              "count    30676.000000\n",
              "mean         0.288499\n",
              "std          0.038173\n",
              "min          0.218685\n",
              "25%          0.256719\n",
              "50%          0.294486\n",
              "75%          0.330184\n",
              "max          0.339695\n",
              "Name: prediction, dtype: float64"
            ]
          },
          "metadata": {},
          "execution_count": 108
        }
      ]
    },
    {
      "cell_type": "markdown",
      "source": [
        "All of my predictions are within a range, (0.21 - 0.34).\n",
        "\n",
        "I am not completely sure why this is, however, for my strategy I will base my thresholds on a range from 0.2 to 0.35 to see which performs best when trading"
      ],
      "metadata": {
        "id": "trgsl1sQ1gtU"
      }
    },
    {
      "cell_type": "code",
      "source": [
        "#X_Results.to_csv('/content/drive/MyDrive/Datasets/X_Results.csv', index=False)"
      ],
      "metadata": {
        "id": "GR8O2myUcPzu"
      },
      "execution_count": null,
      "outputs": []
    },
    {
      "cell_type": "markdown",
      "source": [
        "Checkpoint: X_Results"
      ],
      "metadata": {
        "id": "UcgzeJH_cMvJ"
      }
    },
    {
      "cell_type": "code",
      "source": [
        "#Apply file location\n",
        "\n",
        "#X_Results = pd.read_csv('/content/drive/MyDrive/Datasets/X_Results.csv')"
      ],
      "metadata": {
        "id": "oeswBDKncYbH"
      },
      "execution_count": null,
      "outputs": []
    },
    {
      "cell_type": "markdown",
      "source": [
        "## Optimal Threshold?"
      ],
      "metadata": {
        "id": "NacZVzNYObWR"
      }
    },
    {
      "cell_type": "markdown",
      "source": [
        "First we can look at Accuracy, and a confusion matrix to see what an optimal threshold might be"
      ],
      "metadata": {
        "id": "E0oqmXtxczTO"
      }
    },
    {
      "cell_type": "code",
      "source": [
        "from sklearn.metrics import confusion_matrix\n",
        "\n",
        "def find_optimal_threshold(predictions, target):\n",
        "  \"\"\"\n",
        "  Finds the optimal threshold for a binary classification model.\n",
        "\n",
        "  Args:\n",
        "    predictions: A list of predicted probabilities.\n",
        "    target: A list of true labels.\n",
        "\n",
        "  Returns:\n",
        "    The optimal threshold.\n",
        "  \"\"\"\n",
        "\n",
        "  best_threshold = 0.5\n",
        "  best_score = 0\n",
        "\n",
        "  for threshold in range(1, 35):\n",
        "    threshold = threshold / 100\n",
        "\n",
        "    predicted_labels = (predictions >= threshold).astype(int)\n",
        "\n",
        "    cm = confusion_matrix(target, predicted_labels)\n",
        "\n",
        "    score = cm[0, 0] + cm[1, 1]\n",
        "    score /= len(target)\n",
        "\n",
        "    if score > best_score:\n",
        "      best_threshold = threshold\n",
        "      best_score = score\n",
        "\n",
        "  return best_threshold\n",
        "\n",
        "optimal_threshold = find_optimal_threshold(predictions, target)\n",
        "\n",
        "print(f\"Optimal threshold: {optimal_threshold}\")\n"
      ],
      "metadata": {
        "colab": {
          "base_uri": "https://localhost:8080/"
        },
        "id": "jHssdLSMETs3",
        "outputId": "5c1b9144-166f-4b5a-a01d-d9fb5504f233"
      },
      "execution_count": null,
      "outputs": [
        {
          "output_type": "stream",
          "name": "stdout",
          "text": [
            "Optimal threshold: 0.34\n"
          ]
        }
      ]
    },
    {
      "cell_type": "code",
      "source": [
        "import matplotlib.pyplot as plt\n",
        "import seaborn as sns\n",
        "\n",
        "predicted_labels = (predictions >= optimal_threshold).astype(int)\n",
        "\n",
        "cm = confusion_matrix(target, predicted_labels)\n",
        "\n",
        "plt.figure(figsize=(8, 6))\n",
        "sns.heatmap(cm, annot=True, fmt=\"d\", cmap=\"Blues\", cbar=False)\n",
        "plt.xlabel(\"Predicted Label\")\n",
        "plt.ylabel(\"True Label\")\n",
        "plt.title(\"Confusion Matrix (Threshold:0.43)\")\n",
        "plt.show()\n"
      ],
      "metadata": {
        "colab": {
          "base_uri": "https://localhost:8080/",
          "height": 564
        },
        "id": "Sa-xoaj0Ogje",
        "outputId": "5dc8e441-9b66-44fc-b83b-f467b11a6661"
      },
      "execution_count": null,
      "outputs": [
        {
          "output_type": "display_data",
          "data": {
            "text/plain": [
              "<Figure size 800x600 with 1 Axes>"
            ],
            "image/png": "[encoded data removed]"
          },
          "metadata": {}
        }
      ]
    },
    {
      "cell_type": "markdown",
      "source": [
        "This may be the best threshold when it comes to accuracy, however, when actually trading, how well does the threshold work?\n",
        "\n",
        "The threshold predicts everything as '0'. While it gets the best accuracy, the goal of this strategy is to capture 1s, and produce the highest return."
      ],
      "metadata": {
        "id": "GZMkbkXoO68M"
      }
    },
    {
      "cell_type": "markdown",
      "source": [
        "## Strategy Building\n",
        "\n",
        "\n",
        "\n",
        "*   Buy whenever Predicted Value > Threshold Value\n",
        "*   Sell at SL%, TP%, or end of HP\n",
        "*   We can be in one position at a time\n",
        "*   I am assessing performance by:\n",
        "  *   Sum of Returns\n",
        "  *   Win Rate\n",
        "  *   Sharpe Ratio\n",
        "  *   Average Return\n",
        "\n",
        "average return\n",
        "\n",
        "\n",
        "We can grid search different threshold options and see how each trading strategy would perform\n",
        "Threshold Options: 0.25 - 0.35 with 0.01 intervals\n",
        "\n",
        "We can do the same for TP and SL options\n",
        "\n",
        "TP options: 1% - 5% at 1% intervals\n",
        "\n",
        "SL options: -1% - -5% at 1% intervals"
      ],
      "metadata": {
        "id": "f-6POrfoxPDi"
      }
    },
    {
      "cell_type": "code",
      "source": [
        "\n",
        "threshold_values = [i / 100 for i in range(20, 35)]  # 0.3 to 0.7 with 0.01 intervals\n",
        "\n",
        "take_profit_percents = [i / 100 for i in range(1, 6)]  # 0.01 to 0.05 with 0.01 intervals\n",
        "stop_loss_percents = [i / 100 for i in range(-5, 0)]  # -0.05 to -0.01 with 0.01 intervals\n",
        "\n",
        "\n",
        "waiting_period = 15\n",
        "\n",
        "results = []\n",
        "\n",
        "   # Loop through different Take Thresholds\n",
        "for threshold in threshold_values:\n",
        "    # Loop through different Take Profit percentages\n",
        "    for take_profit_percent in take_profit_percents:\n",
        "        # Loop through different Stop Loss percentages\n",
        "        for stop_loss_percent in stop_loss_percents:\n",
        "            trade_returns = []\n",
        "            num_trades = 0\n",
        "            total_return = 0\n",
        "            in_position = False\n",
        "            entry_index = None\n",
        "\n",
        "\n",
        "            for i in range(len(X_Results)):\n",
        "                # Check if prediction is above threshold and not currently in a position\n",
        "                if X_Results['prediction'].iloc[i] > threshold and not in_position:\n",
        "                    # Buy at the close price\n",
        "                    entry_price = X_Results['close'].iloc[i]\n",
        "                    entry_index = i\n",
        "                    in_position = True\n",
        "                    num_trades += 1\n",
        "\n",
        "\n",
        "                elif in_position:\n",
        "                    # Sell at the close price if take profit or stop loss condition is met or waiting period is over\n",
        "                    if (X_Results['close'].iloc[i] / entry_price > 1 + take_profit_percent) or \\\n",
        "                       (X_Results['close'].iloc[i] / entry_price < 1 + stop_loss_percent) or \\\n",
        "                       (i - entry_index >= waiting_period):\n",
        "                        # Calculate trade return\n",
        "                        trade_return = (X_Results['close'].iloc[i] - entry_price) / entry_price\n",
        "                        trade_returns.append(trade_return)\n",
        "                        total_return += trade_return\n",
        "                        in_position = False\n",
        "\n",
        "            # Calculate metrics\n",
        "            avg_return_per_trade = sum(trade_returns) / len(trade_returns) if trade_returns else 0\n",
        "            sharpe_ratio = avg_return_per_trade / (pd.Series(trade_returns).std() + 1e-6)  # Avoid division by zero\n",
        "            win_rate = sum(1 for r in trade_returns if r > 0) / len(trade_returns) if trade_returns else 0\n",
        "\n",
        "            # Store results for this combination of Threshold, Take Profit, and Stop Loss\n",
        "            results.append({\n",
        "                'Threshold': threshold,\n",
        "                'Take Profit Percent': take_profit_percent,\n",
        "                'Stop Loss Percent': stop_loss_percent,\n",
        "                'Number of Trades': num_trades,\n",
        "                'Total Return': total_return,\n",
        "                'Average Return per Trade': avg_return_per_trade,\n",
        "                'Sharpe Ratio': sharpe_ratio,\n",
        "                'Win Rate': win_rate\n",
        "            })\n",
        "\n",
        "# Create a DataFrame from the results\n",
        "results_df = pd.DataFrame(results)"
      ],
      "metadata": {
        "id": "HvAQm0qAkPJh"
      },
      "execution_count": null,
      "outputs": []
    },
    {
      "cell_type": "code",
      "source": [
        "results_df_sorted = results_df.sort_values(by='Total Return', ascending=False)"
      ],
      "metadata": {
        "id": "FPl1utSo4Mkk"
      },
      "execution_count": null,
      "outputs": []
    },
    {
      "cell_type": "code",
      "source": [
        "results_df_sorted.head(50)"
      ],
      "metadata": {
        "colab": {
          "base_uri": "https://localhost:8080/",
          "height": 1000
        },
        "id": "QQjTvY-fvtyq",
        "outputId": "ea0568c5-b6ec-443e-827a-eea4e70a36da"
      },
      "execution_count": null,
      "outputs": [
        {
          "output_type": "execute_result",
          "data": {
            "text/plain": [
              "     Threshold  Take Profit Percent  Stop Loss Percent  Number of Trades  \\\n",
              "35        0.21                 0.03              -0.05              2177   \n",
              "10        0.20                 0.03              -0.05              2177   \n",
              "60        0.22                 0.03              -0.05              2173   \n",
              "55        0.22                 0.02              -0.05              2351   \n",
              "80        0.23                 0.02              -0.05              2084   \n",
              "41        0.21                 0.04              -0.04              2113   \n",
              "16        0.20                 0.04              -0.04              2113   \n",
              "295       0.31                 0.05              -0.05              1239   \n",
              "271       0.30                 0.05              -0.04              1356   \n",
              "147       0.25                 0.05              -0.03              1853   \n",
              "122       0.24                 0.05              -0.03              1853   \n",
              "81        0.23                 0.02              -0.04              2110   \n",
              "30        0.21                 0.02              -0.05              2351   \n",
              "5         0.20                 0.02              -0.05              2351   \n",
              "172       0.26                 0.05              -0.03              1733   \n",
              "222       0.28                 0.05              -0.03              1562   \n",
              "223       0.28                 0.05              -0.02              1602   \n",
              "40        0.21                 0.04              -0.05              2080   \n",
              "15        0.20                 0.04              -0.05              2080   \n",
              "245       0.29                 0.05              -0.05              1535   \n",
              "296       0.31                 0.05              -0.04              1240   \n",
              "247       0.29                 0.05              -0.03              1549   \n",
              "272       0.30                 0.05              -0.03              1360   \n",
              "65        0.22                 0.04              -0.05              2076   \n",
              "270       0.30                 0.05              -0.05              1356   \n",
              "98        0.23                 0.05              -0.02              2074   \n",
              "46        0.21                 0.05              -0.04              2064   \n",
              "21        0.20                 0.05              -0.04              2064   \n",
              "71        0.22                 0.05              -0.04              2059   \n",
              "70        0.22                 0.05              -0.05              2024   \n",
              "220       0.28                 0.05              -0.05              1547   \n",
              "266       0.30                 0.04              -0.04              1357   \n",
              "75        0.23                 0.01              -0.05              2465   \n",
              "150       0.26                 0.01              -0.05              2219   \n",
              "248       0.29                 0.05              -0.02              1584   \n",
              "66        0.22                 0.04              -0.04              2111   \n",
              "261       0.30                 0.03              -0.04              1361   \n",
              "256       0.30                 0.02              -0.04              1377   \n",
              "170       0.26                 0.05              -0.05              1713   \n",
              "11        0.20                 0.03              -0.04              2215   \n",
              "36        0.21                 0.03              -0.04              2215   \n",
              "82        0.23                 0.02              -0.03              2207   \n",
              "297       0.31                 0.05              -0.03              1241   \n",
              "63        0.22                 0.03              -0.02              2513   \n",
              "230       0.29                 0.02              -0.05              1592   \n",
              "165       0.26                 0.04              -0.05              1721   \n",
              "265       0.30                 0.04              -0.05              1357   \n",
              "257       0.30                 0.02              -0.03              1381   \n",
              "160       0.26                 0.03              -0.05              1750   \n",
              "93        0.23                 0.04              -0.02              2105   \n",
              "\n",
              "     Total Return  Average Return per Trade  Sharpe Ratio  Win Rate  \n",
              "35       2.535744                  0.001165      0.041582  0.541360  \n",
              "10       2.535744                  0.001165      0.041582  0.541360  \n",
              "60       2.380744                  0.001096      0.039094  0.539595  \n",
              "55       2.230999                  0.000949      0.035669  0.550638  \n",
              "80       2.205735                  0.001059      0.043563  0.549208  \n",
              "41       2.185141                  0.001035      0.036346  0.526042  \n",
              "16       2.185141                  0.001035      0.036346  0.526042  \n",
              "295      2.161210                  0.001746      0.073669  0.527464  \n",
              "271      2.143548                  0.001582      0.065361  0.531365  \n",
              "147      2.108202                  0.001138      0.044220  0.520518  \n",
              "122      2.108202                  0.001138      0.044220  0.520518  \n",
              "81       2.105072                  0.000998      0.041133  0.551920  \n",
              "30       2.102576                  0.000895      0.033636  0.551064  \n",
              "5        2.102576                  0.000895      0.033636  0.551064  \n",
              "172      2.092726                  0.001208      0.047450  0.520785  \n",
              "222      2.082909                  0.001334      0.054653  0.528507  \n",
              "223      2.070095                  0.001293      0.055303  0.504685  \n",
              "40       2.060756                  0.000991      0.034390  0.525734  \n",
              "15       2.060756                  0.000991      0.034390  0.525734  \n",
              "245      2.053141                  0.001338      0.053015  0.526728  \n",
              "296      2.033780                  0.001641      0.069592  0.525424  \n",
              "247      2.032065                  0.001313      0.053645  0.524548  \n",
              "272      2.028470                  0.001493      0.063030  0.523915  \n",
              "65       2.014934                  0.000971      0.033719  0.528193  \n",
              "270      2.013948                  0.001486      0.060730  0.530627  \n",
              "98       2.011512                  0.000970      0.039277  0.503136  \n",
              "46       2.004938                  0.000972      0.033885  0.525448  \n",
              "21       2.004938                  0.000972      0.033885  0.525448  \n",
              "71       2.002058                  0.000973      0.033838  0.528669  \n",
              "70       1.989464                  0.000983      0.033678  0.521997  \n",
              "220      1.986218                  0.001285      0.050790  0.531048  \n",
              "266      1.980363                  0.001460      0.062090  0.532448  \n",
              "75       1.979573                  0.000803      0.037306  0.601461  \n",
              "150      1.966259                  0.000887      0.042820  0.602795  \n",
              "248      1.962734                  0.001240      0.053204  0.501579  \n",
              "66       1.960680                  0.000929      0.032626  0.528910  \n",
              "261      1.958334                  0.001440      0.062890  0.534559  \n",
              "256      1.942521                  0.001412      0.064285  0.550145  \n",
              "170      1.942266                  0.001135      0.042955  0.526285  \n",
              "11       1.937326                  0.000875      0.031561  0.532069  \n",
              "36       1.937326                  0.000875      0.031561  0.532069  \n",
              "82       1.935930                  0.000878      0.037464  0.549864  \n",
              "297      1.930884                  0.001557      0.067167  0.518548  \n",
              "63       1.923127                  0.000766      0.029994  0.511146  \n",
              "230      1.916690                  0.001205      0.054336  0.544940  \n",
              "165      1.916429                  0.001114      0.043153  0.529070  \n",
              "265      1.915510                  0.001413      0.059355  0.532448  \n",
              "257      1.910153                  0.001384      0.064940  0.542754  \n",
              "160      1.900262                  0.001086      0.043030  0.536878  \n",
              "93       1.892837                  0.000900      0.037081  0.503327  "
            ],
            "text/html": [
              "\n",
              "  <div id=\"df-e4b8ea8f-11c0-4361-a616-04dcf6408d38\" class=\"colab-df-container\">\n",
              "    <div>\n",
              "<style scoped>\n",
              "    .dataframe tbody tr th:only-of-type {\n",
              "        vertical-align: middle;\n",
              "    }\n",
              "\n",
              "    .dataframe tbody tr th {\n",
              "        vertical-align: top;\n",
              "    }\n",
              "\n",
              "    .dataframe thead th {\n",
              "        text-align: right;\n",
              "    }\n",
              "</style>\n",
              "<table border=\"1\" class=\"dataframe\">\n",
              "  <thead>\n",
              "    <tr style=\"text-align: right;\">\n",
              "      <th></th>\n",
              "      <th>Threshold</th>\n",
              "      <th>Take Profit Percent</th>\n",
              "      <th>Stop Loss Percent</th>\n",
              "      <th>Number of Trades</th>\n",
              "      <th>Total Return</th>\n",
              "      <th>Average Return per Trade</th>\n",
              "      <th>Sharpe Ratio</th>\n",
              "      <th>Win Rate</th>\n",
              "    </tr>\n",
              "  </thead>\n",
              "  <tbody>\n",
              "    <tr>\n",
              "      <th>35</th>\n",
              "      <td>0.21</td>\n",
              "      <td>0.03</td>\n",
              "      <td>-0.05</td>\n",
              "      <td>2177</td>\n",
              "      <td>2.535744</td>\n",
              "      <td>0.001165</td>\n",
              "      <td>0.041582</td>\n",
              "      <td>0.541360</td>\n",
              "    </tr>\n",
              "    <tr>\n",
              "      <th>10</th>\n",
              "      <td>0.20</td>\n",
              "      <td>0.03</td>\n",
              "      <td>-0.05</td>\n",
              "      <td>2177</td>\n",
              "      <td>2.535744</td>\n",
              "      <td>0.001165</td>\n",
              "      <td>0.041582</td>\n",
              "      <td>0.541360</td>\n",
              "    </tr>\n",
              "    <tr>\n",
              "      <th>60</th>\n",
              "      <td>0.22</td>\n",
              "      <td>0.03</td>\n",
              "      <td>-0.05</td>\n",
              "      <td>2173</td>\n",
              "      <td>2.380744</td>\n",
              "      <td>0.001096</td>\n",
              "      <td>0.039094</td>\n",
              "      <td>0.539595</td>\n",
              "    </tr>\n",
              "    <tr>\n",
              "      <th>55</th>\n",
              "      <td>0.22</td>\n",
              "      <td>0.02</td>\n",
              "      <td>-0.05</td>\n",
              "      <td>2351</td>\n",
              "      <td>2.230999</td>\n",
              "      <td>0.000949</td>\n",
              "      <td>0.035669</td>\n",
              "      <td>0.550638</td>\n",
              "    </tr>\n",
              "    <tr>\n",
              "      <th>80</th>\n",
              "      <td>0.23</td>\n",
              "      <td>0.02</td>\n",
              "      <td>-0.05</td>\n",
              "      <td>2084</td>\n",
              "      <td>2.205735</td>\n",
              "      <td>0.001059</td>\n",
              "      <td>0.043563</td>\n",
              "      <td>0.549208</td>\n",
              "    </tr>\n",
              "    <tr>\n",
              "      <th>41</th>\n",
              "      <td>0.21</td>\n",
              "      <td>0.04</td>\n",
              "      <td>-0.04</td>\n",
              "      <td>2113</td>\n",
              "      <td>2.185141</td>\n",
              "      <td>0.001035</td>\n",
              "      <td>0.036346</td>\n",
              "      <td>0.526042</td>\n",
              "    </tr>\n",
              "    <tr>\n",
              "      <th>16</th>\n",
              "      <td>0.20</td>\n",
              "      <td>0.04</td>\n",
              "      <td>-0.04</td>\n",
              "      <td>2113</td>\n",
              "      <td>2.185141</td>\n",
              "      <td>0.001035</td>\n",
              "      <td>0.036346</td>\n",
              "      <td>0.526042</td>\n",
              "    </tr>\n",
              "    <tr>\n",
              "      <th>295</th>\n",
              "      <td>0.31</td>\n",
              "      <td>0.05</td>\n",
              "      <td>-0.05</td>\n",
              "      <td>1239</td>\n",
              "      <td>2.161210</td>\n",
              "      <td>0.001746</td>\n",
              "      <td>0.073669</td>\n",
              "      <td>0.527464</td>\n",
              "    </tr>\n",
              "    <tr>\n",
              "      <th>271</th>\n",
              "      <td>0.30</td>\n",
              "      <td>0.05</td>\n",
              "      <td>-0.04</td>\n",
              "      <td>1356</td>\n",
              "      <td>2.143548</td>\n",
              "      <td>0.001582</td>\n",
              "      <td>0.065361</td>\n",
              "      <td>0.531365</td>\n",
              "    </tr>\n",
              "    <tr>\n",
              "      <th>147</th>\n",
              "      <td>0.25</td>\n",
              "      <td>0.05</td>\n",
              "      <td>-0.03</td>\n",
              "      <td>1853</td>\n",
              "      <td>2.108202</td>\n",
              "      <td>0.001138</td>\n",
              "      <td>0.044220</td>\n",
              "      <td>0.520518</td>\n",
              "    </tr>\n",
              "    <tr>\n",
              "      <th>122</th>\n",
              "      <td>0.24</td>\n",
              "      <td>0.05</td>\n",
              "      <td>-0.03</td>\n",
              "      <td>1853</td>\n",
              "      <td>2.108202</td>\n",
              "      <td>0.001138</td>\n",
              "      <td>0.044220</td>\n",
              "      <td>0.520518</td>\n",
              "    </tr>\n",
              "    <tr>\n",
              "      <th>81</th>\n",
              "      <td>0.23</td>\n",
              "      <td>0.02</td>\n",
              "      <td>-0.04</td>\n",
              "      <td>2110</td>\n",
              "      <td>2.105072</td>\n",
              "      <td>0.000998</td>\n",
              "      <td>0.041133</td>\n",
              "      <td>0.551920</td>\n",
              "    </tr>\n",
              "    <tr>\n",
              "      <th>30</th>\n",
              "      <td>0.21</td>\n",
              "      <td>0.02</td>\n",
              "      <td>-0.05</td>\n",
              "      <td>2351</td>\n",
              "      <td>2.102576</td>\n",
              "      <td>0.000895</td>\n",
              "      <td>0.033636</td>\n",
              "      <td>0.551064</td>\n",
              "    </tr>\n",
              "    <tr>\n",
              "      <th>5</th>\n",
              "      <td>0.20</td>\n",
              "      <td>0.02</td>\n",
              "      <td>-0.05</td>\n",
              "      <td>2351</td>\n",
              "      <td>2.102576</td>\n",
              "      <td>0.000895</td>\n",
              "      <td>0.033636</td>\n",
              "      <td>0.551064</td>\n",
              "    </tr>\n",
              "    <tr>\n",
              "      <th>172</th>\n",
              "      <td>0.26</td>\n",
              "      <td>0.05</td>\n",
              "      <td>-0.03</td>\n",
              "      <td>1733</td>\n",
              "      <td>2.092726</td>\n",
              "      <td>0.001208</td>\n",
              "      <td>0.047450</td>\n",
              "      <td>0.520785</td>\n",
              "    </tr>\n",
              "    <tr>\n",
              "      <th>222</th>\n",
              "      <td>0.28</td>\n",
              "      <td>0.05</td>\n",
              "      <td>-0.03</td>\n",
              "      <td>1562</td>\n",
              "      <td>2.082909</td>\n",
              "      <td>0.001334</td>\n",
              "      <td>0.054653</td>\n",
              "      <td>0.528507</td>\n",
              "    </tr>\n",
              "    <tr>\n",
              "      <th>223</th>\n",
              "      <td>0.28</td>\n",
              "      <td>0.05</td>\n",
              "      <td>-0.02</td>\n",
              "      <td>1602</td>\n",
              "      <td>2.070095</td>\n",
              "      <td>0.001293</td>\n",
              "      <td>0.055303</td>\n",
              "      <td>0.504685</td>\n",
              "    </tr>\n",
              "    <tr>\n",
              "      <th>40</th>\n",
              "      <td>0.21</td>\n",
              "      <td>0.04</td>\n",
              "      <td>-0.05</td>\n",
              "      <td>2080</td>\n",
              "      <td>2.060756</td>\n",
              "      <td>0.000991</td>\n",
              "      <td>0.034390</td>\n",
              "      <td>0.525734</td>\n",
              "    </tr>\n",
              "    <tr>\n",
              "      <th>15</th>\n",
              "      <td>0.20</td>\n",
              "      <td>0.04</td>\n",
              "      <td>-0.05</td>\n",
              "      <td>2080</td>\n",
              "      <td>2.060756</td>\n",
              "      <td>0.000991</td>\n",
              "      <td>0.034390</td>\n",
              "      <td>0.525734</td>\n",
              "    </tr>\n",
              "    <tr>\n",
              "      <th>245</th>\n",
              "      <td>0.29</td>\n",
              "      <td>0.05</td>\n",
              "      <td>-0.05</td>\n",
              "      <td>1535</td>\n",
              "      <td>2.053141</td>\n",
              "      <td>0.001338</td>\n",
              "      <td>0.053015</td>\n",
              "      <td>0.526728</td>\n",
              "    </tr>\n",
              "    <tr>\n",
              "      <th>296</th>\n",
              "      <td>0.31</td>\n",
              "      <td>0.05</td>\n",
              "      <td>-0.04</td>\n",
              "      <td>1240</td>\n",
              "      <td>2.033780</td>\n",
              "      <td>0.001641</td>\n",
              "      <td>0.069592</td>\n",
              "      <td>0.525424</td>\n",
              "    </tr>\n",
              "    <tr>\n",
              "      <th>247</th>\n",
              "      <td>0.29</td>\n",
              "      <td>0.05</td>\n",
              "      <td>-0.03</td>\n",
              "      <td>1549</td>\n",
              "      <td>2.032065</td>\n",
              "      <td>0.001313</td>\n",
              "      <td>0.053645</td>\n",
              "      <td>0.524548</td>\n",
              "    </tr>\n",
              "    <tr>\n",
              "      <th>272</th>\n",
              "      <td>0.30</td>\n",
              "      <td>0.05</td>\n",
              "      <td>-0.03</td>\n",
              "      <td>1360</td>\n",
              "      <td>2.028470</td>\n",
              "      <td>0.001493</td>\n",
              "      <td>0.063030</td>\n",
              "      <td>0.523915</td>\n",
              "    </tr>\n",
              "    <tr>\n",
              "      <th>65</th>\n",
              "      <td>0.22</td>\n",
              "      <td>0.04</td>\n",
              "      <td>-0.05</td>\n",
              "      <td>2076</td>\n",
              "      <td>2.014934</td>\n",
              "      <td>0.000971</td>\n",
              "      <td>0.033719</td>\n",
              "      <td>0.528193</td>\n",
              "    </tr>\n",
              "    <tr>\n",
              "      <th>270</th>\n",
              "      <td>0.30</td>\n",
              "      <td>0.05</td>\n",
              "      <td>-0.05</td>\n",
              "      <td>1356</td>\n",
              "      <td>2.013948</td>\n",
              "      <td>0.001486</td>\n",
              "      <td>0.060730</td>\n",
              "      <td>0.530627</td>\n",
              "    </tr>\n",
              "    <tr>\n",
              "      <th>98</th>\n",
              "      <td>0.23</td>\n",
              "      <td>0.05</td>\n",
              "      <td>-0.02</td>\n",
              "      <td>2074</td>\n",
              "      <td>2.011512</td>\n",
              "      <td>0.000970</td>\n",
              "      <td>0.039277</td>\n",
              "      <td>0.503136</td>\n",
              "    </tr>\n",
              "    <tr>\n",
              "      <th>46</th>\n",
              "      <td>0.21</td>\n",
              "      <td>0.05</td>\n",
              "      <td>-0.04</td>\n",
              "      <td>2064</td>\n",
              "      <td>2.004938</td>\n",
              "      <td>0.000972</td>\n",
              "      <td>0.033885</td>\n",
              "      <td>0.525448</td>\n",
              "    </tr>\n",
              "    <tr>\n",
              "      <th>21</th>\n",
              "      <td>0.20</td>\n",
              "      <td>0.05</td>\n",
              "      <td>-0.04</td>\n",
              "      <td>2064</td>\n",
              "      <td>2.004938</td>\n",
              "      <td>0.000972</td>\n",
              "      <td>0.033885</td>\n",
              "      <td>0.525448</td>\n",
              "    </tr>\n",
              "    <tr>\n",
              "      <th>71</th>\n",
              "      <td>0.22</td>\n",
              "      <td>0.05</td>\n",
              "      <td>-0.04</td>\n",
              "      <td>2059</td>\n",
              "      <td>2.002058</td>\n",
              "      <td>0.000973</td>\n",
              "      <td>0.033838</td>\n",
              "      <td>0.528669</td>\n",
              "    </tr>\n",
              "    <tr>\n",
              "      <th>70</th>\n",
              "      <td>0.22</td>\n",
              "      <td>0.05</td>\n",
              "      <td>-0.05</td>\n",
              "      <td>2024</td>\n",
              "      <td>1.989464</td>\n",
              "      <td>0.000983</td>\n",
              "      <td>0.033678</td>\n",
              "      <td>0.521997</td>\n",
              "    </tr>\n",
              "    <tr>\n",
              "      <th>220</th>\n",
              "      <td>0.28</td>\n",
              "      <td>0.05</td>\n",
              "      <td>-0.05</td>\n",
              "      <td>1547</td>\n",
              "      <td>1.986218</td>\n",
              "      <td>0.001285</td>\n",
              "      <td>0.050790</td>\n",
              "      <td>0.531048</td>\n",
              "    </tr>\n",
              "    <tr>\n",
              "      <th>266</th>\n",
              "      <td>0.30</td>\n",
              "      <td>0.04</td>\n",
              "      <td>-0.04</td>\n",
              "      <td>1357</td>\n",
              "      <td>1.980363</td>\n",
              "      <td>0.001460</td>\n",
              "      <td>0.062090</td>\n",
              "      <td>0.532448</td>\n",
              "    </tr>\n",
              "    <tr>\n",
              "      <th>75</th>\n",
              "      <td>0.23</td>\n",
              "      <td>0.01</td>\n",
              "      <td>-0.05</td>\n",
              "      <td>2465</td>\n",
              "      <td>1.979573</td>\n",
              "      <td>0.000803</td>\n",
              "      <td>0.037306</td>\n",
              "      <td>0.601461</td>\n",
              "    </tr>\n",
              "    <tr>\n",
              "      <th>150</th>\n",
              "      <td>0.26</td>\n",
              "      <td>0.01</td>\n",
              "      <td>-0.05</td>\n",
              "      <td>2219</td>\n",
              "      <td>1.966259</td>\n",
              "      <td>0.000887</td>\n",
              "      <td>0.042820</td>\n",
              "      <td>0.602795</td>\n",
              "    </tr>\n",
              "    <tr>\n",
              "      <th>248</th>\n",
              "      <td>0.29</td>\n",
              "      <td>0.05</td>\n",
              "      <td>-0.02</td>\n",
              "      <td>1584</td>\n",
              "      <td>1.962734</td>\n",
              "      <td>0.001240</td>\n",
              "      <td>0.053204</td>\n",
              "      <td>0.501579</td>\n",
              "    </tr>\n",
              "    <tr>\n",
              "      <th>66</th>\n",
              "      <td>0.22</td>\n",
              "      <td>0.04</td>\n",
              "      <td>-0.04</td>\n",
              "      <td>2111</td>\n",
              "      <td>1.960680</td>\n",
              "      <td>0.000929</td>\n",
              "      <td>0.032626</td>\n",
              "      <td>0.528910</td>\n",
              "    </tr>\n",
              "    <tr>\n",
              "      <th>261</th>\n",
              "      <td>0.30</td>\n",
              "      <td>0.03</td>\n",
              "      <td>-0.04</td>\n",
              "      <td>1361</td>\n",
              "      <td>1.958334</td>\n",
              "      <td>0.001440</td>\n",
              "      <td>0.062890</td>\n",
              "      <td>0.534559</td>\n",
              "    </tr>\n",
              "    <tr>\n",
              "      <th>256</th>\n",
              "      <td>0.30</td>\n",
              "      <td>0.02</td>\n",
              "      <td>-0.04</td>\n",
              "      <td>1377</td>\n",
              "      <td>1.942521</td>\n",
              "      <td>0.001412</td>\n",
              "      <td>0.064285</td>\n",
              "      <td>0.550145</td>\n",
              "    </tr>\n",
              "    <tr>\n",
              "      <th>170</th>\n",
              "      <td>0.26</td>\n",
              "      <td>0.05</td>\n",
              "      <td>-0.05</td>\n",
              "      <td>1713</td>\n",
              "      <td>1.942266</td>\n",
              "      <td>0.001135</td>\n",
              "      <td>0.042955</td>\n",
              "      <td>0.526285</td>\n",
              "    </tr>\n",
              "    <tr>\n",
              "      <th>11</th>\n",
              "      <td>0.20</td>\n",
              "      <td>0.03</td>\n",
              "      <td>-0.04</td>\n",
              "      <td>2215</td>\n",
              "      <td>1.937326</td>\n",
              "      <td>0.000875</td>\n",
              "      <td>0.031561</td>\n",
              "      <td>0.532069</td>\n",
              "    </tr>\n",
              "    <tr>\n",
              "      <th>36</th>\n",
              "      <td>0.21</td>\n",
              "      <td>0.03</td>\n",
              "      <td>-0.04</td>\n",
              "      <td>2215</td>\n",
              "      <td>1.937326</td>\n",
              "      <td>0.000875</td>\n",
              "      <td>0.031561</td>\n",
              "      <td>0.532069</td>\n",
              "    </tr>\n",
              "    <tr>\n",
              "      <th>82</th>\n",
              "      <td>0.23</td>\n",
              "      <td>0.02</td>\n",
              "      <td>-0.03</td>\n",
              "      <td>2207</td>\n",
              "      <td>1.935930</td>\n",
              "      <td>0.000878</td>\n",
              "      <td>0.037464</td>\n",
              "      <td>0.549864</td>\n",
              "    </tr>\n",
              "    <tr>\n",
              "      <th>297</th>\n",
              "      <td>0.31</td>\n",
              "      <td>0.05</td>\n",
              "      <td>-0.03</td>\n",
              "      <td>1241</td>\n",
              "      <td>1.930884</td>\n",
              "      <td>0.001557</td>\n",
              "      <td>0.067167</td>\n",
              "      <td>0.518548</td>\n",
              "    </tr>\n",
              "    <tr>\n",
              "      <th>63</th>\n",
              "      <td>0.22</td>\n",
              "      <td>0.03</td>\n",
              "      <td>-0.02</td>\n",
              "      <td>2513</td>\n",
              "      <td>1.923127</td>\n",
              "      <td>0.000766</td>\n",
              "      <td>0.029994</td>\n",
              "      <td>0.511146</td>\n",
              "    </tr>\n",
              "    <tr>\n",
              "      <th>230</th>\n",
              "      <td>0.29</td>\n",
              "      <td>0.02</td>\n",
              "      <td>-0.05</td>\n",
              "      <td>1592</td>\n",
              "      <td>1.916690</td>\n",
              "      <td>0.001205</td>\n",
              "      <td>0.054336</td>\n",
              "      <td>0.544940</td>\n",
              "    </tr>\n",
              "    <tr>\n",
              "      <th>165</th>\n",
              "      <td>0.26</td>\n",
              "      <td>0.04</td>\n",
              "      <td>-0.05</td>\n",
              "      <td>1721</td>\n",
              "      <td>1.916429</td>\n",
              "      <td>0.001114</td>\n",
              "      <td>0.043153</td>\n",
              "      <td>0.529070</td>\n",
              "    </tr>\n",
              "    <tr>\n",
              "      <th>265</th>\n",
              "      <td>0.30</td>\n",
              "      <td>0.04</td>\n",
              "      <td>-0.05</td>\n",
              "      <td>1357</td>\n",
              "      <td>1.915510</td>\n",
              "      <td>0.001413</td>\n",
              "      <td>0.059355</td>\n",
              "      <td>0.532448</td>\n",
              "    </tr>\n",
              "    <tr>\n",
              "      <th>257</th>\n",
              "      <td>0.30</td>\n",
              "      <td>0.02</td>\n",
              "      <td>-0.03</td>\n",
              "      <td>1381</td>\n",
              "      <td>1.910153</td>\n",
              "      <td>0.001384</td>\n",
              "      <td>0.064940</td>\n",
              "      <td>0.542754</td>\n",
              "    </tr>\n",
              "    <tr>\n",
              "      <th>160</th>\n",
              "      <td>0.26</td>\n",
              "      <td>0.03</td>\n",
              "      <td>-0.05</td>\n",
              "      <td>1750</td>\n",
              "      <td>1.900262</td>\n",
              "      <td>0.001086</td>\n",
              "      <td>0.043030</td>\n",
              "      <td>0.536878</td>\n",
              "    </tr>\n",
              "    <tr>\n",
              "      <th>93</th>\n",
              "      <td>0.23</td>\n",
              "      <td>0.04</td>\n",
              "      <td>-0.02</td>\n",
              "      <td>2105</td>\n",
              "      <td>1.892837</td>\n",
              "      <td>0.000900</td>\n",
              "      <td>0.037081</td>\n",
              "      <td>0.503327</td>\n",
              "    </tr>\n",
              "  </tbody>\n",
              "</table>\n",
              "</div>\n",
              "    <div class=\"colab-df-buttons\">\n",
              "\n",
              "  <div class=\"colab-df-container\">\n",
              "    <button class=\"colab-df-convert\" onclick=\"convertToInteractive('df-e4b8ea8f-11c0-4361-a616-04dcf6408d38')\"\n",
              "            title=\"Convert this dataframe to an interactive table.\"\n",
              "            style=\"display:none;\">\n",
              "\n",
              "  <svg xmlns=\"http://www.w3.org/2000/svg\" height=\"24px\" viewBox=\"0 -960 960 960\">\n",
              "    <path d=\"M120-120v-720h720v720H120Zm60-500h600v-160H180v160Zm220 220h160v-160H400v160Zm0 220h160v-160H400v160ZM180-400h160v-160H180v160Zm440 0h160v-160H620v160ZM180-180h160v-160H180v160Zm440 0h160v-160H620v160Z\"/>\n",
              "  </svg>\n",
              "    </button>\n",
              "\n",
              "  <style>\n",
              "    .colab-df-container {\n",
              "      display:flex;\n",
              "      gap: 12px;\n",
              "    }\n",
              "\n",
              "    .colab-df-convert {\n",
              "      background-color: #E8F0FE;\n",
              "      border: none;\n",
              "      border-radius: 50%;\n",
              "      cursor: pointer;\n",
              "      display: none;\n",
              "      fill: #1967D2;\n",
              "      height: 32px;\n",
              "      padding: 0 0 0 0;\n",
              "      width: 32px;\n",
              "    }\n",
              "\n",
              "    .colab-df-convert:hover {\n",
              "      background-color: #E2EBFA;\n",
              "      box-shadow: 0px 1px 2px rgba(60, 64, 67, 0.3), 0px 1px 3px 1px rgba(60, 64, 67, 0.15);\n",
              "      fill: #174EA6;\n",
              "    }\n",
              "\n",
              "    .colab-df-buttons div {\n",
              "      margin-bottom: 4px;\n",
              "    }\n",
              "\n",
              "    [theme=dark] .colab-df-convert {\n",
              "      background-color: #3B4455;\n",
              "      fill: #D2E3FC;\n",
              "    }\n",
              "\n",
              "    [theme=dark] .colab-df-convert:hover {\n",
              "      background-color: #434B5C;\n",
              "      box-shadow: 0px 1px 3px 1px rgba(0, 0, 0, 0.15);\n",
              "      filter: drop-shadow(0px 1px 2px rgba(0, 0, 0, 0.3));\n",
              "      fill: #FFFFFF;\n",
              "    }\n",
              "  </style>\n",
              "\n",
              "    <script>\n",
              "      const buttonEl =\n",
              "        document.querySelector('#df-e4b8ea8f-11c0-4361-a616-04dcf6408d38 button.colab-df-convert');\n",
              "      buttonEl.style.display =\n",
              "        google.colab.kernel.accessAllowed ? 'block' : 'none';\n",
              "\n",
              "      async function convertToInteractive(key) {\n",
              "        const element = document.querySelector('#df-e4b8ea8f-11c0-4361-a616-04dcf6408d38');\n",
              "        const dataTable =\n",
              "          await google.colab.kernel.invokeFunction('convertToInteractive',\n",
              "                                                    [key], {});\n",
              "        if (!dataTable) return;\n",
              "\n",
              "        const docLinkHtml = 'Like what you see? Visit the ' +\n",
              "          '<a target=\"_blank\" href=https://colab.research.google.com/notebooks/data_table.ipynb>data table notebook</a>'\n",
              "          + ' to learn more about interactive tables.';\n",
              "        element.innerHTML = '';\n",
              "        dataTable['output_type'] = 'display_data';\n",
              "        await google.colab.output.renderOutput(dataTable, element);\n",
              "        const docLink = document.createElement('div');\n",
              "        docLink.innerHTML = docLinkHtml;\n",
              "        element.appendChild(docLink);\n",
              "      }\n",
              "    </script>\n",
              "  </div>\n",
              "\n",
              "\n",
              "<div id=\"df-cd1a9e0d-7379-437f-aed7-a00f219bb696\">\n",
              "  <button class=\"colab-df-quickchart\" onclick=\"quickchart('df-cd1a9e0d-7379-437f-aed7-a00f219bb696')\"\n",
              "            title=\"Suggest charts\"\n",
              "            style=\"display:none;\">\n",
              "\n",
              "<svg xmlns=\"http://www.w3.org/2000/svg\" height=\"24px\"viewBox=\"0 0 24 24\"\n",
              "     width=\"24px\">\n",
              "    <g>\n",
              "        <path d=\"M19 3H5c-1.1 0-2 .9-2 2v14c0 1.1.9 2 2 2h14c1.1 0 2-.9 2-2V5c0-1.1-.9-2-2-2zM9 17H7v-7h2v7zm4 0h-2V7h2v10zm4 0h-2v-4h2v4z\"/>\n",
              "    </g>\n",
              "</svg>\n",
              "  </button>\n",
              "\n",
              "<style>\n",
              "  .colab-df-quickchart {\n",
              "      --bg-color: #E8F0FE;\n",
              "      --fill-color: #1967D2;\n",
              "      --hover-bg-color: #E2EBFA;\n",
              "      --hover-fill-color: #174EA6;\n",
              "      --disabled-fill-color: #AAA;\n",
              "      --disabled-bg-color: #DDD;\n",
              "  }\n",
              "\n",
              "  [theme=dark] .colab-df-quickchart {\n",
              "      --bg-color: #3B4455;\n",
              "      --fill-color: #D2E3FC;\n",
              "      --hover-bg-color: #434B5C;\n",
              "      --hover-fill-color: #FFFFFF;\n",
              "      --disabled-bg-color: #3B4455;\n",
              "      --disabled-fill-color: #666;\n",
              "  }\n",
              "\n",
              "  .colab-df-quickchart {\n",
              "    background-color: var(--bg-color);\n",
              "    border: none;\n",
              "    border-radius: 50%;\n",
              "    cursor: pointer;\n",
              "    display: none;\n",
              "    fill: var(--fill-color);\n",
              "    height: 32px;\n",
              "    padding: 0;\n",
              "    width: 32px;\n",
              "  }\n",
              "\n",
              "  .colab-df-quickchart:hover {\n",
              "    background-color: var(--hover-bg-color);\n",
              "    box-shadow: 0 1px 2px rgba(60, 64, 67, 0.3), 0 1px 3px 1px rgba(60, 64, 67, 0.15);\n",
              "    fill: var(--button-hover-fill-color);\n",
              "  }\n",
              "\n",
              "  .colab-df-quickchart-complete:disabled,\n",
              "  .colab-df-quickchart-complete:disabled:hover {\n",
              "    background-color: var(--disabled-bg-color);\n",
              "    fill: var(--disabled-fill-color);\n",
              "    box-shadow: none;\n",
              "  }\n",
              "\n",
              "  .colab-df-spinner {\n",
              "    border: 2px solid var(--fill-color);\n",
              "    border-color: transparent;\n",
              "    border-bottom-color: var(--fill-color);\n",
              "    animation:\n",
              "      spin 1s steps(1) infinite;\n",
              "  }\n",
              "\n",
              "  @keyframes spin {\n",
              "    0% {\n",
              "      border-color: transparent;\n",
              "      border-bottom-color: var(--fill-color);\n",
              "      border-left-color: var(--fill-color);\n",
              "    }\n",
              "    20% {\n",
              "      border-color: transparent;\n",
              "      border-left-color: var(--fill-color);\n",
              "      border-top-color: var(--fill-color);\n",
              "    }\n",
              "    30% {\n",
              "      border-color: transparent;\n",
              "      border-left-color: var(--fill-color);\n",
              "      border-top-color: var(--fill-color);\n",
              "      border-right-color: var(--fill-color);\n",
              "    }\n",
              "    40% {\n",
              "      border-color: transparent;\n",
              "      border-right-color: var(--fill-color);\n",
              "      border-top-color: var(--fill-color);\n",
              "    }\n",
              "    60% {\n",
              "      border-color: transparent;\n",
              "      border-right-color: var(--fill-color);\n",
              "    }\n",
              "    80% {\n",
              "      border-color: transparent;\n",
              "      border-right-color: var(--fill-color);\n",
              "      border-bottom-color: var(--fill-color);\n",
              "    }\n",
              "    90% {\n",
              "      border-color: transparent;\n",
              "      border-bottom-color: var(--fill-color);\n",
              "    }\n",
              "  }\n",
              "</style>\n",
              "\n",
              "  <script>\n",
              "    async function quickchart(key) {\n",
              "      const quickchartButtonEl =\n",
              "        document.querySelector('#' + key + ' button');\n",
              "      quickchartButtonEl.disabled = true;  // To prevent multiple clicks.\n",
              "      quickchartButtonEl.classList.add('colab-df-spinner');\n",
              "      try {\n",
              "        const charts = await google.colab.kernel.invokeFunction(\n",
              "            'suggestCharts', [key], {});\n",
              "      } catch (error) {\n",
              "        console.error('Error during call to suggestCharts:', error);\n",
              "      }\n",
              "      quickchartButtonEl.classList.remove('colab-df-spinner');\n",
              "      quickchartButtonEl.classList.add('colab-df-quickchart-complete');\n",
              "    }\n",
              "    (() => {\n",
              "      let quickchartButtonEl =\n",
              "        document.querySelector('#df-cd1a9e0d-7379-437f-aed7-a00f219bb696 button');\n",
              "      quickchartButtonEl.style.display =\n",
              "        google.colab.kernel.accessAllowed ? 'block' : 'none';\n",
              "    })();\n",
              "  </script>\n",
              "</div>\n",
              "\n",
              "    </div>\n",
              "  </div>\n"
            ],
            "application/vnd.google.colaboratory.intrinsic+json": {
              "type": "dataframe",
              "variable_name": "results_df_sorted",
              "summary": "{\n  \"name\": \"results_df_sorted\",\n  \"rows\": 375,\n  \"fields\": [\n    {\n      \"column\": \"Threshold\",\n      \"properties\": {\n        \"dtype\": \"number\",\n        \"std\": 0.04326266004316766,\n        \"min\": 0.2,\n        \"max\": 0.34,\n        \"num_unique_values\": 15,\n        \"samples\": [\n          0.28,\n          0.27,\n          0.21\n        ],\n        \"semantic_type\": \"\",\n        \"description\": \"\"\n      }\n    },\n    {\n      \"column\": \"Take Profit Percent\",\n      \"properties\": {\n        \"dtype\": \"number\",\n        \"std\": 0.01416102960092552,\n        \"min\": 0.01,\n        \"max\": 0.05,\n        \"num_unique_values\": 5,\n        \"samples\": [\n          0.02,\n          0.01,\n          0.04\n        ],\n        \"semantic_type\": \"\",\n        \"description\": \"\"\n      }\n    },\n    {\n      \"column\": \"Stop Loss Percent\",\n      \"properties\": {\n        \"dtype\": \"number\",\n        \"std\": 0.01416102960092552,\n        \"min\": -0.05,\n        \"max\": -0.01,\n        \"num_unique_values\": 5,\n        \"samples\": [\n          -0.04,\n          -0.01,\n          -0.03\n        ],\n        \"semantic_type\": \"\",\n        \"description\": \"\"\n      }\n    },\n    {\n      \"column\": \"Number of Trades\",\n      \"properties\": {\n        \"dtype\": \"number\",\n        \"std\": 783,\n        \"min\": 0,\n        \"max\": 4427,\n        \"num_unique_values\": 249,\n        \"samples\": [\n          1382,\n          1356,\n          1554\n        ],\n        \"semantic_type\": \"\",\n        \"description\": \"\"\n      }\n    },\n    {\n      \"column\": \"Total Return\",\n      \"properties\": {\n        \"dtype\": \"number\",\n        \"std\": 0.5424493633523204,\n        \"min\": 0.0,\n        \"max\": 2.5357444694303597,\n        \"num_unique_values\": 301,\n        \"samples\": [\n          1.3673455644918018,\n          0.6141290339523978,\n          1.1773190372213176\n        ],\n        \"semantic_type\": \"\",\n        \"description\": \"\"\n      }\n    },\n    {\n      \"column\": \"Average Return per Trade\",\n      \"properties\": {\n        \"dtype\": \"number\",\n        \"std\": 0.00037222918294548636,\n        \"min\": 0.0,\n        \"max\": 0.0017457266175804288,\n        \"num_unique_values\": 301,\n        \"samples\": [\n          0.0012121857841239378,\n          0.00026267281178460127,\n          0.0011075437791357645\n        ],\n        \"semantic_type\": \"\",\n        \"description\": \"\"\n      }\n    },\n    {\n      \"column\": \"Sharpe Ratio\",\n      \"properties\": {\n        \"dtype\": \"number\",\n        \"std\": 0.014626313215611466,\n        \"min\": 0.007626304130644851,\n        \"max\": 0.07366879707458056,\n        \"num_unique_values\": 300,\n        \"samples\": [\n          0.053625547909653536,\n          0.05149500834179054,\n          0.030356419564919624\n        ],\n        \"semantic_type\": \"\",\n        \"description\": \"\"\n      }\n    },\n    {\n      \"column\": \"Win Rate\",\n      \"properties\": {\n        \"dtype\": \"number\",\n        \"std\": 0.13725783262361174,\n        \"min\": 0.0,\n        \"max\": 0.6064400715563506,\n        \"num_unique_values\": 290,\n        \"samples\": [\n          0.5248547449967721,\n          0.581838154522153,\n          0.5235873509590462\n        ],\n        \"semantic_type\": \"\",\n        \"description\": \"\"\n      }\n    }\n  ]\n}"
            }
          },
          "metadata": {},
          "execution_count": 114
        }
      ]
    },
    {
      "cell_type": "markdown",
      "source": [
        "Checkpoint: results_df_sorted data"
      ],
      "metadata": {
        "id": "AlkZVhFktaBG"
      }
    },
    {
      "cell_type": "code",
      "source": [
        "#results_df_sorted.to_csv('/content/drive/MyDrive/Datasets/results_df_sorted.csv', index=False)"
      ],
      "metadata": {
        "id": "x1CzNc6etUYR"
      },
      "execution_count": null,
      "outputs": []
    },
    {
      "cell_type": "code",
      "source": [
        "#results_df_sorted = pd.read_csv('/content/drive/MyDrive/Datasets/results_df_sorted.csv')"
      ],
      "metadata": {
        "id": "FJFKQbGUvf8p"
      },
      "execution_count": null,
      "outputs": []
    },
    {
      "cell_type": "markdown",
      "source": [
        "Based on the results of the simulations, I can infer a few things:\n",
        "\n",
        "*   Lower thresholds seem to perform well\n",
        "*   Higher Thresholds ---> Higher Sharpe Ratio, less risk being taken.\n",
        "*   Higher Thresholds don't always seem to have the highest win rates.\n",
        "\n",
        "\n"
      ],
      "metadata": {
        "id": "5t2mSINUurB6"
      }
    },
    {
      "cell_type": "markdown",
      "source": [
        "\n",
        "\n",
        "*   In the settings with the top 50 returns, there are some instances of thresholds over 0.30, which may indicate the model is having an impact\n",
        "\n"
      ],
      "metadata": {
        "id": "laEkgAF_v68N"
      }
    },
    {
      "cell_type": "markdown",
      "source": [
        "## Test Strategy"
      ],
      "metadata": {
        "id": "hJPaIKKFjr-q"
      }
    },
    {
      "cell_type": "markdown",
      "source": [
        "I will use a threshold of 0.31, TP of 0.05, and Stop Loss of -0.05. This option produced high returns, while also having a higher Sharpe Ratio than the other options"
      ],
      "metadata": {
        "id": "rF5tHWabupfn"
      }
    },
    {
      "cell_type": "markdown",
      "source": [
        "**How good does it do on test_1 data?**"
      ],
      "metadata": {
        "id": "myOTPjuZ0oMd"
      }
    },
    {
      "cell_type": "markdown",
      "source": [
        "Predictions"
      ],
      "metadata": {
        "id": "hroRANB_5zC7"
      }
    },
    {
      "cell_type": "code",
      "source": [
        "predictions = final_model.predict_proba(X_test_1)[:, 1]\n",
        "target = Y_test_1\n",
        "X_Results_test_1 = X_test_1.copy()\n",
        "X_Results_test_1['prediction'] = predictions\n",
        "X_Results_test_1['target'] = target"
      ],
      "metadata": {
        "id": "FxThRX6Ck407"
      },
      "execution_count": null,
      "outputs": []
    },
    {
      "cell_type": "markdown",
      "source": [
        "Simulation"
      ],
      "metadata": {
        "id": "G9DPaiH951qO"
      }
    },
    {
      "cell_type": "code",
      "source": [
        "threshold = 0.31\n",
        "take_profit_percent = 0.05\n",
        "stop_loss_percent = -0.05\n",
        "waiting_period = 15\n",
        "\n",
        "results = []\n",
        "\n",
        "trade_returns = []\n",
        "num_trades = 0\n",
        "total_return = 0\n",
        "in_position = False\n",
        "entry_index = None\n",
        "\n",
        "\n",
        "for i in range(len(X_Results)):\n",
        "    # Check if prediction is above threshold and not currently in a position\n",
        "    if X_Results['prediction'].iloc[i] > threshold and not in_position:\n",
        "        # Buy at the close price\n",
        "        entry_price = X_Results['close'].iloc[i]\n",
        "        entry_index = i\n",
        "        in_position = True\n",
        "        num_trades += 1\n",
        "\n",
        "\n",
        "    elif in_position:\n",
        "        # Sell at the close price if take profit or stop loss condition is met or waiting period is over\n",
        "        if (X_Results['close'].iloc[i] / entry_price > 1 + take_profit_percent) or \\\n",
        "            (X_Results['close'].iloc[i] / entry_price < 1 + stop_loss_percent) or \\\n",
        "            (i - entry_index >= waiting_period):\n",
        "            # Calculate trade return\n",
        "            trade_return = (X_Results['close'].iloc[i] - entry_price) / entry_price\n",
        "            trade_returns.append(trade_return)\n",
        "            total_return += trade_return\n",
        "            in_position = False\n",
        "\n",
        "# Calculate metrics\n",
        "avg_return_per_trade = sum(trade_returns) / len(trade_returns) if trade_returns else 0\n",
        "sharpe_ratio = avg_return_per_trade / (pd.Series(trade_returns).std() + 1e-6)  # Avoid division by zero\n",
        "win_rate = sum(1 for r in trade_returns if r > 0) / len(trade_returns) if trade_returns else 0\n",
        "\n",
        "# Store results for this combination of Threshold, Take Profit, and Stop Loss\n",
        "results.append({\n",
        "    'Threshold': threshold,\n",
        "    'Take Profit Percent': take_profit_percent,\n",
        "    'Stop Loss Percent': stop_loss_percent,\n",
        "    'Number of Trades': num_trades,\n",
        "    'Total Return': total_return,\n",
        "    'Average Return per Trade': avg_return_per_trade,\n",
        "    'Sharpe Ratio': sharpe_ratio,\n",
        "    'Win Rate': win_rate\n",
        "})\n",
        "\n",
        "# Create a DataFrame from the results\n",
        "results_test_1_df = pd.DataFrame(results)"
      ],
      "metadata": {
        "id": "X-jyASe0jwo7"
      },
      "execution_count": null,
      "outputs": []
    },
    {
      "cell_type": "code",
      "source": [
        "results_test_1_df"
      ],
      "metadata": {
        "colab": {
          "base_uri": "https://localhost:8080/",
          "height": 89
        },
        "id": "BB8CTk17uQVk",
        "outputId": "1e826838-3797-49c9-804c-fa9cc6e2e05f"
      },
      "execution_count": null,
      "outputs": [
        {
          "output_type": "execute_result",
          "data": {
            "text/plain": [
              "   Threshold  Take Profit Percent  Stop Loss Percent  Number of Trades  \\\n",
              "0       0.31                 0.05              -0.05              1239   \n",
              "\n",
              "   Total Return  Average Return per Trade  Sharpe Ratio  Win Rate  \n",
              "0       2.16121                  0.001746      0.073669  0.527464  "
            ],
            "text/html": [
              "\n",
              "  <div id=\"df-f2054214-4b3d-4519-88fb-6a2f1dc795d6\" class=\"colab-df-container\">\n",
              "    <div>\n",
              "<style scoped>\n",
              "    .dataframe tbody tr th:only-of-type {\n",
              "        vertical-align: middle;\n",
              "    }\n",
              "\n",
              "    .dataframe tbody tr th {\n",
              "        vertical-align: top;\n",
              "    }\n",
              "\n",
              "    .dataframe thead th {\n",
              "        text-align: right;\n",
              "    }\n",
              "</style>\n",
              "<table border=\"1\" class=\"dataframe\">\n",
              "  <thead>\n",
              "    <tr style=\"text-align: right;\">\n",
              "      <th></th>\n",
              "      <th>Threshold</th>\n",
              "      <th>Take Profit Percent</th>\n",
              "      <th>Stop Loss Percent</th>\n",
              "      <th>Number of Trades</th>\n",
              "      <th>Total Return</th>\n",
              "      <th>Average Return per Trade</th>\n",
              "      <th>Sharpe Ratio</th>\n",
              "      <th>Win Rate</th>\n",
              "    </tr>\n",
              "  </thead>\n",
              "  <tbody>\n",
              "    <tr>\n",
              "      <th>0</th>\n",
              "      <td>0.31</td>\n",
              "      <td>0.05</td>\n",
              "      <td>-0.05</td>\n",
              "      <td>1239</td>\n",
              "      <td>2.16121</td>\n",
              "      <td>0.001746</td>\n",
              "      <td>0.073669</td>\n",
              "      <td>0.527464</td>\n",
              "    </tr>\n",
              "  </tbody>\n",
              "</table>\n",
              "</div>\n",
              "    <div class=\"colab-df-buttons\">\n",
              "\n",
              "  <div class=\"colab-df-container\">\n",
              "    <button class=\"colab-df-convert\" onclick=\"convertToInteractive('df-f2054214-4b3d-4519-88fb-6a2f1dc795d6')\"\n",
              "            title=\"Convert this dataframe to an interactive table.\"\n",
              "            style=\"display:none;\">\n",
              "\n",
              "  <svg xmlns=\"http://www.w3.org/2000/svg\" height=\"24px\" viewBox=\"0 -960 960 960\">\n",
              "    <path d=\"M120-120v-720h720v720H120Zm60-500h600v-160H180v160Zm220 220h160v-160H400v160Zm0 220h160v-160H400v160ZM180-400h160v-160H180v160Zm440 0h160v-160H620v160ZM180-180h160v-160H180v160Zm440 0h160v-160H620v160Z\"/>\n",
              "  </svg>\n",
              "    </button>\n",
              "\n",
              "  <style>\n",
              "    .colab-df-container {\n",
              "      display:flex;\n",
              "      gap: 12px;\n",
              "    }\n",
              "\n",
              "    .colab-df-convert {\n",
              "      background-color: #E8F0FE;\n",
              "      border: none;\n",
              "      border-radius: 50%;\n",
              "      cursor: pointer;\n",
              "      display: none;\n",
              "      fill: #1967D2;\n",
              "      height: 32px;\n",
              "      padding: 0 0 0 0;\n",
              "      width: 32px;\n",
              "    }\n",
              "\n",
              "    .colab-df-convert:hover {\n",
              "      background-color: #E2EBFA;\n",
              "      box-shadow: 0px 1px 2px rgba(60, 64, 67, 0.3), 0px 1px 3px 1px rgba(60, 64, 67, 0.15);\n",
              "      fill: #174EA6;\n",
              "    }\n",
              "\n",
              "    .colab-df-buttons div {\n",
              "      margin-bottom: 4px;\n",
              "    }\n",
              "\n",
              "    [theme=dark] .colab-df-convert {\n",
              "      background-color: #3B4455;\n",
              "      fill: #D2E3FC;\n",
              "    }\n",
              "\n",
              "    [theme=dark] .colab-df-convert:hover {\n",
              "      background-color: #434B5C;\n",
              "      box-shadow: 0px 1px 3px 1px rgba(0, 0, 0, 0.15);\n",
              "      filter: drop-shadow(0px 1px 2px rgba(0, 0, 0, 0.3));\n",
              "      fill: #FFFFFF;\n",
              "    }\n",
              "  </style>\n",
              "\n",
              "    <script>\n",
              "      const buttonEl =\n",
              "        document.querySelector('#df-f2054214-4b3d-4519-88fb-6a2f1dc795d6 button.colab-df-convert');\n",
              "      buttonEl.style.display =\n",
              "        google.colab.kernel.accessAllowed ? 'block' : 'none';\n",
              "\n",
              "      async function convertToInteractive(key) {\n",
              "        const element = document.querySelector('#df-f2054214-4b3d-4519-88fb-6a2f1dc795d6');\n",
              "        const dataTable =\n",
              "          await google.colab.kernel.invokeFunction('convertToInteractive',\n",
              "                                                    [key], {});\n",
              "        if (!dataTable) return;\n",
              "\n",
              "        const docLinkHtml = 'Like what you see? Visit the ' +\n",
              "          '<a target=\"_blank\" href=https://colab.research.google.com/notebooks/data_table.ipynb>data table notebook</a>'\n",
              "          + ' to learn more about interactive tables.';\n",
              "        element.innerHTML = '';\n",
              "        dataTable['output_type'] = 'display_data';\n",
              "        await google.colab.output.renderOutput(dataTable, element);\n",
              "        const docLink = document.createElement('div');\n",
              "        docLink.innerHTML = docLinkHtml;\n",
              "        element.appendChild(docLink);\n",
              "      }\n",
              "    </script>\n",
              "  </div>\n",
              "\n",
              "\n",
              "  <div id=\"id_0dddf06e-3e37-4847-8f56-00525e387109\">\n",
              "    <style>\n",
              "      .colab-df-generate {\n",
              "        background-color: #E8F0FE;\n",
              "        border: none;\n",
              "        border-radius: 50%;\n",
              "        cursor: pointer;\n",
              "        display: none;\n",
              "        fill: #1967D2;\n",
              "        height: 32px;\n",
              "        padding: 0 0 0 0;\n",
              "        width: 32px;\n",
              "      }\n",
              "\n",
              "      .colab-df-generate:hover {\n",
              "        background-color: #E2EBFA;\n",
              "        box-shadow: 0px 1px 2px rgba(60, 64, 67, 0.3), 0px 1px 3px 1px rgba(60, 64, 67, 0.15);\n",
              "        fill: #174EA6;\n",
              "      }\n",
              "\n",
              "      [theme=dark] .colab-df-generate {\n",
              "        background-color: #3B4455;\n",
              "        fill: #D2E3FC;\n",
              "      }\n",
              "\n",
              "      [theme=dark] .colab-df-generate:hover {\n",
              "        background-color: #434B5C;\n",
              "        box-shadow: 0px 1px 3px 1px rgba(0, 0, 0, 0.15);\n",
              "        filter: drop-shadow(0px 1px 2px rgba(0, 0, 0, 0.3));\n",
              "        fill: #FFFFFF;\n",
              "      }\n",
              "    </style>\n",
              "    <button class=\"colab-df-generate\" onclick=\"generateWithVariable('results_test_1_df')\"\n",
              "            title=\"Generate code using this dataframe.\"\n",
              "            style=\"display:none;\">\n",
              "\n",
              "  <svg xmlns=\"http://www.w3.org/2000/svg\" height=\"24px\"viewBox=\"0 0 24 24\"\n",
              "       width=\"24px\">\n",
              "    <path d=\"M7,19H8.4L18.45,9,17,7.55,7,17.6ZM5,21V16.75L18.45,3.32a2,2,0,0,1,2.83,0l1.4,1.43a1.91,1.91,0,0,1,.58,1.4,1.91,1.91,0,0,1-.58,1.4L9.25,21ZM18.45,9,17,7.55Zm-12,3A5.31,5.31,0,0,0,4.9,8.1,5.31,5.31,0,0,0,1,6.5,5.31,5.31,0,0,0,4.9,4.9,5.31,5.31,0,0,0,6.5,1,5.31,5.31,0,0,0,8.1,4.9,5.31,5.31,0,0,0,12,6.5,5.46,5.46,0,0,0,6.5,12Z\"/>\n",
              "  </svg>\n",
              "    </button>\n",
              "    <script>\n",
              "      (() => {\n",
              "      const buttonEl =\n",
              "        document.querySelector('#id_0dddf06e-3e37-4847-8f56-00525e387109 button.colab-df-generate');\n",
              "      buttonEl.style.display =\n",
              "        google.colab.kernel.accessAllowed ? 'block' : 'none';\n",
              "\n",
              "      buttonEl.onclick = () => {\n",
              "        google.colab.notebook.generateWithVariable('results_test_1_df');\n",
              "      }\n",
              "      })();\n",
              "    </script>\n",
              "  </div>\n",
              "\n",
              "    </div>\n",
              "  </div>\n"
            ],
            "application/vnd.google.colaboratory.intrinsic+json": {
              "type": "dataframe",
              "variable_name": "results_test_1_df",
              "summary": "{\n  \"name\": \"results_test_1_df\",\n  \"rows\": 1,\n  \"fields\": [\n    {\n      \"column\": \"Threshold\",\n      \"properties\": {\n        \"dtype\": \"number\",\n        \"std\": null,\n        \"min\": 0.31,\n        \"max\": 0.31,\n        \"num_unique_values\": 1,\n        \"samples\": [\n          0.31\n        ],\n        \"semantic_type\": \"\",\n        \"description\": \"\"\n      }\n    },\n    {\n      \"column\": \"Take Profit Percent\",\n      \"properties\": {\n        \"dtype\": \"number\",\n        \"std\": null,\n        \"min\": 0.05,\n        \"max\": 0.05,\n        \"num_unique_values\": 1,\n        \"samples\": [\n          0.05\n        ],\n        \"semantic_type\": \"\",\n        \"description\": \"\"\n      }\n    },\n    {\n      \"column\": \"Stop Loss Percent\",\n      \"properties\": {\n        \"dtype\": \"number\",\n        \"std\": null,\n        \"min\": -0.05,\n        \"max\": -0.05,\n        \"num_unique_values\": 1,\n        \"samples\": [\n          -0.05\n        ],\n        \"semantic_type\": \"\",\n        \"description\": \"\"\n      }\n    },\n    {\n      \"column\": \"Number of Trades\",\n      \"properties\": {\n        \"dtype\": \"number\",\n        \"std\": null,\n        \"min\": 1239,\n        \"max\": 1239,\n        \"num_unique_values\": 1,\n        \"samples\": [\n          1239\n        ],\n        \"semantic_type\": \"\",\n        \"description\": \"\"\n      }\n    },\n    {\n      \"column\": \"Total Return\",\n      \"properties\": {\n        \"dtype\": \"number\",\n        \"std\": null,\n        \"min\": 2.161209552564571,\n        \"max\": 2.161209552564571,\n        \"num_unique_values\": 1,\n        \"samples\": [\n          2.161209552564571\n        ],\n        \"semantic_type\": \"\",\n        \"description\": \"\"\n      }\n    },\n    {\n      \"column\": \"Average Return per Trade\",\n      \"properties\": {\n        \"dtype\": \"number\",\n        \"std\": null,\n        \"min\": 0.0017457266175804288,\n        \"max\": 0.0017457266175804288,\n        \"num_unique_values\": 1,\n        \"samples\": [\n          0.0017457266175804288\n        ],\n        \"semantic_type\": \"\",\n        \"description\": \"\"\n      }\n    },\n    {\n      \"column\": \"Sharpe Ratio\",\n      \"properties\": {\n        \"dtype\": \"number\",\n        \"std\": null,\n        \"min\": 0.07366879707458056,\n        \"max\": 0.07366879707458056,\n        \"num_unique_values\": 1,\n        \"samples\": [\n          0.07366879707458056\n        ],\n        \"semantic_type\": \"\",\n        \"description\": \"\"\n      }\n    },\n    {\n      \"column\": \"Win Rate\",\n      \"properties\": {\n        \"dtype\": \"number\",\n        \"std\": null,\n        \"min\": 0.5274636510500808,\n        \"max\": 0.5274636510500808,\n        \"num_unique_values\": 1,\n        \"samples\": [\n          0.5274636510500808\n        ],\n        \"semantic_type\": \"\",\n        \"description\": \"\"\n      }\n    }\n  ]\n}"
            }
          },
          "metadata": {},
          "execution_count": 53
        }
      ]
    },
    {
      "cell_type": "markdown",
      "source": [
        "# Summary"
      ],
      "metadata": {
        "id": "rQTdTgtS0rwX"
      }
    },
    {
      "cell_type": "markdown",
      "source": [
        "There are various conclusions that can be made for this strategy,\n",
        "\n",
        "*   Train/Test Performance\n",
        "  *   I found an optimal threshold for the model prediction to be 0.31, with TP of 5% and SL of -5%\n",
        "  *   Based on this strategy, we achieved over 200% return on the test data over less than a year.\n",
        "  *   The train data achieved a 250% return on it's best thresholds, however that was over more than 3 years\n",
        "  *   The average return per trade on the TEST data was 0.0017. While low, a positive return is a good sign\n",
        "  *   The Sharpe Ratio of 0.074 when testing and training the strategy is concerning. While we achieve great returns, it seems the risk to reward ratio is off. A Sharpe Ratio greater than 1 is seen as positive.\n",
        "\n",
        "\n",
        "*   Potential Edits\n",
        "  *   Although the Target variable seemed more realistic than my initial thought of using 98th Percentile Returns, more research could be done into the range of returns that are achieved. It seems the model predicted many small returns\n",
        "  *   More features could be added to this model to make it more robust. Perhaps more features capturing the recent trends in return\n",
        "  *  My strategy can only be in one position at once, and only tries 5 different Stop Loss and Take Profit thresholds. Additionally, I could try more thresholds for my prediction probabilities\n",
        "\n",
        "\n",
        "\n"
      ],
      "metadata": {
        "id": "5pvE2RxI0v9s"
      }
    }
  ],
  "metadata": {
    "colab": {
      "provenance": [],
      "gpuType": "T4"
    },
    "kernelspec": {
      "display_name": "Python 3",
      "name": "python3"
    },
    "language_info": {
      "name": "python"
    }
  },
  "nbformat": 4,
  "nbformat_minor": 0
}